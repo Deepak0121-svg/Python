{
 "cells": [
  {
   "cell_type": "code",
   "execution_count": 22,
   "id": "8520ec78-b655-4b24-910b-78c055845de4",
   "metadata": {},
   "outputs": [],
   "source": [
    "str_1=\"Deepak\""
   ]
  },
  {
   "cell_type": "code",
   "execution_count": 23,
   "id": "c1f9a3c6-36d4-4053-b5b8-c21d999ecc62",
   "metadata": {},
   "outputs": [
    {
     "name": "stdout",
     "output_type": "stream",
     "text": [
      "Deepak\n"
     ]
    }
   ],
   "source": [
    "print(str_1)"
   ]
  },
  {
   "cell_type": "code",
   "execution_count": 24,
   "id": "29db4b0a-aa8d-4008-a568-25649e628fa3",
   "metadata": {},
   "outputs": [],
   "source": [
    "str=\"Deepak's Book\""
   ]
  },
  {
   "cell_type": "code",
   "execution_count": 25,
   "id": "f7408ded-8e2f-4399-9e93-48a5b6698b01",
   "metadata": {},
   "outputs": [
    {
     "name": "stdout",
     "output_type": "stream",
     "text": [
      "Deepak's Book\n"
     ]
    }
   ],
   "source": [
    "print(str)"
   ]
  },
  {
   "cell_type": "code",
   "execution_count": 26,
   "id": "d0e68622-5917-4f76-b6a2-d4bc15e42ce6",
   "metadata": {},
   "outputs": [],
   "source": [
    "str_2='Demon,\"I\\'m a Devil\".'"
   ]
  },
  {
   "cell_type": "code",
   "execution_count": 27,
   "id": "0bf5ef52-e6a2-4618-94b8-cff151dc507c",
   "metadata": {},
   "outputs": [
    {
     "name": "stdout",
     "output_type": "stream",
     "text": [
      "Demon,\"I'm a Devil\".\n"
     ]
    }
   ],
   "source": [
    "print(str_2)"
   ]
  },
  {
   "cell_type": "code",
   "execution_count": 8,
   "id": "5d412b4f-37fd-4d5a-9237-f2ef365f8fe6",
   "metadata": {},
   "outputs": [
    {
     "name": "stdout",
     "output_type": "stream",
     "text": [
      "Hello everyone\n",
      "welcome to learn python\n"
     ]
    }
   ],
   "source": [
    "# multiple string \n",
    "strs= '''Hello everyone\n",
    "welcome to learn python'''\n",
    "print(strs)\n"
   ]
  },
  {
   "cell_type": "code",
   "execution_count": 29,
   "id": "cb6516b6-ad55-4484-aba2-7222a60c73ac",
   "metadata": {},
   "outputs": [
    {
     "data": {
      "text/plain": [
       "38"
      ]
     },
     "execution_count": 29,
     "metadata": {},
     "output_type": "execute_result"
    }
   ],
   "source": [
    "len(strs)"
   ]
  },
  {
   "cell_type": "code",
   "execution_count": 30,
   "id": "e6def20b-0e5e-430b-b0f9-6712b2fe42c3",
   "metadata": {},
   "outputs": [],
   "source": [
    "char=\"Demon\""
   ]
  },
  {
   "cell_type": "code",
   "execution_count": 31,
   "id": "2cbe0fb1-3aa9-46e7-95bf-a0ecb047f272",
   "metadata": {},
   "outputs": [
    {
     "data": {
      "text/plain": [
       "'m'"
      ]
     },
     "execution_count": 31,
     "metadata": {},
     "output_type": "execute_result"
    }
   ],
   "source": [
    "char[2]"
   ]
  },
  {
   "cell_type": "code",
   "execution_count": 32,
   "id": "6e3ea6cb-78aa-4197-b5f4-ade837e9c4dc",
   "metadata": {},
   "outputs": [],
   "source": [
    "var=\"KAKASHI\""
   ]
  },
  {
   "cell_type": "code",
   "execution_count": 77,
   "id": "2f4893d8-e3bb-444a-a16c-60cb0a951ca7",
   "metadata": {},
   "outputs": [
    {
     "name": "stdout",
     "output_type": "stream",
     "text": [
      "KAKASHI"
     ]
    }
   ],
   "source": [
    "i=var\n",
    "for i in var:\n",
    "    print(i,end=\"\")"
   ]
  },
  {
   "cell_type": "code",
   "execution_count": 34,
   "id": "e707f801-3ca8-40d4-af6f-5d1987c00bf9",
   "metadata": {},
   "outputs": [
    {
     "data": {
      "text/plain": [
       "'kakashi'"
      ]
     },
     "execution_count": 34,
     "metadata": {},
     "output_type": "execute_result"
    }
   ],
   "source": [
    "var.lower()"
   ]
  },
  {
   "cell_type": "code",
   "execution_count": 35,
   "id": "e7206d3d-8479-4b36-a65d-8bbe9b773c20",
   "metadata": {},
   "outputs": [
    {
     "data": {
      "text/plain": [
       "'KAKASHI'"
      ]
     },
     "execution_count": 35,
     "metadata": {},
     "output_type": "execute_result"
    }
   ],
   "source": [
    "var.upper()"
   ]
  },
  {
   "cell_type": "code",
   "execution_count": 36,
   "id": "130726fd-de0d-4e6b-8b04-9b0f3121b344",
   "metadata": {},
   "outputs": [
    {
     "data": {
      "text/plain": [
       "False"
      ]
     },
     "execution_count": 36,
     "metadata": {},
     "output_type": "execute_result"
    }
   ],
   "source": [
    "var.islower()"
   ]
  },
  {
   "cell_type": "code",
   "execution_count": 37,
   "id": "7c58f91b-1ec0-44d0-84a3-c7932f558fcf",
   "metadata": {},
   "outputs": [
    {
     "data": {
      "text/plain": [
       "True"
      ]
     },
     "execution_count": 37,
     "metadata": {},
     "output_type": "execute_result"
    }
   ],
   "source": [
    "var.isupper()"
   ]
  },
  {
   "cell_type": "code",
   "execution_count": 79,
   "id": "d4650074-356d-49db-a1fd-8e5788920569",
   "metadata": {},
   "outputs": [],
   "source": [
    "chr=\"learning\""
   ]
  },
  {
   "cell_type": "code",
   "execution_count": 83,
   "id": "b3c80f1c-8712-4faf-a823-c879d2220f31",
   "metadata": {},
   "outputs": [
    {
     "name": "stdout",
     "output_type": "stream",
     "text": [
      "earning\n"
     ]
    }
   ],
   "source": [
    "print(chr[1:9])"
   ]
  },
  {
   "cell_type": "code",
   "execution_count": 85,
   "id": "d2d72802-14d0-42a9-bdc3-d29c47457444",
   "metadata": {},
   "outputs": [
    {
     "name": "stdout",
     "output_type": "stream",
     "text": [
      "earning\n"
     ]
    }
   ],
   "source": [
    "print(chr[1:])"
   ]
  },
  {
   "cell_type": "code",
   "execution_count": 87,
   "id": "58177902-65d2-4d74-b29a-7bb4b9b94678",
   "metadata": {},
   "outputs": [
    {
     "name": "stdout",
     "output_type": "stream",
     "text": [
      "ning\n"
     ]
    }
   ],
   "source": [
    "print(chr[4:])"
   ]
  },
  {
   "cell_type": "code",
   "execution_count": 105,
   "id": "bdd90293-6e72-42a1-890b-5e684b6a7457",
   "metadata": {},
   "outputs": [
    {
     "name": "stdout",
     "output_type": "stream",
     "text": [
      "gninrael\n"
     ]
    }
   ],
   "source": [
    "print(chr[::-1])"
   ]
  },
  {
   "cell_type": "markdown",
   "id": "57f014e8-6074-48cd-9bad-bff785e89951",
   "metadata": {},
   "source": [
    "# Built-in Function"
   ]
  },
  {
   "cell_type": "code",
   "execution_count": 109,
   "id": "0c48bb65-29c7-404d-9fbe-d390e90839fa",
   "metadata": {},
   "outputs": [],
   "source": [
    "ltr=\"Python is basic language to learn Machine learning\""
   ]
  },
  {
   "cell_type": "code",
   "execution_count": 111,
   "id": "729414f2-46f4-471e-90f0-7418fdbf473f",
   "metadata": {},
   "outputs": [
    {
     "data": {
      "text/plain": [
       "'PYTHON IS BASIC LANGUAGE TO LEARN MACHINE LEARNING'"
      ]
     },
     "execution_count": 111,
     "metadata": {},
     "output_type": "execute_result"
    }
   ],
   "source": [
    "ltr.upper()"
   ]
  },
  {
   "cell_type": "code",
   "execution_count": 113,
   "id": "0740431e-892b-43cf-b862-bc376e7194e3",
   "metadata": {},
   "outputs": [
    {
     "data": {
      "text/plain": [
       "'python is basic language to learn machine learning'"
      ]
     },
     "execution_count": 113,
     "metadata": {},
     "output_type": "execute_result"
    }
   ],
   "source": [
    "ltr.lower()"
   ]
  },
  {
   "cell_type": "code",
   "execution_count": 115,
   "id": "6f869726-6164-41e8-857f-3edc883982e1",
   "metadata": {},
   "outputs": [
    {
     "data": {
      "text/plain": [
       "10"
      ]
     },
     "execution_count": 115,
     "metadata": {},
     "output_type": "execute_result"
    }
   ],
   "source": [
    "ltr.find('b')"
   ]
  },
  {
   "cell_type": "code",
   "execution_count": 117,
   "id": "b2c11175-0b95-49cb-97e1-b6815f7b5d21",
   "metadata": {},
   "outputs": [
    {
     "data": {
      "text/plain": [
       "10"
      ]
     },
     "execution_count": 117,
     "metadata": {},
     "output_type": "execute_result"
    }
   ],
   "source": [
    "ltr.index('b')"
   ]
  },
  {
   "cell_type": "markdown",
   "id": "3afc8e13-4828-4346-a5c5-5fe2d7afa094",
   "metadata": {},
   "source": [
    "# Delimeter"
   ]
  },
  {
   "cell_type": "code",
   "execution_count": 122,
   "id": "44c882cb-c87e-452a-b7fc-526db9ddb2b7",
   "metadata": {},
   "outputs": [
    {
     "data": {
      "text/plain": [
       "['Python', 'is', 'basic', 'language', 'to', 'learn', 'Machine', 'learning']"
      ]
     },
     "execution_count": 122,
     "metadata": {},
     "output_type": "execute_result"
    }
   ],
   "source": [
    "ltr.split(\" \") #return as List"
   ]
  },
  {
   "cell_type": "code",
   "execution_count": 128,
   "id": "d2af6569-78df-45f3-9c9b-7b1de2e232c2",
   "metadata": {},
   "outputs": [
    {
     "data": {
      "text/plain": [
       "'Python is basic language to learn Data Science'"
      ]
     },
     "execution_count": 128,
     "metadata": {},
     "output_type": "execute_result"
    }
   ],
   "source": [
    "ltr.replace(\"Machine learning\",\"Data Science\") #here we pass 2 paramaters"
   ]
  },
  {
   "cell_type": "markdown",
   "id": "5522f8fd-33b6-4ec7-8a49-a0be1e1e3f37",
   "metadata": {},
   "source": [
    "# rpartition"
   ]
  },
  {
   "cell_type": "code",
   "execution_count": 141,
   "id": "11ca93ee-a2d9-4675-adb9-7b4c3f1a126e",
   "metadata": {},
   "outputs": [],
   "source": [
    "rp =ltr.rpartition(\" basic \") #return a tuple and the word give space after space is consider as our second index"
   ]
  },
  {
   "cell_type": "code",
   "execution_count": 143,
   "id": "f6c1bc66-971f-40c3-9575-c16eb8a88364",
   "metadata": {},
   "outputs": [
    {
     "data": {
      "text/plain": [
       "('Python is', ' basic ', 'language to learn Machine learning')"
      ]
     },
     "execution_count": 143,
     "metadata": {},
     "output_type": "execute_result"
    }
   ],
   "source": [
    "rp"
   ]
  },
  {
   "cell_type": "code",
   "execution_count": 147,
   "id": "e572d2c2-c8f1-4bf2-b68f-2eeb9ee03ddc",
   "metadata": {},
   "outputs": [
    {
     "data": {
      "text/plain": [
       "'language to learn Machine learning'"
      ]
     },
     "execution_count": 147,
     "metadata": {},
     "output_type": "execute_result"
    }
   ],
   "source": [
    "rp[2]"
   ]
  },
  {
   "cell_type": "code",
   "execution_count": 149,
   "id": "d6992f6e-4f95-4234-833d-80c8b84a1d4a",
   "metadata": {},
   "outputs": [
    {
     "data": {
      "text/plain": [
       "tuple"
      ]
     },
     "execution_count": 149,
     "metadata": {},
     "output_type": "execute_result"
    }
   ],
   "source": [
    "type(rp)"
   ]
  },
  {
   "cell_type": "markdown",
   "id": "83b38049-290c-4ad6-ba55-1fbe99c99898",
   "metadata": {},
   "source": [
    "# Concatenation"
   ]
  },
  {
   "cell_type": "code",
   "execution_count": 160,
   "id": "62e95067-19e7-46ce-9c48-b8117220b5d8",
   "metadata": {},
   "outputs": [
    {
     "data": {
      "text/plain": [
       "'Hi How are You?'"
      ]
     },
     "execution_count": 160,
     "metadata": {},
     "output_type": "execute_result"
    }
   ],
   "source": [
    "str_1=\"Hi\"\n",
    "str_2=\"How are You?\"\n",
    "str=str_1+\" \"+str_2\n",
    "str"
   ]
  },
  {
   "cell_type": "code",
   "execution_count": 166,
   "id": "2d65e13b-f864-4625-833d-e99a90c415f0",
   "metadata": {},
   "outputs": [
    {
     "data": {
      "text/plain": [
       "str"
      ]
     },
     "execution_count": 166,
     "metadata": {},
     "output_type": "execute_result"
    }
   ],
   "source": [
    "type(str)"
   ]
  },
  {
   "cell_type": "code",
   "execution_count": 184,
   "id": "2a22c3c5-2175-4700-aaad-e85efe5ade1d",
   "metadata": {},
   "outputs": [],
   "source": [
    "str1=\"I\"\n",
    "str2=\"am\"\n",
    "str3=\"going to play cricket\""
   ]
  },
  {
   "cell_type": "code",
   "execution_count": 190,
   "id": "d47b2be5-2489-48dc-90a5-ac4b4b71ac9c",
   "metadata": {},
   "outputs": [],
   "source": [
    "str=\"{} {}, {}.\".format(str1,str2,str3)"
   ]
  },
  {
   "cell_type": "code",
   "execution_count": 192,
   "id": "c484f591-fdf9-4b5a-8f1e-a6cb2bd676a1",
   "metadata": {},
   "outputs": [
    {
     "data": {
      "text/plain": [
       "'I am, going to play cricket.'"
      ]
     },
     "execution_count": 192,
     "metadata": {},
     "output_type": "execute_result"
    }
   ],
   "source": [
    "str"
   ]
  },
  {
   "cell_type": "code",
   "execution_count": 194,
   "id": "c97800c4-2644-494c-b1cc-605516d59519",
   "metadata": {},
   "outputs": [],
   "source": [
    "sr1=\"Hey\"\n",
    "sr2=\"there\"\n",
    "sr3=\"all\"\n",
    "Sr='{} {}, {}!'.format(sr1,sr2,sr3)"
   ]
  },
  {
   "cell_type": "code",
   "execution_count": 202,
   "id": "6de87cb5-4b8b-451e-962f-07abfe5e3ce2",
   "metadata": {},
   "outputs": [
    {
     "name": "stdout",
     "output_type": "stream",
     "text": [
      "Excepted output: Hey there, all!\n"
     ]
    }
   ],
   "source": [
    "print(\"Excepted output:\",Sr)"
   ]
  }
 ],
 "metadata": {
  "kernelspec": {
   "display_name": "Python 3 (ipykernel)",
   "language": "python",
   "name": "python3"
  },
  "language_info": {
   "codemirror_mode": {
    "name": "ipython",
    "version": 3
   },
   "file_extension": ".py",
   "mimetype": "text/x-python",
   "name": "python",
   "nbconvert_exporter": "python",
   "pygments_lexer": "ipython3",
   "version": "3.12.4"
  }
 },
 "nbformat": 4,
 "nbformat_minor": 5
}
