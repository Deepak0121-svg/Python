{
 "cells": [
  {
   "cell_type": "markdown",
   "id": "9e794431-d07b-4f83-8ab8-0b6fd6aae4a3",
   "metadata": {},
   "source": [
    "# Sets and Dictonaries"
   ]
  },
  {
   "cell_type": "markdown",
   "id": "0d411157-0d9a-4916-9f4e-cd4822ee418f",
   "metadata": {},
   "source": [
    "# Creating Dictonary"
   ]
  },
  {
   "cell_type": "code",
   "execution_count": 3,
   "id": "8a625230-81f1-4754-8393-72f5652b13ec",
   "metadata": {},
   "outputs": [
    {
     "name": "stdout",
     "output_type": "stream",
     "text": [
      "{}\n"
     ]
    }
   ],
   "source": [
    "D={}\n",
    "print(D)"
   ]
  },
  {
   "cell_type": "code",
   "execution_count": 4,
   "id": "4a795e80-1e21-4ffb-a57f-26087a9e90f7",
   "metadata": {},
   "outputs": [
    {
     "name": "stdout",
     "output_type": "stream",
     "text": [
      "<class 'dict'>\n"
     ]
    }
   ],
   "source": [
    "print(type(D))"
   ]
  },
  {
   "cell_type": "code",
   "execution_count": 5,
   "id": "174b9a2a-8cfc-471a-bdaf-20a652277883",
   "metadata": {},
   "outputs": [],
   "source": [
    "d_1={\"Name\":\"Deepak\",\"Age\":20,\"Gender\":\"Male\",\"Profession\":\"Student\"}"
   ]
  },
  {
   "cell_type": "code",
   "execution_count": 6,
   "id": "d3a7931e-0944-4362-aa82-4393d900e86b",
   "metadata": {},
   "outputs": [
    {
     "data": {
      "text/plain": [
       "{'Name': 'Deepak', 'Age': 20, 'Gender': 'Male', 'Profession': 'Student'}"
      ]
     },
     "execution_count": 6,
     "metadata": {},
     "output_type": "execute_result"
    }
   ],
   "source": [
    "d_1"
   ]
  },
  {
   "cell_type": "code",
   "execution_count": 7,
   "id": "5d84435c-2a1e-4a61-8fdc-97b6426cb12d",
   "metadata": {},
   "outputs": [
    {
     "data": {
      "text/plain": [
       "dict"
      ]
     },
     "execution_count": 7,
     "metadata": {},
     "output_type": "execute_result"
    }
   ],
   "source": [
    "type(d_1)"
   ]
  },
  {
   "cell_type": "code",
   "execution_count": 8,
   "id": "bdb9c761-6ee0-4334-9e0d-c0d9ba810eef",
   "metadata": {},
   "outputs": [
    {
     "data": {
      "text/plain": [
       "dict_keys(['Name', 'Age', 'Gender', 'Profession'])"
      ]
     },
     "execution_count": 8,
     "metadata": {},
     "output_type": "execute_result"
    }
   ],
   "source": [
    "d_1.keys()"
   ]
  },
  {
   "cell_type": "code",
   "execution_count": 9,
   "id": "587d488b-2235-4fde-96e4-e09fb8db4a28",
   "metadata": {},
   "outputs": [
    {
     "data": {
      "text/plain": [
       "dict_values(['Deepak', 20, 'Male', 'Student'])"
      ]
     },
     "execution_count": 9,
     "metadata": {},
     "output_type": "execute_result"
    }
   ],
   "source": [
    "d_1.values()"
   ]
  },
  {
   "cell_type": "code",
   "execution_count": 10,
   "id": "44ecf687-3161-4189-9066-2fedb4a16481",
   "metadata": {},
   "outputs": [],
   "source": [
    "# Creating dictonary using class dict"
   ]
  },
  {
   "cell_type": "code",
   "execution_count": 11,
   "id": "bf267bfb-650d-4814-90da-d12d7af46b77",
   "metadata": {},
   "outputs": [],
   "source": [
    "d2=dict({\"Name\":\"Deepak\",\"Age\":20,\"Gender\":\"Male\",\"Profession\":\"Student\"})"
   ]
  },
  {
   "cell_type": "code",
   "execution_count": 12,
   "id": "5defe831-a65b-4833-8953-cb4689626995",
   "metadata": {},
   "outputs": [
    {
     "data": {
      "text/plain": [
       "{'Name': 'Deepak', 'Age': 20, 'Gender': 'Male', 'Profession': 'Student'}"
      ]
     },
     "execution_count": 12,
     "metadata": {},
     "output_type": "execute_result"
    }
   ],
   "source": [
    "d2"
   ]
  },
  {
   "cell_type": "code",
   "execution_count": 13,
   "id": "3e4b9fcf-311b-4306-af60-25e7739fbfb6",
   "metadata": {},
   "outputs": [
    {
     "data": {
      "text/plain": [
       "dict"
      ]
     },
     "execution_count": 13,
     "metadata": {},
     "output_type": "execute_result"
    }
   ],
   "source": [
    "type(d2)"
   ]
  },
  {
   "cell_type": "code",
   "execution_count": 14,
   "id": "d4fea329-5740-49b6-96d5-b658d952b1fa",
   "metadata": {},
   "outputs": [],
   "source": [
    "# Creating dictonary tuple inside list"
   ]
  },
  {
   "cell_type": "code",
   "execution_count": 15,
   "id": "71038f79-c190-45b2-8a64-d0af7a5f202e",
   "metadata": {},
   "outputs": [],
   "source": [
    "d3=dict([(\"Name\",\"Deepak\"),(\"Profession\",\"student\")])"
   ]
  },
  {
   "cell_type": "code",
   "execution_count": 16,
   "id": "47f30de7-79de-44c6-8bb7-ec1ef883fd98",
   "metadata": {},
   "outputs": [
    {
     "data": {
      "text/plain": [
       "{'Name': 'Deepak', 'Profession': 'student'}"
      ]
     },
     "execution_count": 16,
     "metadata": {},
     "output_type": "execute_result"
    }
   ],
   "source": [
    "d3"
   ]
  },
  {
   "cell_type": "code",
   "execution_count": 17,
   "id": "ec3f09bb-c765-406b-ae8d-565fe374c6a9",
   "metadata": {},
   "outputs": [
    {
     "data": {
      "text/plain": [
       "dict"
      ]
     },
     "execution_count": 17,
     "metadata": {},
     "output_type": "execute_result"
    }
   ],
   "source": [
    "type(d3)"
   ]
  },
  {
   "cell_type": "code",
   "execution_count": 18,
   "id": "3881dd1e-6107-4808-9a0d-cf89fa86f04c",
   "metadata": {},
   "outputs": [
    {
     "data": {
      "text/plain": [
       "{'Name': {'F_name': 'Deepak', 'L_name': '.M'},\n",
       " 'Age': 20,\n",
       " 'Profession': 'Student'}"
      ]
     },
     "execution_count": 18,
     "metadata": {},
     "output_type": "execute_result"
    }
   ],
   "source": [
    "# Nested dictonary\n",
    "d4={\"Name\":{\"F_name\":\"Deepak\",\"L_name\":\".M\"},\"Age\":20,\"Profession\":\"Student\"}\n",
    "d4"
   ]
  },
  {
   "cell_type": "markdown",
   "id": "70f5aa18-0632-49ad-a59b-636168e70b28",
   "metadata": {},
   "source": [
    "# Adding Elements"
   ]
  },
  {
   "cell_type": "code",
   "execution_count": 20,
   "id": "407b87fd-82fb-46ff-b96a-fd801e190524",
   "metadata": {},
   "outputs": [
    {
     "data": {
      "text/plain": [
       "{}"
      ]
     },
     "execution_count": 20,
     "metadata": {},
     "output_type": "execute_result"
    }
   ],
   "source": [
    "d={ }\n",
    "d"
   ]
  },
  {
   "cell_type": "code",
   "execution_count": 21,
   "id": "45c8b58e-55c5-45ca-b193-2d458e79c4e1",
   "metadata": {},
   "outputs": [],
   "source": [
    "d[\"Name\"]=\"Demon\""
   ]
  },
  {
   "cell_type": "code",
   "execution_count": 22,
   "id": "13ed1ea8-126f-4cee-976c-ffe9de1a6fbc",
   "metadata": {},
   "outputs": [
    {
     "data": {
      "text/plain": [
       "{'Name': 'Demon'}"
      ]
     },
     "execution_count": 22,
     "metadata": {},
     "output_type": "execute_result"
    }
   ],
   "source": [
    "d"
   ]
  },
  {
   "cell_type": "code",
   "execution_count": 23,
   "id": "d07c912f-4f87-42da-b28a-233de9fd78e7",
   "metadata": {},
   "outputs": [],
   "source": [
    "d[\"Age\",\"Profession\"]=(20,\"Student\")"
   ]
  },
  {
   "cell_type": "code",
   "execution_count": 24,
   "id": "93ce3c7d-1091-4486-b56e-97ae50dcb881",
   "metadata": {},
   "outputs": [
    {
     "data": {
      "text/plain": [
       "{'Name': 'Demon', ('Age', 'Profession'): (20, 'Student')}"
      ]
     },
     "execution_count": 24,
     "metadata": {},
     "output_type": "execute_result"
    }
   ],
   "source": [
    "d"
   ]
  },
  {
   "cell_type": "code",
   "execution_count": 25,
   "id": "ce9c1b70-7b0a-4fb9-adc5-82b623211150",
   "metadata": {},
   "outputs": [
    {
     "data": {
      "text/plain": [
       "dict"
      ]
     },
     "execution_count": 25,
     "metadata": {},
     "output_type": "execute_result"
    }
   ],
   "source": [
    "type(d)"
   ]
  },
  {
   "cell_type": "code",
   "execution_count": 26,
   "id": "2ad301b3-ac48-4410-a7de-dd5671b50a62",
   "metadata": {},
   "outputs": [
    {
     "data": {
      "text/plain": [
       "dict_values(['Demon', (20, 'Student')])"
      ]
     },
     "execution_count": 26,
     "metadata": {},
     "output_type": "execute_result"
    }
   ],
   "source": [
    "d.values()"
   ]
  },
  {
   "cell_type": "code",
   "execution_count": 51,
   "id": "93fac303-1694-48b3-9868-35b6ddf453f4",
   "metadata": {},
   "outputs": [],
   "source": [
    "d[\"Name\"]={\"F_name\":\"Deepak\",\"L_name\":\".M\"}"
   ]
  },
  {
   "cell_type": "code",
   "execution_count": 53,
   "id": "56702dcd-f249-4077-a2d4-b0840123a5b8",
   "metadata": {},
   "outputs": [
    {
     "data": {
      "text/plain": [
       "{'Name': {'F_name': 'Deepak', 'L_name': '.M'},\n",
       " ('Age', 'Profession'): (20, 'Student')}"
      ]
     },
     "execution_count": 53,
     "metadata": {},
     "output_type": "execute_result"
    }
   ],
   "source": [
    "d"
   ]
  },
  {
   "cell_type": "markdown",
   "id": "d8583585-2588-404b-a618-a2107fd0d52c",
   "metadata": {},
   "source": [
    "# Accessing Elements"
   ]
  },
  {
   "cell_type": "code",
   "execution_count": 58,
   "id": "b2f18132-b307-4e28-ae81-e5a56d67f290",
   "metadata": {},
   "outputs": [
    {
     "data": {
      "text/plain": [
       "dict_keys(['Name', ('Age', 'Profession')])"
      ]
     },
     "execution_count": 58,
     "metadata": {},
     "output_type": "execute_result"
    }
   ],
   "source": [
    "d.keys()"
   ]
  },
  {
   "cell_type": "code",
   "execution_count": 62,
   "id": "2cfc032d-cd85-4900-bf33-6e5fa52b3c83",
   "metadata": {},
   "outputs": [
    {
     "data": {
      "text/plain": [
       "dict_values([{'F_name': 'Deepak', 'L_name': '.M'}, (20, 'Student')])"
      ]
     },
     "execution_count": 62,
     "metadata": {},
     "output_type": "execute_result"
    }
   ],
   "source": [
    "d.values()"
   ]
  },
  {
   "cell_type": "code",
   "execution_count": 64,
   "id": "e9e850eb-3430-4802-bf91-071a4b8fae72",
   "metadata": {},
   "outputs": [
    {
     "data": {
      "text/plain": [
       "{'F_name': 'Deepak', 'L_name': '.M'}"
      ]
     },
     "execution_count": 64,
     "metadata": {},
     "output_type": "execute_result"
    }
   ],
   "source": [
    "d[\"Name\"]"
   ]
  },
  {
   "cell_type": "code",
   "execution_count": 66,
   "id": "941fc06c-2d6e-46fb-b86a-d2f4967e3399",
   "metadata": {},
   "outputs": [
    {
     "data": {
      "text/plain": [
       "'Deepak'"
      ]
     },
     "execution_count": 66,
     "metadata": {},
     "output_type": "execute_result"
    }
   ],
   "source": [
    "d[\"Name\"][\"F_name\"]"
   ]
  },
  {
   "cell_type": "code",
   "execution_count": 72,
   "id": "0ea21520-8ee3-4001-818e-6ebd74516dcd",
   "metadata": {},
   "outputs": [
    {
     "data": {
      "text/plain": [
       "(20, 'Student')"
      ]
     },
     "execution_count": 72,
     "metadata": {},
     "output_type": "execute_result"
    }
   ],
   "source": [
    "d.get((\"Age\",\"Profession\")) #Get function to get specific value"
   ]
  },
  {
   "cell_type": "markdown",
   "id": "b8c119f1-a9bc-4e6d-b020-0b1c35786c9a",
   "metadata": {},
   "source": [
    "# Deleting Elements"
   ]
  },
  {
   "cell_type": "code",
   "execution_count": 74,
   "id": "bc5f1d1c-ea51-4d99-955e-40397ac7e401",
   "metadata": {},
   "outputs": [
    {
     "data": {
      "text/plain": [
       "{'Name': {'F_name': 'Deepak', 'L_name': '.M'},\n",
       " ('Age', 'Profession'): (20, 'Student')}"
      ]
     },
     "execution_count": 74,
     "metadata": {},
     "output_type": "execute_result"
    }
   ],
   "source": [
    "d"
   ]
  },
  {
   "cell_type": "code",
   "execution_count": 76,
   "id": "4c74157a-8c75-42f8-8906-a190daae01e3",
   "metadata": {},
   "outputs": [
    {
     "data": {
      "text/plain": [
       "(20, 'Student')"
      ]
     },
     "execution_count": 76,
     "metadata": {},
     "output_type": "execute_result"
    }
   ],
   "source": [
    "d.pop((\"Age\",\"Profession\"))"
   ]
  },
  {
   "cell_type": "code",
   "execution_count": 78,
   "id": "9e2d9a1c-a0d3-41ff-947f-678f69423474",
   "metadata": {},
   "outputs": [
    {
     "data": {
      "text/plain": [
       "{'Name': {'F_name': 'Deepak', 'L_name': '.M'}}"
      ]
     },
     "execution_count": 78,
     "metadata": {},
     "output_type": "execute_result"
    }
   ],
   "source": [
    "d"
   ]
  },
  {
   "cell_type": "code",
   "execution_count": 80,
   "id": "db056fec-d15a-4c8f-a498-d1c4c1d8fbf3",
   "metadata": {},
   "outputs": [],
   "source": [
    "c={\"Name\":\"Deepak\",\"Age\":20,\"Gender\":\"Male\",\"Profession\":\"Student\"}"
   ]
  },
  {
   "cell_type": "code",
   "execution_count": 82,
   "id": "30232586-7a96-4ced-8cd2-9f2dc2c9d533",
   "metadata": {},
   "outputs": [
    {
     "data": {
      "text/plain": [
       "{'Name': 'Deepak', 'Age': 20, 'Gender': 'Male', 'Profession': 'Student'}"
      ]
     },
     "execution_count": 82,
     "metadata": {},
     "output_type": "execute_result"
    }
   ],
   "source": [
    "c"
   ]
  },
  {
   "cell_type": "code",
   "execution_count": 84,
   "id": "d5d632d1-4f1e-4483-9c68-029c0de4dc27",
   "metadata": {},
   "outputs": [
    {
     "data": {
      "text/plain": [
       "('Profession', 'Student')"
      ]
     },
     "execution_count": 84,
     "metadata": {},
     "output_type": "execute_result"
    }
   ],
   "source": [
    "c.popitem()"
   ]
  },
  {
   "cell_type": "code",
   "execution_count": 86,
   "id": "5259bc2a-2a45-405a-8b81-0866b3a5496e",
   "metadata": {},
   "outputs": [
    {
     "data": {
      "text/plain": [
       "{'Name': 'Deepak', 'Age': 20, 'Gender': 'Male'}"
      ]
     },
     "execution_count": 86,
     "metadata": {},
     "output_type": "execute_result"
    }
   ],
   "source": [
    "c"
   ]
  },
  {
   "cell_type": "markdown",
   "id": "fd4260cc-0664-4dbc-a195-b4d159e1e5d3",
   "metadata": {},
   "source": [
    "# Using built-in Functions"
   ]
  },
  {
   "cell_type": "code",
   "execution_count": 94,
   "id": "7573e3d4-3a38-44ab-b9bc-39381bc7917a",
   "metadata": {},
   "outputs": [
    {
     "data": {
      "text/plain": [
       "{'c': 143, 'a': 143, 'd': 143, 'b': 143}"
      ]
     },
     "execution_count": 94,
     "metadata": {},
     "output_type": "execute_result"
    }
   ],
   "source": [
    "keys={\"a\",\"b\",\"c\",\"d\"}\n",
    "value=143\n",
    "dict.fromkeys(keys,value)"
   ]
  },
  {
   "cell_type": "code",
   "execution_count": 96,
   "id": "589f39d8-c377-4fc2-aa77-53aa2555adfe",
   "metadata": {},
   "outputs": [],
   "source": [
    "c.clear()"
   ]
  },
  {
   "cell_type": "code",
   "execution_count": 98,
   "id": "9bc6bc8c-d5ce-4970-aef1-27dee9a40d5a",
   "metadata": {},
   "outputs": [
    {
     "data": {
      "text/plain": [
       "{}"
      ]
     },
     "execution_count": 98,
     "metadata": {},
     "output_type": "execute_result"
    }
   ],
   "source": [
    "c"
   ]
  },
  {
   "cell_type": "markdown",
   "id": "6b1d55f2-dd11-4e06-a92b-d89394294fee",
   "metadata": {},
   "source": [
    "# Set in python"
   ]
  },
  {
   "cell_type": "code",
   "execution_count": 102,
   "id": "a4a4b9c8-619b-4d4c-b819-49dd2547e7ec",
   "metadata": {},
   "outputs": [],
   "source": [
    "x={1,2,3,4}"
   ]
  },
  {
   "cell_type": "code",
   "execution_count": 104,
   "id": "96cb25f7-555c-4010-9996-d5690d3979be",
   "metadata": {},
   "outputs": [
    {
     "data": {
      "text/plain": [
       "{1, 2, 3, 4}"
      ]
     },
     "execution_count": 104,
     "metadata": {},
     "output_type": "execute_result"
    }
   ],
   "source": [
    "x"
   ]
  },
  {
   "cell_type": "code",
   "execution_count": 106,
   "id": "caee06fa-6446-414d-af3c-d6edd7d865a4",
   "metadata": {},
   "outputs": [
    {
     "data": {
      "text/plain": [
       "set"
      ]
     },
     "execution_count": 106,
     "metadata": {},
     "output_type": "execute_result"
    }
   ],
   "source": [
    "type(x)"
   ]
  },
  {
   "cell_type": "code",
   "execution_count": 108,
   "id": "9b2feea2-80e0-4879-9346-fe7f492bae96",
   "metadata": {},
   "outputs": [],
   "source": [
    "y=set([1,5,3,7])"
   ]
  },
  {
   "cell_type": "code",
   "execution_count": 110,
   "id": "668f3c5f-f13a-4712-adc3-15b9a0d20f02",
   "metadata": {},
   "outputs": [
    {
     "data": {
      "text/plain": [
       "{1, 3, 5, 7}"
      ]
     },
     "execution_count": 110,
     "metadata": {},
     "output_type": "execute_result"
    }
   ],
   "source": [
    "y"
   ]
  },
  {
   "cell_type": "code",
   "execution_count": 112,
   "id": "8292adc1-1784-4f4f-9c47-bc186d6b7c93",
   "metadata": {},
   "outputs": [
    {
     "data": {
      "text/plain": [
       "set"
      ]
     },
     "execution_count": 112,
     "metadata": {},
     "output_type": "execute_result"
    }
   ],
   "source": [
    "type(y)"
   ]
  },
  {
   "cell_type": "code",
   "execution_count": 130,
   "id": "6f5c30c2-3841-4712-8d1a-d539aa3c7fe9",
   "metadata": {},
   "outputs": [],
   "source": [
    "z=dict([(1,2),(3,4)])"
   ]
  },
  {
   "cell_type": "code",
   "execution_count": 132,
   "id": "dcaf6985-8af2-4aa8-8424-89d99692c115",
   "metadata": {},
   "outputs": [
    {
     "data": {
      "text/plain": [
       "{1: 2, 3: 4}"
      ]
     },
     "execution_count": 132,
     "metadata": {},
     "output_type": "execute_result"
    }
   ],
   "source": [
    "z"
   ]
  },
  {
   "cell_type": "code",
   "execution_count": 134,
   "id": "ca893498-2beb-4488-8cbd-72afd702aff3",
   "metadata": {},
   "outputs": [
    {
     "data": {
      "text/plain": [
       "dict"
      ]
     },
     "execution_count": 134,
     "metadata": {},
     "output_type": "execute_result"
    }
   ],
   "source": [
    "type(z)"
   ]
  },
  {
   "cell_type": "code",
   "execution_count": 164,
   "id": "46a21dcd-ada9-4a7f-84ed-f6d62bbdc7d9",
   "metadata": {},
   "outputs": [],
   "source": [
    "#add\n",
    "y.add(123)"
   ]
  },
  {
   "cell_type": "code",
   "execution_count": 144,
   "id": "f4dbbfde-2908-4ded-8e15-ab7e9e274727",
   "metadata": {},
   "outputs": [
    {
     "data": {
      "text/plain": [
       "{1, 3, 5, 7, 123}"
      ]
     },
     "execution_count": 144,
     "metadata": {},
     "output_type": "execute_result"
    }
   ],
   "source": [
    "y"
   ]
  },
  {
   "cell_type": "code",
   "execution_count": 166,
   "id": "d46a3b7f-e564-4a23-a23c-908382e245bf",
   "metadata": {},
   "outputs": [],
   "source": [
    "#update\n",
    "y.update((143,90),(100,56))"
   ]
  },
  {
   "cell_type": "code",
   "execution_count": 148,
   "id": "567d5ae5-d360-4aef-bd5a-24b8505cefb0",
   "metadata": {},
   "outputs": [
    {
     "data": {
      "text/plain": [
       "{1, 3, 5, 7, 56, 90, 100, 123, 143}"
      ]
     },
     "execution_count": 148,
     "metadata": {},
     "output_type": "execute_result"
    }
   ],
   "source": [
    "y"
   ]
  },
  {
   "cell_type": "code",
   "execution_count": 168,
   "id": "617fa67f-4655-45fb-9fa8-987d5b07db96",
   "metadata": {},
   "outputs": [],
   "source": [
    "#remove\n",
    "y.remove(90)\n"
   ]
  },
  {
   "cell_type": "code",
   "execution_count": 170,
   "id": "982309e5-da1c-4bcb-a8df-32171c071479",
   "metadata": {},
   "outputs": [
    {
     "data": {
      "text/plain": [
       "{1, 3, 5, 7, 56, 100, 123, 143}"
      ]
     },
     "execution_count": 170,
     "metadata": {},
     "output_type": "execute_result"
    }
   ],
   "source": [
    "y"
   ]
  },
  {
   "cell_type": "code",
   "execution_count": 172,
   "id": "3d027efe-2dc7-467e-9f29-3b467c936722",
   "metadata": {},
   "outputs": [],
   "source": [
    "fset=frozenset([1,5,7,10])"
   ]
  },
  {
   "cell_type": "code",
   "execution_count": 174,
   "id": "2d135fc0-3022-47bc-aef0-f082c981afe3",
   "metadata": {},
   "outputs": [
    {
     "data": {
      "text/plain": [
       "frozenset({1, 5, 7, 10})"
      ]
     },
     "execution_count": 174,
     "metadata": {},
     "output_type": "execute_result"
    }
   ],
   "source": [
    "fset"
   ]
  },
  {
   "cell_type": "code",
   "execution_count": 176,
   "id": "bcc536da-98af-47f8-8673-7fdcfac945f7",
   "metadata": {},
   "outputs": [
    {
     "data": {
      "text/plain": [
       "frozenset"
      ]
     },
     "execution_count": 176,
     "metadata": {},
     "output_type": "execute_result"
    }
   ],
   "source": [
    "type(fset)"
   ]
  },
  {
   "cell_type": "code",
   "execution_count": 178,
   "id": "41a177cb-595e-4fc4-a74c-3bcec6b4d4a5",
   "metadata": {},
   "outputs": [],
   "source": [
    "s1=set([100,170,153,198])\n",
    "s2=set([190,153,0,120])"
   ]
  },
  {
   "cell_type": "code",
   "execution_count": 184,
   "id": "6b58d9eb-5448-4e77-b062-01d888d6e0b5",
   "metadata": {},
   "outputs": [],
   "source": [
    "s=s1|s2 #union"
   ]
  },
  {
   "cell_type": "code",
   "execution_count": 182,
   "id": "6598aa70-6532-4126-899e-9eb3cf99d6a8",
   "metadata": {},
   "outputs": [
    {
     "data": {
      "text/plain": [
       "{0, 100, 120, 153, 170, 190, 198}"
      ]
     },
     "execution_count": 182,
     "metadata": {},
     "output_type": "execute_result"
    }
   ],
   "source": [
    "s"
   ]
  },
  {
   "cell_type": "code",
   "execution_count": 186,
   "id": "d8bb333a-e8aa-4ae6-a945-5343d411fc05",
   "metadata": {},
   "outputs": [
    {
     "data": {
      "text/plain": [
       "{0, 100, 120, 153, 170, 190, 198}"
      ]
     },
     "execution_count": 186,
     "metadata": {},
     "output_type": "execute_result"
    }
   ],
   "source": [
    "s1.union(s2)"
   ]
  },
  {
   "cell_type": "code",
   "execution_count": 194,
   "id": "9e804e5e-4064-4fcf-866c-1fdec51667f6",
   "metadata": {},
   "outputs": [],
   "source": [
    "s_=s1&s2 #intersection"
   ]
  },
  {
   "cell_type": "code",
   "execution_count": 192,
   "id": "98a16447-043f-4f01-94a3-7b9193b8bcf8",
   "metadata": {},
   "outputs": [
    {
     "data": {
      "text/plain": [
       "{153}"
      ]
     },
     "execution_count": 192,
     "metadata": {},
     "output_type": "execute_result"
    }
   ],
   "source": [
    "s_"
   ]
  },
  {
   "cell_type": "code",
   "execution_count": 196,
   "id": "88b6ba54-3048-44de-a155-24a6e9de6710",
   "metadata": {},
   "outputs": [
    {
     "data": {
      "text/plain": [
       "{153}"
      ]
     },
     "execution_count": 196,
     "metadata": {},
     "output_type": "execute_result"
    }
   ],
   "source": [
    "s1.intersection(s2)"
   ]
  },
  {
   "cell_type": "code",
   "execution_count": 198,
   "id": "a1bdd3fc-4661-478a-817a-7e2a4a4f8084",
   "metadata": {},
   "outputs": [
    {
     "data": {
      "text/plain": [
       "{100, 170, 198}"
      ]
     },
     "execution_count": 198,
     "metadata": {},
     "output_type": "execute_result"
    }
   ],
   "source": [
    "s1.difference(s2)"
   ]
  },
  {
   "cell_type": "code",
   "execution_count": 200,
   "id": "e48c4705-f839-413c-a946-39b26b47596b",
   "metadata": {},
   "outputs": [],
   "source": [
    "n=s1-s2"
   ]
  },
  {
   "cell_type": "code",
   "execution_count": 203,
   "id": "94b19d01-1d2b-4e69-9e11-ab8776a93985",
   "metadata": {},
   "outputs": [
    {
     "data": {
      "text/plain": [
       "{100, 170, 198}"
      ]
     },
     "execution_count": 203,
     "metadata": {},
     "output_type": "execute_result"
    }
   ],
   "source": [
    "n"
   ]
  },
  {
   "cell_type": "markdown",
   "id": "e9a47163-56b9-49d8-919b-cff03bf5a6c2",
   "metadata": {},
   "source": [
    "                                                                # Lesson 3 Completed"
   ]
  }
 ],
 "metadata": {
  "kernelspec": {
   "display_name": "Python 3 (ipykernel)",
   "language": "python",
   "name": "python3"
  },
  "language_info": {
   "codemirror_mode": {
    "name": "ipython",
    "version": 3
   },
   "file_extension": ".py",
   "mimetype": "text/x-python",
   "name": "python",
   "nbconvert_exporter": "python",
   "pygments_lexer": "ipython3",
   "version": "3.12.4"
  }
 },
 "nbformat": 4,
 "nbformat_minor": 5
}
