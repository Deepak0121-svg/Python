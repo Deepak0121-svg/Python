{
 "cells": [
  {
   "cell_type": "markdown",
   "id": "555e9635-8fde-42c5-b783-fc75514b64a4",
   "metadata": {},
   "source": [
    "# Pandas Tutorial"
   ]
  },
  {
   "cell_type": "code",
   "execution_count": 8,
   "id": "c0e44547-5c17-44ec-9ede-f1661619314d",
   "metadata": {},
   "outputs": [],
   "source": [
    "import pandas as pd"
   ]
  },
  {
   "cell_type": "code",
   "execution_count": 9,
   "id": "83f41646-d87f-4da1-8658-6490ba923306",
   "metadata": {},
   "outputs": [
    {
     "name": "stdout",
     "output_type": "stream",
     "text": [
      "Defaulting to user installation because normal site-packages is not writeable\n"
     ]
    },
    {
     "name": "stderr",
     "output_type": "stream",
     "text": [
      "ERROR: You must give at least one requirement to install (see \"pip help install\")\n"
     ]
    }
   ],
   "source": [
    "!pip install "
   ]
  },
  {
   "cell_type": "code",
   "execution_count": 10,
   "id": "7a3ed4d1-ff53-43c3-aab4-ba8982f08ff9",
   "metadata": {},
   "outputs": [
    {
     "name": "stdout",
     "output_type": "stream",
     "text": [
      "2.2.2\n"
     ]
    }
   ],
   "source": [
    "#pandas version\n",
    "print(pd.__version__)"
   ]
  },
  {
   "cell_type": "markdown",
   "id": "fc9707f5-ddd1-4c34-afe6-fb3c97121c79",
   "metadata": {},
   "source": [
    "# Series Create,Manipulate,querry,Delete"
   ]
  },
  {
   "cell_type": "code",
   "execution_count": 12,
   "id": "55944be1-c65d-4b98-b65d-c2b365647cf6",
   "metadata": {},
   "outputs": [
    {
     "data": {
      "text/plain": [
       "0     Demon\n",
       "1      Trio\n",
       "2    Naruto\n",
       "3     Roman\n",
       "dtype: object"
      ]
     },
     "execution_count": 12,
     "metadata": {},
     "output_type": "execute_result"
    }
   ],
   "source": [
    "# Creating series\n",
    "name=[\"Demon\",\"Trio\",\"Naruto\",\"Roman\"]\n",
    "s1=pd.Series(name)\n",
    "s1"
   ]
  },
  {
   "cell_type": "code",
   "execution_count": 13,
   "id": "9599d8ef-3f66-4811-9fae-e2f411ff71e6",
   "metadata": {},
   "outputs": [
    {
     "data": {
      "text/plain": [
       "1     Demon\n",
       "2      Trio\n",
       "3    Naruto\n",
       "4     Roman\n",
       "dtype: object"
      ]
     },
     "execution_count": 13,
     "metadata": {},
     "output_type": "execute_result"
    }
   ],
   "source": [
    "sequence=[1,2,3,4]\n",
    "s2=pd.Series(name,index=sequence)\n",
    "s2"
   ]
  },
  {
   "cell_type": "code",
   "execution_count": 14,
   "id": "516a5800-3549-457f-9c71-acba39bbd956",
   "metadata": {},
   "outputs": [
    {
     "data": {
      "text/plain": [
       "1st_val   -0.423589\n",
       "2nd_val   -0.696846\n",
       "3rd_val   -0.441289\n",
       "4th_val    0.941664\n",
       "5th_val   -0.890412\n",
       "6th_val    0.418899\n",
       "7th_val    0.954467\n",
       "dtype: float64"
      ]
     },
     "execution_count": 14,
     "metadata": {},
     "output_type": "execute_result"
    }
   ],
   "source": [
    "import numpy as np\n",
    "n=np.random.randn(7)\n",
    "index=['1st_val','2nd_val','3rd_val','4th_val','5th_val','6th_val','7th_val']\n",
    "s3=pd.Series(n,index=index)\n",
    "s3"
   ]
  },
  {
   "cell_type": "code",
   "execution_count": 15,
   "id": "2c34255a-61c9-4f7e-b5be-972918365548",
   "metadata": {},
   "outputs": [
    {
     "data": {
      "text/plain": [
       "name    [DEMON, TRIO, NARUTIO, ROMAN]\n",
       "dtype: object"
      ]
     },
     "execution_count": 15,
     "metadata": {},
     "output_type": "execute_result"
    }
   ],
   "source": [
    "d={\"name\":['DEMON','TRIO','NARUTIO','ROMAN']}\n",
    "s_4=pd.Series(d)\n",
    "s_4"
   ]
  },
  {
   "cell_type": "code",
   "execution_count": 16,
   "id": "b7f5131d-1f1b-41eb-860c-cd59cc6fd44e",
   "metadata": {},
   "outputs": [
    {
     "data": {
      "text/plain": [
       "pandas.core.series.Series"
      ]
     },
     "execution_count": 16,
     "metadata": {},
     "output_type": "execute_result"
    }
   ],
   "source": [
    "type(s_4)"
   ]
  },
  {
   "cell_type": "code",
   "execution_count": 17,
   "id": "a9efd648-7d60-4c36-8616-999014f22998",
   "metadata": {},
   "outputs": [
    {
     "data": {
      "text/plain": [
       "a      7\n",
       "b     77\n",
       "c    777\n",
       "dtype: int64"
      ]
     },
     "execution_count": 17,
     "metadata": {},
     "output_type": "execute_result"
    }
   ],
   "source": [
    "#creating series from dictionary\n",
    "d1={\"a\":7,\"b\":77,\"c\":777}\n",
    "x1=pd.Series(d1)\n",
    "x1"
   ]
  },
  {
   "cell_type": "code",
   "execution_count": 18,
   "id": "61dd40a1-89cf-4513-8176-cc388d3b6180",
   "metadata": {},
   "outputs": [
    {
     "data": {
      "text/plain": [
       "x     Demon\n",
       "y      Trio\n",
       "z    Naruto\n",
       "a     Roman\n",
       "dtype: object"
      ]
     },
     "execution_count": 18,
     "metadata": {},
     "output_type": "execute_result"
    }
   ],
   "source": [
    "#modify the index of series\n",
    "s1.index=[\"x\",\"y\",\"z\",\"a\"]\n",
    "s1"
   ]
  },
  {
   "cell_type": "code",
   "execution_count": 19,
   "id": "8054d201-6114-4c24-9a7e-864200c00bd7",
   "metadata": {},
   "outputs": [
    {
     "data": {
      "text/plain": [
       "0       DEMON\n",
       "1       ROMAN\n",
       "2      NARUTO\n",
       "3        TRIO\n",
       "4     Kakashi\n",
       "5    Hasirama\n",
       "6      Madara\n",
       "dtype: object"
      ]
     },
     "execution_count": 19,
     "metadata": {},
     "output_type": "execute_result"
    }
   ],
   "source": [
    "#creating series using list\n",
    "l=[\"DEMON\",\"ROMAN\",\"NARUTO\",\"TRIO\",\"Kakashi\",\"Hasirama\",\"Madara\"]\n",
    "s=pd.Series(l)\n",
    "s"
   ]
  },
  {
   "cell_type": "markdown",
   "id": "f93cd93e-17d0-4810-9926-ed73d1d3b2d6",
   "metadata": {},
   "source": [
    "# Slicing"
   ]
  },
  {
   "cell_type": "code",
   "execution_count": 21,
   "id": "3abfd5ec-ebc3-4ee8-9bb1-0919a0f447db",
   "metadata": {},
   "outputs": [
    {
     "data": {
      "text/plain": [
       "0     DEMON\n",
       "1     ROMAN\n",
       "2    NARUTO\n",
       "3      TRIO\n",
       "dtype: object"
      ]
     },
     "execution_count": 21,
     "metadata": {},
     "output_type": "execute_result"
    }
   ],
   "source": [
    "s[:4]"
   ]
  },
  {
   "cell_type": "code",
   "execution_count": 22,
   "id": "0c09b3d2-bd29-4f86-8b28-c1ccfec75f19",
   "metadata": {},
   "outputs": [
    {
     "data": {
      "text/plain": [
       "0       DEMON\n",
       "1       ROMAN\n",
       "2      NARUTO\n",
       "3        TRIO\n",
       "4     Kakashi\n",
       "5    Hasirama\n",
       "dtype: object"
      ]
     },
     "execution_count": 22,
     "metadata": {},
     "output_type": "execute_result"
    }
   ],
   "source": [
    "s[:-1]"
   ]
  },
  {
   "cell_type": "code",
   "execution_count": 23,
   "id": "0fcb5db4-5089-497a-95fa-cf7334565eb3",
   "metadata": {},
   "outputs": [],
   "source": [
    "y=pd.Series([1,2,3,4])\n",
    "z=[2,3,4,7]"
   ]
  },
  {
   "cell_type": "code",
   "execution_count": 24,
   "id": "9f3b5ddf-69f7-4e67-9f23-158933f1388e",
   "metadata": {},
   "outputs": [
    {
     "data": {
      "text/plain": [
       "0    1\n",
       "1    2\n",
       "2    3\n",
       "3    4\n",
       "dtype: int64"
      ]
     },
     "execution_count": 24,
     "metadata": {},
     "output_type": "execute_result"
    }
   ],
   "source": [
    "y"
   ]
  },
  {
   "cell_type": "code",
   "execution_count": 25,
   "id": "013bd0f6-7acc-4697-aa32-5a468568ab1a",
   "metadata": {},
   "outputs": [
    {
     "data": {
      "text/plain": [
       "a    2\n",
       "b    3\n",
       "c    4\n",
       "d    7\n",
       "dtype: int64"
      ]
     },
     "execution_count": 25,
     "metadata": {},
     "output_type": "execute_result"
    }
   ],
   "source": [
    "index=[\"a\",\"b\",\"c\",\"d\"]\n",
    "z_1=pd.Series(z,index=index)\n",
    "z_1"
   ]
  },
  {
   "cell_type": "code",
   "execution_count": 26,
   "id": "46df86cf-ad8c-4e79-8f19-f458c0a2e92c",
   "metadata": {},
   "outputs": [
    {
     "data": {
      "text/plain": [
       "0    1\n",
       "1    2\n",
       "2    3\n",
       "3    4\n",
       "a    2\n",
       "b    3\n",
       "c    4\n",
       "d    7\n",
       "dtype: int64"
      ]
     },
     "execution_count": 26,
     "metadata": {},
     "output_type": "execute_result"
    }
   ],
   "source": [
    "x=pd.concat([y,z_1])\n",
    "x"
   ]
  },
  {
   "cell_type": "code",
   "execution_count": 27,
   "id": "3633d48d-ee4d-4493-a015-d8f322c77d1d",
   "metadata": {},
   "outputs": [
    {
     "data": {
      "text/plain": [
       "0    1\n",
       "1    2\n",
       "2    3\n",
       "3    4\n",
       "a    2\n",
       "b    3\n",
       "d    7\n",
       "dtype: int64"
      ]
     },
     "execution_count": 27,
     "metadata": {},
     "output_type": "execute_result"
    }
   ],
   "source": [
    "x.drop('c')"
   ]
  },
  {
   "cell_type": "markdown",
   "id": "e4f8e44d-8c42-48e8-b56a-0eeef0a1a222",
   "metadata": {},
   "source": [
    "# Series Operation"
   ]
  },
  {
   "cell_type": "code",
   "execution_count": 29,
   "id": "315515db-74f8-4968-95d0-62917bf71d84",
   "metadata": {},
   "outputs": [],
   "source": [
    "l1=[1,2,3,4,5,6]\n",
    "l2=[7,8,9,10]\n"
   ]
  },
  {
   "cell_type": "code",
   "execution_count": 30,
   "id": "1abb4e0f-53e7-4262-971f-e85c141ac328",
   "metadata": {},
   "outputs": [
    {
     "data": {
      "text/plain": [
       "0    1\n",
       "1    2\n",
       "2    3\n",
       "3    4\n",
       "4    5\n",
       "5    6\n",
       "dtype: int64"
      ]
     },
     "execution_count": 30,
     "metadata": {},
     "output_type": "execute_result"
    }
   ],
   "source": [
    "s_1=pd.Series(l1)\n",
    "s_1"
   ]
  },
  {
   "cell_type": "code",
   "execution_count": 31,
   "id": "050b9185-58de-4ab6-9400-812d7b0fd0a0",
   "metadata": {},
   "outputs": [
    {
     "data": {
      "text/plain": [
       "0     7\n",
       "1     8\n",
       "2     9\n",
       "3    10\n",
       "dtype: int64"
      ]
     },
     "execution_count": 31,
     "metadata": {},
     "output_type": "execute_result"
    }
   ],
   "source": [
    "s_2=pd.Series(l2)\n",
    "s_2"
   ]
  },
  {
   "cell_type": "code",
   "execution_count": 32,
   "id": "8cb06589-3cc6-439f-a972-acc24ab5b44d",
   "metadata": {},
   "outputs": [
    {
     "data": {
      "text/plain": [
       "0     8.0\n",
       "1    10.0\n",
       "2    12.0\n",
       "3    14.0\n",
       "4     NaN\n",
       "5     NaN\n",
       "dtype: float64"
      ]
     },
     "execution_count": 32,
     "metadata": {},
     "output_type": "execute_result"
    }
   ],
   "source": [
    "s_1.add(s_2)"
   ]
  },
  {
   "cell_type": "code",
   "execution_count": 33,
   "id": "74dc08ad-13e7-4fcf-b732-96624aacbd00",
   "metadata": {},
   "outputs": [
    {
     "data": {
      "text/plain": [
       "0   -6.0\n",
       "1   -6.0\n",
       "2   -6.0\n",
       "3   -6.0\n",
       "4    NaN\n",
       "5    NaN\n",
       "dtype: float64"
      ]
     },
     "execution_count": 33,
     "metadata": {},
     "output_type": "execute_result"
    }
   ],
   "source": [
    "s_1.sub(s_2)"
   ]
  },
  {
   "cell_type": "code",
   "execution_count": 34,
   "id": "ec595de0-aeb7-4e3b-abd1-95c41e3ba1ce",
   "metadata": {},
   "outputs": [
    {
     "data": {
      "text/plain": [
       "0     7.0\n",
       "1    16.0\n",
       "2    27.0\n",
       "3    40.0\n",
       "4     NaN\n",
       "5     NaN\n",
       "dtype: float64"
      ]
     },
     "execution_count": 34,
     "metadata": {},
     "output_type": "execute_result"
    }
   ],
   "source": [
    "s_1.mul(s_2)"
   ]
  },
  {
   "cell_type": "code",
   "execution_count": 35,
   "id": "cca8fe9f-2539-4582-8e5f-d25de69be563",
   "metadata": {},
   "outputs": [
    {
     "data": {
      "text/plain": [
       "0    0.142857\n",
       "1    0.250000\n",
       "2    0.333333\n",
       "3    0.400000\n",
       "4         NaN\n",
       "5         NaN\n",
       "dtype: float64"
      ]
     },
     "execution_count": 35,
     "metadata": {},
     "output_type": "execute_result"
    }
   ],
   "source": [
    "s_1.div(s_2)"
   ]
  },
  {
   "cell_type": "code",
   "execution_count": 36,
   "id": "adef62cf-bd6a-4649-b82f-0bbfe7bcf7c5",
   "metadata": {},
   "outputs": [
    {
     "name": "stdout",
     "output_type": "stream",
     "text": [
      "Median 8.5\n",
      "Maximum 6\n",
      "Minimum 1\n"
     ]
    }
   ],
   "source": [
    "print(\"Median\",s_2.median())\n",
    "print(\"Maximum\",s_1.max())\n",
    "print(\"Minimum\",s_1.min())\n"
   ]
  },
  {
   "cell_type": "markdown",
   "id": "d2721f4c-5023-4dac-9179-97ce59c5cc35",
   "metadata": {},
   "source": [
    "# DataFrame"
   ]
  },
  {
   "cell_type": "code",
   "execution_count": 38,
   "id": "6d7493ec-3453-415d-8513-33d212e1ab19",
   "metadata": {},
   "outputs": [
    {
     "data": {
      "text/plain": [
       "DatetimeIndex(['2024-11-10 12:20:32.660134', '2024-11-11 12:20:32.660134',\n",
       "               '2024-11-12 12:20:32.660134', '2024-11-13 12:20:32.660134',\n",
       "               '2024-11-14 12:20:32.660134', '2024-11-15 12:20:32.660134',\n",
       "               '2024-11-16 12:20:32.660134'],\n",
       "              dtype='datetime64[ns]', freq='D')"
      ]
     },
     "execution_count": 38,
     "metadata": {},
     "output_type": "execute_result"
    }
   ],
   "source": [
    "date=pd.date_range('today',periods=7)\n",
    "date"
   ]
  },
  {
   "cell_type": "code",
   "execution_count": 39,
   "id": "1446468d-5b6e-4104-81b6-41867984ddc2",
   "metadata": {},
   "outputs": [
    {
     "data": {
      "text/html": [
       "<div>\n",
       "<style scoped>\n",
       "    .dataframe tbody tr th:only-of-type {\n",
       "        vertical-align: middle;\n",
       "    }\n",
       "\n",
       "    .dataframe tbody tr th {\n",
       "        vertical-align: top;\n",
       "    }\n",
       "\n",
       "    .dataframe thead th {\n",
       "        text-align: right;\n",
       "    }\n",
       "</style>\n",
       "<table border=\"1\" class=\"dataframe\">\n",
       "  <thead>\n",
       "    <tr style=\"text-align: right;\">\n",
       "      <th></th>\n",
       "      <th>A</th>\n",
       "      <th>B</th>\n",
       "      <th>C</th>\n",
       "      <th>D</th>\n",
       "    </tr>\n",
       "  </thead>\n",
       "  <tbody>\n",
       "    <tr>\n",
       "      <th>2024-11-10 12:20:32.660134</th>\n",
       "      <td>0.214694</td>\n",
       "      <td>-2.102841</td>\n",
       "      <td>1.684711</td>\n",
       "      <td>1.103730</td>\n",
       "    </tr>\n",
       "    <tr>\n",
       "      <th>2024-11-11 12:20:32.660134</th>\n",
       "      <td>1.157646</td>\n",
       "      <td>0.142838</td>\n",
       "      <td>-0.970640</td>\n",
       "      <td>0.447524</td>\n",
       "    </tr>\n",
       "    <tr>\n",
       "      <th>2024-11-12 12:20:32.660134</th>\n",
       "      <td>0.953690</td>\n",
       "      <td>-0.342970</td>\n",
       "      <td>-0.065576</td>\n",
       "      <td>0.502173</td>\n",
       "    </tr>\n",
       "    <tr>\n",
       "      <th>2024-11-13 12:20:32.660134</th>\n",
       "      <td>0.028854</td>\n",
       "      <td>0.681780</td>\n",
       "      <td>0.451821</td>\n",
       "      <td>-0.779449</td>\n",
       "    </tr>\n",
       "    <tr>\n",
       "      <th>2024-11-14 12:20:32.660134</th>\n",
       "      <td>0.394028</td>\n",
       "      <td>1.559451</td>\n",
       "      <td>-1.005721</td>\n",
       "      <td>0.447021</td>\n",
       "    </tr>\n",
       "    <tr>\n",
       "      <th>2024-11-15 12:20:32.660134</th>\n",
       "      <td>-2.410970</td>\n",
       "      <td>-0.384722</td>\n",
       "      <td>-1.103135</td>\n",
       "      <td>-1.067410</td>\n",
       "    </tr>\n",
       "    <tr>\n",
       "      <th>2024-11-16 12:20:32.660134</th>\n",
       "      <td>1.074513</td>\n",
       "      <td>1.605592</td>\n",
       "      <td>0.815128</td>\n",
       "      <td>-0.689664</td>\n",
       "    </tr>\n",
       "  </tbody>\n",
       "</table>\n",
       "</div>"
      ],
      "text/plain": [
       "                                   A         B         C         D\n",
       "2024-11-10 12:20:32.660134  0.214694 -2.102841  1.684711  1.103730\n",
       "2024-11-11 12:20:32.660134  1.157646  0.142838 -0.970640  0.447524\n",
       "2024-11-12 12:20:32.660134  0.953690 -0.342970 -0.065576  0.502173\n",
       "2024-11-13 12:20:32.660134  0.028854  0.681780  0.451821 -0.779449\n",
       "2024-11-14 12:20:32.660134  0.394028  1.559451 -1.005721  0.447021\n",
       "2024-11-15 12:20:32.660134 -2.410970 -0.384722 -1.103135 -1.067410\n",
       "2024-11-16 12:20:32.660134  1.074513  1.605592  0.815128 -0.689664"
      ]
     },
     "execution_count": 39,
     "metadata": {},
     "output_type": "execute_result"
    }
   ],
   "source": [
    "num_arr=np.random.randn(7,4)\n",
    "columns=['A','B','C','D']\n",
    "df1=pd.DataFrame(num_arr,index=date,columns=columns)\n",
    "df1"
   ]
  },
  {
   "cell_type": "code",
   "execution_count": 40,
   "id": "3eff8bfd-7090-4e29-b0de-cecd4c2e78a1",
   "metadata": {},
   "outputs": [
    {
     "data": {
      "text/plain": [
       "A    float64\n",
       "B    float64\n",
       "C    float64\n",
       "D    float64\n",
       "dtype: object"
      ]
     },
     "execution_count": 40,
     "metadata": {},
     "output_type": "execute_result"
    }
   ],
   "source": [
    "df1.dtypes"
   ]
  },
  {
   "cell_type": "code",
   "execution_count": 41,
   "id": "1369a230-e4f5-4ba4-a281-e586427c4e37",
   "metadata": {},
   "outputs": [
    {
     "data": {
      "text/html": [
       "<div>\n",
       "<style scoped>\n",
       "    .dataframe tbody tr th:only-of-type {\n",
       "        vertical-align: middle;\n",
       "    }\n",
       "\n",
       "    .dataframe tbody tr th {\n",
       "        vertical-align: top;\n",
       "    }\n",
       "\n",
       "    .dataframe thead th {\n",
       "        text-align: right;\n",
       "    }\n",
       "</style>\n",
       "<table border=\"1\" class=\"dataframe\">\n",
       "  <thead>\n",
       "    <tr style=\"text-align: right;\">\n",
       "      <th></th>\n",
       "      <th>A</th>\n",
       "      <th>B</th>\n",
       "      <th>C</th>\n",
       "      <th>D</th>\n",
       "    </tr>\n",
       "  </thead>\n",
       "  <tbody>\n",
       "    <tr>\n",
       "      <th>2024-11-10 12:20:32.660134</th>\n",
       "      <td>0.214694</td>\n",
       "      <td>-2.102841</td>\n",
       "      <td>1.684711</td>\n",
       "      <td>1.103730</td>\n",
       "    </tr>\n",
       "    <tr>\n",
       "      <th>2024-11-11 12:20:32.660134</th>\n",
       "      <td>1.157646</td>\n",
       "      <td>0.142838</td>\n",
       "      <td>-0.970640</td>\n",
       "      <td>0.447524</td>\n",
       "    </tr>\n",
       "    <tr>\n",
       "      <th>2024-11-12 12:20:32.660134</th>\n",
       "      <td>0.953690</td>\n",
       "      <td>-0.342970</td>\n",
       "      <td>-0.065576</td>\n",
       "      <td>0.502173</td>\n",
       "    </tr>\n",
       "    <tr>\n",
       "      <th>2024-11-13 12:20:32.660134</th>\n",
       "      <td>0.028854</td>\n",
       "      <td>0.681780</td>\n",
       "      <td>0.451821</td>\n",
       "      <td>-0.779449</td>\n",
       "    </tr>\n",
       "    <tr>\n",
       "      <th>2024-11-14 12:20:32.660134</th>\n",
       "      <td>0.394028</td>\n",
       "      <td>1.559451</td>\n",
       "      <td>-1.005721</td>\n",
       "      <td>0.447021</td>\n",
       "    </tr>\n",
       "  </tbody>\n",
       "</table>\n",
       "</div>"
      ],
      "text/plain": [
       "                                   A         B         C         D\n",
       "2024-11-10 12:20:32.660134  0.214694 -2.102841  1.684711  1.103730\n",
       "2024-11-11 12:20:32.660134  1.157646  0.142838 -0.970640  0.447524\n",
       "2024-11-12 12:20:32.660134  0.953690 -0.342970 -0.065576  0.502173\n",
       "2024-11-13 12:20:32.660134  0.028854  0.681780  0.451821 -0.779449\n",
       "2024-11-14 12:20:32.660134  0.394028  1.559451 -1.005721  0.447021"
      ]
     },
     "execution_count": 41,
     "metadata": {},
     "output_type": "execute_result"
    }
   ],
   "source": [
    "df1.head()"
   ]
  },
  {
   "cell_type": "code",
   "execution_count": 42,
   "id": "c8ee81e2-ab7c-4918-bdd8-d569a01a6a00",
   "metadata": {},
   "outputs": [
    {
     "data": {
      "text/html": [
       "<div>\n",
       "<style scoped>\n",
       "    .dataframe tbody tr th:only-of-type {\n",
       "        vertical-align: middle;\n",
       "    }\n",
       "\n",
       "    .dataframe tbody tr th {\n",
       "        vertical-align: top;\n",
       "    }\n",
       "\n",
       "    .dataframe thead th {\n",
       "        text-align: right;\n",
       "    }\n",
       "</style>\n",
       "<table border=\"1\" class=\"dataframe\">\n",
       "  <thead>\n",
       "    <tr style=\"text-align: right;\">\n",
       "      <th></th>\n",
       "      <th>Name</th>\n",
       "      <th>Age</th>\n",
       "      <th>Mark</th>\n",
       "    </tr>\n",
       "  </thead>\n",
       "  <tbody>\n",
       "    <tr>\n",
       "      <th>1</th>\n",
       "      <td>Deepak</td>\n",
       "      <td>20</td>\n",
       "      <td>80</td>\n",
       "    </tr>\n",
       "    <tr>\n",
       "      <th>2</th>\n",
       "      <td>Demon</td>\n",
       "      <td>21</td>\n",
       "      <td>76</td>\n",
       "    </tr>\n",
       "    <tr>\n",
       "      <th>3</th>\n",
       "      <td>Trio</td>\n",
       "      <td>19</td>\n",
       "      <td>95</td>\n",
       "    </tr>\n",
       "    <tr>\n",
       "      <th>4</th>\n",
       "      <td>Naruto</td>\n",
       "      <td>17</td>\n",
       "      <td>86</td>\n",
       "    </tr>\n",
       "    <tr>\n",
       "      <th>5</th>\n",
       "      <td>LivMorgan</td>\n",
       "      <td>23</td>\n",
       "      <td>89</td>\n",
       "    </tr>\n",
       "    <tr>\n",
       "      <th>6</th>\n",
       "      <td>Roman</td>\n",
       "      <td>24</td>\n",
       "      <td>90</td>\n",
       "    </tr>\n",
       "  </tbody>\n",
       "</table>\n",
       "</div>"
      ],
      "text/plain": [
       "        Name  Age  Mark\n",
       "1     Deepak   20    80\n",
       "2      Demon   21    76\n",
       "3       Trio   19    95\n",
       "4     Naruto   17    86\n",
       "5  LivMorgan   23    89\n",
       "6      Roman   24    90"
      ]
     },
     "execution_count": 42,
     "metadata": {},
     "output_type": "execute_result"
    }
   ],
   "source": [
    "#creating dataframe with dictionary\n",
    "stdata={\"Name\":[\"Deepak\",\"Demon\",\"Trio\",\"Naruto\",\"LivMorgan\",\"Roman\"],\n",
    "        \"Age\":[20,21,19,17,23,24],\n",
    "        \"Mark\":[80,76,95,86,89,90]}\n",
    "sno=[1,2,3,4,5,6]\n",
    "df_2=pd.DataFrame(stdata,index=sno)\n",
    "df_2"
   ]
  },
  {
   "cell_type": "code",
   "execution_count": 43,
   "id": "22cdaee7-3078-412f-a2d4-d66e99bd0b20",
   "metadata": {},
   "outputs": [
    {
     "data": {
      "text/plain": [
       "Name    object\n",
       "Age      int64\n",
       "Mark     int64\n",
       "dtype: object"
      ]
     },
     "execution_count": 43,
     "metadata": {},
     "output_type": "execute_result"
    }
   ],
   "source": [
    "df_2.dtypes"
   ]
  },
  {
   "cell_type": "code",
   "execution_count": 44,
   "id": "eb9982ac-f118-4f83-b6fe-50a2680088b8",
   "metadata": {},
   "outputs": [
    {
     "data": {
      "text/html": [
       "<div>\n",
       "<style scoped>\n",
       "    .dataframe tbody tr th:only-of-type {\n",
       "        vertical-align: middle;\n",
       "    }\n",
       "\n",
       "    .dataframe tbody tr th {\n",
       "        vertical-align: top;\n",
       "    }\n",
       "\n",
       "    .dataframe thead th {\n",
       "        text-align: right;\n",
       "    }\n",
       "</style>\n",
       "<table border=\"1\" class=\"dataframe\">\n",
       "  <thead>\n",
       "    <tr style=\"text-align: right;\">\n",
       "      <th></th>\n",
       "      <th>Name</th>\n",
       "      <th>Age</th>\n",
       "      <th>Mark</th>\n",
       "    </tr>\n",
       "  </thead>\n",
       "  <tbody>\n",
       "    <tr>\n",
       "      <th>1</th>\n",
       "      <td>Deepak</td>\n",
       "      <td>20</td>\n",
       "      <td>80</td>\n",
       "    </tr>\n",
       "    <tr>\n",
       "      <th>2</th>\n",
       "      <td>Demon</td>\n",
       "      <td>21</td>\n",
       "      <td>76</td>\n",
       "    </tr>\n",
       "    <tr>\n",
       "      <th>3</th>\n",
       "      <td>Trio</td>\n",
       "      <td>19</td>\n",
       "      <td>95</td>\n",
       "    </tr>\n",
       "    <tr>\n",
       "      <th>4</th>\n",
       "      <td>Naruto</td>\n",
       "      <td>17</td>\n",
       "      <td>86</td>\n",
       "    </tr>\n",
       "    <tr>\n",
       "      <th>5</th>\n",
       "      <td>LivMorgan</td>\n",
       "      <td>23</td>\n",
       "      <td>89</td>\n",
       "    </tr>\n",
       "  </tbody>\n",
       "</table>\n",
       "</div>"
      ],
      "text/plain": [
       "        Name  Age  Mark\n",
       "1     Deepak   20    80\n",
       "2      Demon   21    76\n",
       "3       Trio   19    95\n",
       "4     Naruto   17    86\n",
       "5  LivMorgan   23    89"
      ]
     },
     "execution_count": 44,
     "metadata": {},
     "output_type": "execute_result"
    }
   ],
   "source": [
    "df_2.head()"
   ]
  },
  {
   "cell_type": "code",
   "execution_count": 45,
   "id": "aa22d472-5a0b-48b2-b3e0-1e61ba860058",
   "metadata": {},
   "outputs": [
    {
     "data": {
      "text/html": [
       "<div>\n",
       "<style scoped>\n",
       "    .dataframe tbody tr th:only-of-type {\n",
       "        vertical-align: middle;\n",
       "    }\n",
       "\n",
       "    .dataframe tbody tr th {\n",
       "        vertical-align: top;\n",
       "    }\n",
       "\n",
       "    .dataframe thead th {\n",
       "        text-align: right;\n",
       "    }\n",
       "</style>\n",
       "<table border=\"1\" class=\"dataframe\">\n",
       "  <thead>\n",
       "    <tr style=\"text-align: right;\">\n",
       "      <th></th>\n",
       "      <th>Age</th>\n",
       "      <th>Mark</th>\n",
       "    </tr>\n",
       "  </thead>\n",
       "  <tbody>\n",
       "    <tr>\n",
       "      <th>count</th>\n",
       "      <td>6.000000</td>\n",
       "      <td>6.000000</td>\n",
       "    </tr>\n",
       "    <tr>\n",
       "      <th>mean</th>\n",
       "      <td>20.666667</td>\n",
       "      <td>86.000000</td>\n",
       "    </tr>\n",
       "    <tr>\n",
       "      <th>std</th>\n",
       "      <td>2.581989</td>\n",
       "      <td>6.957011</td>\n",
       "    </tr>\n",
       "    <tr>\n",
       "      <th>min</th>\n",
       "      <td>17.000000</td>\n",
       "      <td>76.000000</td>\n",
       "    </tr>\n",
       "    <tr>\n",
       "      <th>25%</th>\n",
       "      <td>19.250000</td>\n",
       "      <td>81.500000</td>\n",
       "    </tr>\n",
       "    <tr>\n",
       "      <th>50%</th>\n",
       "      <td>20.500000</td>\n",
       "      <td>87.500000</td>\n",
       "    </tr>\n",
       "    <tr>\n",
       "      <th>75%</th>\n",
       "      <td>22.500000</td>\n",
       "      <td>89.750000</td>\n",
       "    </tr>\n",
       "    <tr>\n",
       "      <th>max</th>\n",
       "      <td>24.000000</td>\n",
       "      <td>95.000000</td>\n",
       "    </tr>\n",
       "  </tbody>\n",
       "</table>\n",
       "</div>"
      ],
      "text/plain": [
       "             Age       Mark\n",
       "count   6.000000   6.000000\n",
       "mean   20.666667  86.000000\n",
       "std     2.581989   6.957011\n",
       "min    17.000000  76.000000\n",
       "25%    19.250000  81.500000\n",
       "50%    20.500000  87.500000\n",
       "75%    22.500000  89.750000\n",
       "max    24.000000  95.000000"
      ]
     },
     "execution_count": 45,
     "metadata": {},
     "output_type": "execute_result"
    }
   ],
   "source": [
    "df_2.describe()"
   ]
  },
  {
   "cell_type": "code",
   "execution_count": 46,
   "id": "64702284-c62d-4516-8bc5-f4ec6453d183",
   "metadata": {},
   "outputs": [
    {
     "data": {
      "text/plain": [
       "(6, 3)"
      ]
     },
     "execution_count": 46,
     "metadata": {},
     "output_type": "execute_result"
    }
   ],
   "source": [
    "df_2.shape"
   ]
  },
  {
   "cell_type": "code",
   "execution_count": 47,
   "id": "4642cfd8-aa6f-48fd-92cb-2b37fc9d25f6",
   "metadata": {},
   "outputs": [
    {
     "data": {
      "text/plain": [
       "18"
      ]
     },
     "execution_count": 47,
     "metadata": {},
     "output_type": "execute_result"
    }
   ],
   "source": [
    "df_2.size"
   ]
  },
  {
   "cell_type": "code",
   "execution_count": 48,
   "id": "f67c9a90-6d4f-48cc-bf7b-58c2e157d6d1",
   "metadata": {},
   "outputs": [
    {
     "data": {
      "text/plain": [
       "Index(['Name', 'Age', 'Mark'], dtype='object')"
      ]
     },
     "execution_count": 48,
     "metadata": {},
     "output_type": "execute_result"
    }
   ],
   "source": [
    "df_2.columns"
   ]
  },
  {
   "cell_type": "code",
   "execution_count": 49,
   "id": "81bb49a9-e464-4e67-8d0b-19f128156c09",
   "metadata": {},
   "outputs": [
    {
     "data": {
      "text/html": [
       "<div>\n",
       "<style scoped>\n",
       "    .dataframe tbody tr th:only-of-type {\n",
       "        vertical-align: middle;\n",
       "    }\n",
       "\n",
       "    .dataframe tbody tr th {\n",
       "        vertical-align: top;\n",
       "    }\n",
       "\n",
       "    .dataframe thead th {\n",
       "        text-align: right;\n",
       "    }\n",
       "</style>\n",
       "<table border=\"1\" class=\"dataframe\">\n",
       "  <thead>\n",
       "    <tr style=\"text-align: right;\">\n",
       "      <th></th>\n",
       "      <th>1</th>\n",
       "      <th>2</th>\n",
       "      <th>3</th>\n",
       "      <th>4</th>\n",
       "      <th>5</th>\n",
       "      <th>6</th>\n",
       "    </tr>\n",
       "  </thead>\n",
       "  <tbody>\n",
       "    <tr>\n",
       "      <th>Name</th>\n",
       "      <td>Deepak</td>\n",
       "      <td>Demon</td>\n",
       "      <td>Trio</td>\n",
       "      <td>Naruto</td>\n",
       "      <td>LivMorgan</td>\n",
       "      <td>Roman</td>\n",
       "    </tr>\n",
       "    <tr>\n",
       "      <th>Age</th>\n",
       "      <td>20</td>\n",
       "      <td>21</td>\n",
       "      <td>19</td>\n",
       "      <td>17</td>\n",
       "      <td>23</td>\n",
       "      <td>24</td>\n",
       "    </tr>\n",
       "    <tr>\n",
       "      <th>Mark</th>\n",
       "      <td>80</td>\n",
       "      <td>76</td>\n",
       "      <td>95</td>\n",
       "      <td>86</td>\n",
       "      <td>89</td>\n",
       "      <td>90</td>\n",
       "    </tr>\n",
       "  </tbody>\n",
       "</table>\n",
       "</div>"
      ],
      "text/plain": [
       "           1      2     3       4          5      6\n",
       "Name  Deepak  Demon  Trio  Naruto  LivMorgan  Roman\n",
       "Age       20     21    19      17         23     24\n",
       "Mark      80     76    95      86         89     90"
      ]
     },
     "execution_count": 49,
     "metadata": {},
     "output_type": "execute_result"
    }
   ],
   "source": [
    "df_2.T"
   ]
  },
  {
   "cell_type": "code",
   "execution_count": 50,
   "id": "2869df68-530f-4da6-93c7-a63e623fc84f",
   "metadata": {},
   "outputs": [
    {
     "data": {
      "text/html": [
       "<div>\n",
       "<style scoped>\n",
       "    .dataframe tbody tr th:only-of-type {\n",
       "        vertical-align: middle;\n",
       "    }\n",
       "\n",
       "    .dataframe tbody tr th {\n",
       "        vertical-align: top;\n",
       "    }\n",
       "\n",
       "    .dataframe thead th {\n",
       "        text-align: right;\n",
       "    }\n",
       "</style>\n",
       "<table border=\"1\" class=\"dataframe\">\n",
       "  <thead>\n",
       "    <tr style=\"text-align: right;\">\n",
       "      <th></th>\n",
       "      <th>Name</th>\n",
       "      <th>Age</th>\n",
       "      <th>Mark</th>\n",
       "    </tr>\n",
       "  </thead>\n",
       "  <tbody>\n",
       "    <tr>\n",
       "      <th>3</th>\n",
       "      <td>Trio</td>\n",
       "      <td>19</td>\n",
       "      <td>95</td>\n",
       "    </tr>\n",
       "    <tr>\n",
       "      <th>6</th>\n",
       "      <td>Roman</td>\n",
       "      <td>24</td>\n",
       "      <td>90</td>\n",
       "    </tr>\n",
       "    <tr>\n",
       "      <th>5</th>\n",
       "      <td>LivMorgan</td>\n",
       "      <td>23</td>\n",
       "      <td>89</td>\n",
       "    </tr>\n",
       "    <tr>\n",
       "      <th>4</th>\n",
       "      <td>Naruto</td>\n",
       "      <td>17</td>\n",
       "      <td>86</td>\n",
       "    </tr>\n",
       "    <tr>\n",
       "      <th>1</th>\n",
       "      <td>Deepak</td>\n",
       "      <td>20</td>\n",
       "      <td>80</td>\n",
       "    </tr>\n",
       "    <tr>\n",
       "      <th>2</th>\n",
       "      <td>Demon</td>\n",
       "      <td>21</td>\n",
       "      <td>76</td>\n",
       "    </tr>\n",
       "  </tbody>\n",
       "</table>\n",
       "</div>"
      ],
      "text/plain": [
       "        Name  Age  Mark\n",
       "3       Trio   19    95\n",
       "6      Roman   24    90\n",
       "5  LivMorgan   23    89\n",
       "4     Naruto   17    86\n",
       "1     Deepak   20    80\n",
       "2      Demon   21    76"
      ]
     },
     "execution_count": 50,
     "metadata": {},
     "output_type": "execute_result"
    }
   ],
   "source": [
    "df_2.sort_values(by='Mark',ascending=False)"
   ]
  },
  {
   "cell_type": "code",
   "execution_count": 51,
   "id": "bd598f3d-3470-4770-bfae-293cc3b2b720",
   "metadata": {},
   "outputs": [
    {
     "data": {
      "text/html": [
       "<div>\n",
       "<style scoped>\n",
       "    .dataframe tbody tr th:only-of-type {\n",
       "        vertical-align: middle;\n",
       "    }\n",
       "\n",
       "    .dataframe tbody tr th {\n",
       "        vertical-align: top;\n",
       "    }\n",
       "\n",
       "    .dataframe thead th {\n",
       "        text-align: right;\n",
       "    }\n",
       "</style>\n",
       "<table border=\"1\" class=\"dataframe\">\n",
       "  <thead>\n",
       "    <tr style=\"text-align: right;\">\n",
       "      <th></th>\n",
       "      <th>Name</th>\n",
       "      <th>Age</th>\n",
       "      <th>Mark</th>\n",
       "    </tr>\n",
       "  </thead>\n",
       "  <tbody>\n",
       "    <tr>\n",
       "      <th>1</th>\n",
       "      <td>Deepak</td>\n",
       "      <td>20</td>\n",
       "      <td>80</td>\n",
       "    </tr>\n",
       "    <tr>\n",
       "      <th>2</th>\n",
       "      <td>Demon</td>\n",
       "      <td>21</td>\n",
       "      <td>76</td>\n",
       "    </tr>\n",
       "    <tr>\n",
       "      <th>3</th>\n",
       "      <td>Trio</td>\n",
       "      <td>19</td>\n",
       "      <td>95</td>\n",
       "    </tr>\n",
       "  </tbody>\n",
       "</table>\n",
       "</div>"
      ],
      "text/plain": [
       "     Name  Age  Mark\n",
       "1  Deepak   20    80\n",
       "2   Demon   21    76\n",
       "3    Trio   19    95"
      ]
     },
     "execution_count": 51,
     "metadata": {},
     "output_type": "execute_result"
    }
   ],
   "source": [
    "#slicing dataframe\n",
    "df_2[0:3]"
   ]
  },
  {
   "cell_type": "code",
   "execution_count": 52,
   "id": "ab250e20-4667-447f-b25e-c8f704d6b2f6",
   "metadata": {},
   "outputs": [
    {
     "data": {
      "text/html": [
       "<div>\n",
       "<style scoped>\n",
       "    .dataframe tbody tr th:only-of-type {\n",
       "        vertical-align: middle;\n",
       "    }\n",
       "\n",
       "    .dataframe tbody tr th {\n",
       "        vertical-align: top;\n",
       "    }\n",
       "\n",
       "    .dataframe thead th {\n",
       "        text-align: right;\n",
       "    }\n",
       "</style>\n",
       "<table border=\"1\" class=\"dataframe\">\n",
       "  <thead>\n",
       "    <tr style=\"text-align: right;\">\n",
       "      <th></th>\n",
       "      <th>Age</th>\n",
       "      <th>Mark</th>\n",
       "    </tr>\n",
       "  </thead>\n",
       "  <tbody>\n",
       "    <tr>\n",
       "      <th>1</th>\n",
       "      <td>20</td>\n",
       "      <td>80</td>\n",
       "    </tr>\n",
       "    <tr>\n",
       "      <th>2</th>\n",
       "      <td>21</td>\n",
       "      <td>76</td>\n",
       "    </tr>\n",
       "    <tr>\n",
       "      <th>3</th>\n",
       "      <td>19</td>\n",
       "      <td>95</td>\n",
       "    </tr>\n",
       "    <tr>\n",
       "      <th>4</th>\n",
       "      <td>17</td>\n",
       "      <td>86</td>\n",
       "    </tr>\n",
       "    <tr>\n",
       "      <th>5</th>\n",
       "      <td>23</td>\n",
       "      <td>89</td>\n",
       "    </tr>\n",
       "    <tr>\n",
       "      <th>6</th>\n",
       "      <td>24</td>\n",
       "      <td>90</td>\n",
       "    </tr>\n",
       "  </tbody>\n",
       "</table>\n",
       "</div>"
      ],
      "text/plain": [
       "   Age  Mark\n",
       "1   20    80\n",
       "2   21    76\n",
       "3   19    95\n",
       "4   17    86\n",
       "5   23    89\n",
       "6   24    90"
      ]
     },
     "execution_count": 52,
     "metadata": {},
     "output_type": "execute_result"
    }
   ],
   "source": [
    "#query dataframe by tag\n",
    "df_2[['Age','Mark']]"
   ]
  },
  {
   "cell_type": "code",
   "execution_count": 53,
   "id": "775685e3-cef8-499d-b5d4-0019f8c3318d",
   "metadata": {},
   "outputs": [
    {
     "data": {
      "text/html": [
       "<div>\n",
       "<style scoped>\n",
       "    .dataframe tbody tr th:only-of-type {\n",
       "        vertical-align: middle;\n",
       "    }\n",
       "\n",
       "    .dataframe tbody tr th {\n",
       "        vertical-align: top;\n",
       "    }\n",
       "\n",
       "    .dataframe thead th {\n",
       "        text-align: right;\n",
       "    }\n",
       "</style>\n",
       "<table border=\"1\" class=\"dataframe\">\n",
       "  <thead>\n",
       "    <tr style=\"text-align: right;\">\n",
       "      <th></th>\n",
       "      <th>Name</th>\n",
       "      <th>Age</th>\n",
       "      <th>Mark</th>\n",
       "    </tr>\n",
       "  </thead>\n",
       "  <tbody>\n",
       "    <tr>\n",
       "      <th>2</th>\n",
       "      <td>Demon</td>\n",
       "      <td>21</td>\n",
       "      <td>76</td>\n",
       "    </tr>\n",
       "    <tr>\n",
       "      <th>3</th>\n",
       "      <td>Trio</td>\n",
       "      <td>19</td>\n",
       "      <td>95</td>\n",
       "    </tr>\n",
       "  </tbody>\n",
       "</table>\n",
       "</div>"
      ],
      "text/plain": [
       "    Name  Age  Mark\n",
       "2  Demon   21    76\n",
       "3   Trio   19    95"
      ]
     },
     "execution_count": 53,
     "metadata": {},
     "output_type": "execute_result"
    }
   ],
   "source": [
    "df_2.iloc[1:3]"
   ]
  },
  {
   "cell_type": "code",
   "execution_count": 54,
   "id": "04ec7aa1-fa0d-4892-bc4e-b4af10de804c",
   "metadata": {},
   "outputs": [
    {
     "data": {
      "text/html": [
       "<div>\n",
       "<style scoped>\n",
       "    .dataframe tbody tr th:only-of-type {\n",
       "        vertical-align: middle;\n",
       "    }\n",
       "\n",
       "    .dataframe tbody tr th {\n",
       "        vertical-align: top;\n",
       "    }\n",
       "\n",
       "    .dataframe thead th {\n",
       "        text-align: right;\n",
       "    }\n",
       "</style>\n",
       "<table border=\"1\" class=\"dataframe\">\n",
       "  <thead>\n",
       "    <tr style=\"text-align: right;\">\n",
       "      <th></th>\n",
       "      <th>Name</th>\n",
       "      <th>Age</th>\n",
       "      <th>Mark</th>\n",
       "    </tr>\n",
       "  </thead>\n",
       "  <tbody>\n",
       "    <tr>\n",
       "      <th>1</th>\n",
       "      <td>Deepak</td>\n",
       "      <td>20</td>\n",
       "      <td>80</td>\n",
       "    </tr>\n",
       "    <tr>\n",
       "      <th>2</th>\n",
       "      <td>Demon</td>\n",
       "      <td>21</td>\n",
       "      <td>76</td>\n",
       "    </tr>\n",
       "    <tr>\n",
       "      <th>3</th>\n",
       "      <td>Trio</td>\n",
       "      <td>19</td>\n",
       "      <td>95</td>\n",
       "    </tr>\n",
       "    <tr>\n",
       "      <th>4</th>\n",
       "      <td>Naruto</td>\n",
       "      <td>17</td>\n",
       "      <td>86</td>\n",
       "    </tr>\n",
       "    <tr>\n",
       "      <th>5</th>\n",
       "      <td>LivMorgan</td>\n",
       "      <td>23</td>\n",
       "      <td>89</td>\n",
       "    </tr>\n",
       "    <tr>\n",
       "      <th>6</th>\n",
       "      <td>Roman</td>\n",
       "      <td>24</td>\n",
       "      <td>90</td>\n",
       "    </tr>\n",
       "  </tbody>\n",
       "</table>\n",
       "</div>"
      ],
      "text/plain": [
       "        Name  Age  Mark\n",
       "1     Deepak   20    80\n",
       "2      Demon   21    76\n",
       "3       Trio   19    95\n",
       "4     Naruto   17    86\n",
       "5  LivMorgan   23    89\n",
       "6      Roman   24    90"
      ]
     },
     "execution_count": 54,
     "metadata": {},
     "output_type": "execute_result"
    }
   ],
   "source": [
    "df3=df_2.copy()\n",
    "df3"
   ]
  },
  {
   "cell_type": "code",
   "execution_count": 55,
   "id": "a34095da-1630-46c4-884c-d9b36be433ca",
   "metadata": {},
   "outputs": [
    {
     "data": {
      "text/html": [
       "<div>\n",
       "<style scoped>\n",
       "    .dataframe tbody tr th:only-of-type {\n",
       "        vertical-align: middle;\n",
       "    }\n",
       "\n",
       "    .dataframe tbody tr th {\n",
       "        vertical-align: top;\n",
       "    }\n",
       "\n",
       "    .dataframe thead th {\n",
       "        text-align: right;\n",
       "    }\n",
       "</style>\n",
       "<table border=\"1\" class=\"dataframe\">\n",
       "  <thead>\n",
       "    <tr style=\"text-align: right;\">\n",
       "      <th></th>\n",
       "      <th>Name</th>\n",
       "      <th>Age</th>\n",
       "      <th>Mark</th>\n",
       "    </tr>\n",
       "  </thead>\n",
       "  <tbody>\n",
       "    <tr>\n",
       "      <th>1</th>\n",
       "      <td>False</td>\n",
       "      <td>False</td>\n",
       "      <td>False</td>\n",
       "    </tr>\n",
       "    <tr>\n",
       "      <th>2</th>\n",
       "      <td>False</td>\n",
       "      <td>False</td>\n",
       "      <td>False</td>\n",
       "    </tr>\n",
       "    <tr>\n",
       "      <th>3</th>\n",
       "      <td>False</td>\n",
       "      <td>False</td>\n",
       "      <td>False</td>\n",
       "    </tr>\n",
       "    <tr>\n",
       "      <th>4</th>\n",
       "      <td>False</td>\n",
       "      <td>False</td>\n",
       "      <td>False</td>\n",
       "    </tr>\n",
       "    <tr>\n",
       "      <th>5</th>\n",
       "      <td>False</td>\n",
       "      <td>False</td>\n",
       "      <td>False</td>\n",
       "    </tr>\n",
       "    <tr>\n",
       "      <th>6</th>\n",
       "      <td>False</td>\n",
       "      <td>False</td>\n",
       "      <td>False</td>\n",
       "    </tr>\n",
       "  </tbody>\n",
       "</table>\n",
       "</div>"
      ],
      "text/plain": [
       "    Name    Age   Mark\n",
       "1  False  False  False\n",
       "2  False  False  False\n",
       "3  False  False  False\n",
       "4  False  False  False\n",
       "5  False  False  False\n",
       "6  False  False  False"
      ]
     },
     "execution_count": 55,
     "metadata": {},
     "output_type": "execute_result"
    }
   ],
   "source": [
    "df3.isnull()"
   ]
  },
  {
   "cell_type": "code",
   "execution_count": 56,
   "id": "8042d2c8-e266-47ac-af45-62f29977ac11",
   "metadata": {},
   "outputs": [
    {
     "data": {
      "text/plain": [
       "Name    0\n",
       "Age     0\n",
       "Mark    0\n",
       "dtype: int64"
      ]
     },
     "execution_count": 56,
     "metadata": {},
     "output_type": "execute_result"
    }
   ],
   "source": [
    "df3.isna().sum()"
   ]
  },
  {
   "cell_type": "code",
   "execution_count": 57,
   "id": "61c3f01d-a84e-4d82-b69b-63ede80f76e3",
   "metadata": {},
   "outputs": [
    {
     "data": {
      "text/html": [
       "<div>\n",
       "<style scoped>\n",
       "    .dataframe tbody tr th:only-of-type {\n",
       "        vertical-align: middle;\n",
       "    }\n",
       "\n",
       "    .dataframe tbody tr th {\n",
       "        vertical-align: top;\n",
       "    }\n",
       "\n",
       "    .dataframe thead th {\n",
       "        text-align: right;\n",
       "    }\n",
       "</style>\n",
       "<table border=\"1\" class=\"dataframe\">\n",
       "  <thead>\n",
       "    <tr style=\"text-align: right;\">\n",
       "      <th></th>\n",
       "      <th>Name</th>\n",
       "      <th>Age</th>\n",
       "      <th>Mark</th>\n",
       "    </tr>\n",
       "  </thead>\n",
       "  <tbody>\n",
       "    <tr>\n",
       "      <th>1</th>\n",
       "      <td>Deepak</td>\n",
       "      <td>20</td>\n",
       "      <td>90</td>\n",
       "    </tr>\n",
       "    <tr>\n",
       "      <th>2</th>\n",
       "      <td>Demon</td>\n",
       "      <td>21</td>\n",
       "      <td>76</td>\n",
       "    </tr>\n",
       "    <tr>\n",
       "      <th>3</th>\n",
       "      <td>Trio</td>\n",
       "      <td>19</td>\n",
       "      <td>95</td>\n",
       "    </tr>\n",
       "    <tr>\n",
       "      <th>4</th>\n",
       "      <td>Naruto</td>\n",
       "      <td>17</td>\n",
       "      <td>86</td>\n",
       "    </tr>\n",
       "    <tr>\n",
       "      <th>5</th>\n",
       "      <td>LivMorgan</td>\n",
       "      <td>23</td>\n",
       "      <td>89</td>\n",
       "    </tr>\n",
       "    <tr>\n",
       "      <th>6</th>\n",
       "      <td>Roman</td>\n",
       "      <td>24</td>\n",
       "      <td>90</td>\n",
       "    </tr>\n",
       "  </tbody>\n",
       "</table>\n",
       "</div>"
      ],
      "text/plain": [
       "        Name  Age  Mark\n",
       "1     Deepak   20    90\n",
       "2      Demon   21    76\n",
       "3       Trio   19    95\n",
       "4     Naruto   17    86\n",
       "5  LivMorgan   23    89\n",
       "6      Roman   24    90"
      ]
     },
     "execution_count": 57,
     "metadata": {},
     "output_type": "execute_result"
    }
   ],
   "source": [
    "# Modify values\n",
    "df3.loc[1,\"Mark\"]=90\n",
    "df3\n"
   ]
  },
  {
   "cell_type": "code",
   "execution_count": 58,
   "id": "2545d7fa-c072-44d8-8a62-1ac6f8a47d3a",
   "metadata": {},
   "outputs": [
    {
     "data": {
      "text/plain": [
       "Mark    87.666667\n",
       "dtype: float64"
      ]
     },
     "execution_count": 58,
     "metadata": {},
     "output_type": "execute_result"
    }
   ],
   "source": [
    "df3[[\"Mark\"]].mean()"
   ]
  },
  {
   "cell_type": "code",
   "execution_count": 59,
   "id": "bca7854f-b5ed-4414-b390-69e033d1f0bb",
   "metadata": {},
   "outputs": [
    {
     "data": {
      "text/plain": [
       "Name    DeepakDemonTrioNarutoLivMorganRoman\n",
       "Age                                     124\n",
       "Mark                                    526\n",
       "dtype: object"
      ]
     },
     "execution_count": 59,
     "metadata": {},
     "output_type": "execute_result"
    }
   ],
   "source": [
    "df3.sum()"
   ]
  },
  {
   "cell_type": "code",
   "execution_count": 60,
   "id": "cfa90449-069a-43a5-88b1-bab5c9823829",
   "metadata": {},
   "outputs": [
    {
     "data": {
      "text/plain": [
       "Mark    76\n",
       "dtype: int64"
      ]
     },
     "execution_count": 60,
     "metadata": {},
     "output_type": "execute_result"
    }
   ],
   "source": [
    "df3[[\"Mark\"]].min()"
   ]
  },
  {
   "cell_type": "code",
   "execution_count": 61,
   "id": "826f21ec-fdf4-40f9-b163-6b5eaec11e24",
   "metadata": {},
   "outputs": [
    {
     "data": {
      "text/plain": [
       "Mark    95\n",
       "dtype: int64"
      ]
     },
     "execution_count": 61,
     "metadata": {},
     "output_type": "execute_result"
    }
   ],
   "source": [
    "df3[[\"Mark\"]].max()"
   ]
  },
  {
   "cell_type": "markdown",
   "id": "a43387e2-2995-4772-8516-a6f89a26cc43",
   "metadata": {},
   "source": [
    "# operations for DataFrame Missing Values"
   ]
  },
  {
   "cell_type": "code",
   "execution_count": 63,
   "id": "fde335c0-cbb8-4bdf-97c7-54f74ac58663",
   "metadata": {},
   "outputs": [
    {
     "data": {
      "text/plain": [
       "{'Name': ['Deepak', 'Demon', 'Trio', 'Livmorgan', 'Roman'],\n",
       " 'Tamil_mark': [90, 76, 97, 87, 80],\n",
       " 'English_mark': [75, nan, 89, 76, 78],\n",
       " 'Maths_mark': [75, 67, 98, 78, nan],\n",
       " 'computermark': [89, nan, 90, 78, nan]}"
      ]
     },
     "execution_count": 63,
     "metadata": {},
     "output_type": "execute_result"
    }
   ],
   "source": [
    "dic={\"Name\":[\"Deepak\",\"Demon\",\"Trio\",\"Livmorgan\",\"Roman\"],\n",
    "     \"Tamil_mark\":[90,76,97,87,80],\n",
    "     \"English_mark\":[75,np.nan,89,76,78],\n",
    "     \"Maths_mark\":[75,67,98,78,np.nan],\n",
    "     \"computermark\":[89,np.nan,90,78,np.nan]}\n",
    "dic"
   ]
  },
  {
   "cell_type": "code",
   "execution_count": 117,
   "id": "0cb3df5c-3198-423b-89b6-6bf1b7d7f17b",
   "metadata": {},
   "outputs": [
    {
     "data": {
      "text/html": [
       "<div>\n",
       "<style scoped>\n",
       "    .dataframe tbody tr th:only-of-type {\n",
       "        vertical-align: middle;\n",
       "    }\n",
       "\n",
       "    .dataframe tbody tr th {\n",
       "        vertical-align: top;\n",
       "    }\n",
       "\n",
       "    .dataframe thead th {\n",
       "        text-align: right;\n",
       "    }\n",
       "</style>\n",
       "<table border=\"1\" class=\"dataframe\">\n",
       "  <thead>\n",
       "    <tr style=\"text-align: right;\">\n",
       "      <th></th>\n",
       "      <th>Name</th>\n",
       "      <th>Tamil_mark</th>\n",
       "      <th>English_mark</th>\n",
       "      <th>Maths_mark</th>\n",
       "      <th>computermark</th>\n",
       "    </tr>\n",
       "  </thead>\n",
       "  <tbody>\n",
       "    <tr>\n",
       "      <th>0</th>\n",
       "      <td>Deepak</td>\n",
       "      <td>90</td>\n",
       "      <td>75.0</td>\n",
       "      <td>75.0</td>\n",
       "      <td>89.0</td>\n",
       "    </tr>\n",
       "    <tr>\n",
       "      <th>1</th>\n",
       "      <td>Demon</td>\n",
       "      <td>76</td>\n",
       "      <td>NaN</td>\n",
       "      <td>67.0</td>\n",
       "      <td>NaN</td>\n",
       "    </tr>\n",
       "    <tr>\n",
       "      <th>2</th>\n",
       "      <td>Trio</td>\n",
       "      <td>97</td>\n",
       "      <td>89.0</td>\n",
       "      <td>98.0</td>\n",
       "      <td>90.0</td>\n",
       "    </tr>\n",
       "    <tr>\n",
       "      <th>3</th>\n",
       "      <td>Livmorgan</td>\n",
       "      <td>87</td>\n",
       "      <td>76.0</td>\n",
       "      <td>78.0</td>\n",
       "      <td>78.0</td>\n",
       "    </tr>\n",
       "    <tr>\n",
       "      <th>4</th>\n",
       "      <td>Roman</td>\n",
       "      <td>80</td>\n",
       "      <td>78.0</td>\n",
       "      <td>NaN</td>\n",
       "      <td>NaN</td>\n",
       "    </tr>\n",
       "  </tbody>\n",
       "</table>\n",
       "</div>"
      ],
      "text/plain": [
       "        Name  Tamil_mark  English_mark  Maths_mark  computermark\n",
       "0     Deepak          90          75.0        75.0          89.0\n",
       "1      Demon          76           NaN        67.0           NaN\n",
       "2       Trio          97          89.0        98.0          90.0\n",
       "3  Livmorgan          87          76.0        78.0          78.0\n",
       "4      Roman          80          78.0         NaN           NaN"
      ]
     },
     "execution_count": 117,
     "metadata": {},
     "output_type": "execute_result"
    }
   ],
   "source": [
    "ndf=pd.DataFrame(dic)\n",
    "ndf"
   ]
  },
  {
   "cell_type": "code",
   "execution_count": 119,
   "id": "39b4d74d-5c3d-47e9-a16d-a9958523313e",
   "metadata": {},
   "outputs": [
    {
     "data": {
      "text/html": [
       "<div>\n",
       "<style scoped>\n",
       "    .dataframe tbody tr th:only-of-type {\n",
       "        vertical-align: middle;\n",
       "    }\n",
       "\n",
       "    .dataframe tbody tr th {\n",
       "        vertical-align: top;\n",
       "    }\n",
       "\n",
       "    .dataframe thead th {\n",
       "        text-align: right;\n",
       "    }\n",
       "</style>\n",
       "<table border=\"1\" class=\"dataframe\">\n",
       "  <thead>\n",
       "    <tr style=\"text-align: right;\">\n",
       "      <th></th>\n",
       "      <th>Name</th>\n",
       "      <th>Tamil_mark</th>\n",
       "      <th>English_mark</th>\n",
       "      <th>Maths_mark</th>\n",
       "      <th>computermark</th>\n",
       "    </tr>\n",
       "  </thead>\n",
       "  <tbody>\n",
       "    <tr>\n",
       "      <th>0</th>\n",
       "      <td>Deepak</td>\n",
       "      <td>90</td>\n",
       "      <td>75.0</td>\n",
       "      <td>75.0</td>\n",
       "      <td>89.0</td>\n",
       "    </tr>\n",
       "    <tr>\n",
       "      <th>1</th>\n",
       "      <td>Demon</td>\n",
       "      <td>76</td>\n",
       "      <td>70.0</td>\n",
       "      <td>67.0</td>\n",
       "      <td>70.0</td>\n",
       "    </tr>\n",
       "    <tr>\n",
       "      <th>2</th>\n",
       "      <td>Trio</td>\n",
       "      <td>97</td>\n",
       "      <td>89.0</td>\n",
       "      <td>98.0</td>\n",
       "      <td>90.0</td>\n",
       "    </tr>\n",
       "    <tr>\n",
       "      <th>3</th>\n",
       "      <td>Livmorgan</td>\n",
       "      <td>87</td>\n",
       "      <td>76.0</td>\n",
       "      <td>78.0</td>\n",
       "      <td>78.0</td>\n",
       "    </tr>\n",
       "    <tr>\n",
       "      <th>4</th>\n",
       "      <td>Roman</td>\n",
       "      <td>80</td>\n",
       "      <td>78.0</td>\n",
       "      <td>70.0</td>\n",
       "      <td>70.0</td>\n",
       "    </tr>\n",
       "  </tbody>\n",
       "</table>\n",
       "</div>"
      ],
      "text/plain": [
       "        Name  Tamil_mark  English_mark  Maths_mark  computermark\n",
       "0     Deepak          90          75.0        75.0          89.0\n",
       "1      Demon          76          70.0        67.0          70.0\n",
       "2       Trio          97          89.0        98.0          90.0\n",
       "3  Livmorgan          87          76.0        78.0          78.0\n",
       "4      Roman          80          78.0        70.0          70.0"
      ]
     },
     "execution_count": 119,
     "metadata": {},
     "output_type": "execute_result"
    }
   ],
   "source": [
    "ndf.fillna(70)"
   ]
  },
  {
   "cell_type": "code",
   "execution_count": 140,
   "id": "54869496-37c9-4fcf-a2d4-5d075ed6a44a",
   "metadata": {},
   "outputs": [],
   "source": [
    "nMark=ndf['English_mark'].mean()\n",
    "ndf2=pd.DataFrame(ndf['English_mark'].fillna(nMark))"
   ]
  },
  {
   "cell_type": "code",
   "execution_count": 142,
   "id": "30b5e47b-ffea-4f89-a6cd-93be5f51eb62",
   "metadata": {},
   "outputs": [
    {
     "data": {
      "text/html": [
       "<div>\n",
       "<style scoped>\n",
       "    .dataframe tbody tr th:only-of-type {\n",
       "        vertical-align: middle;\n",
       "    }\n",
       "\n",
       "    .dataframe tbody tr th {\n",
       "        vertical-align: top;\n",
       "    }\n",
       "\n",
       "    .dataframe thead th {\n",
       "        text-align: right;\n",
       "    }\n",
       "</style>\n",
       "<table border=\"1\" class=\"dataframe\">\n",
       "  <thead>\n",
       "    <tr style=\"text-align: right;\">\n",
       "      <th></th>\n",
       "      <th>English_mark</th>\n",
       "    </tr>\n",
       "  </thead>\n",
       "  <tbody>\n",
       "    <tr>\n",
       "      <th>0</th>\n",
       "      <td>75.0</td>\n",
       "    </tr>\n",
       "    <tr>\n",
       "      <th>1</th>\n",
       "      <td>79.5</td>\n",
       "    </tr>\n",
       "    <tr>\n",
       "      <th>2</th>\n",
       "      <td>89.0</td>\n",
       "    </tr>\n",
       "    <tr>\n",
       "      <th>3</th>\n",
       "      <td>76.0</td>\n",
       "    </tr>\n",
       "    <tr>\n",
       "      <th>4</th>\n",
       "      <td>78.0</td>\n",
       "    </tr>\n",
       "  </tbody>\n",
       "</table>\n",
       "</div>"
      ],
      "text/plain": [
       "   English_mark\n",
       "0          75.0\n",
       "1          79.5\n",
       "2          89.0\n",
       "3          76.0\n",
       "4          78.0"
      ]
     },
     "execution_count": 142,
     "metadata": {},
     "output_type": "execute_result"
    }
   ],
   "source": [
    "ndf2"
   ]
  },
  {
   "cell_type": "code",
   "execution_count": 144,
   "id": "454c23ba-c4ce-4a33-973f-5222fed90a56",
   "metadata": {},
   "outputs": [
    {
     "data": {
      "text/html": [
       "<div>\n",
       "<style scoped>\n",
       "    .dataframe tbody tr th:only-of-type {\n",
       "        vertical-align: middle;\n",
       "    }\n",
       "\n",
       "    .dataframe tbody tr th {\n",
       "        vertical-align: top;\n",
       "    }\n",
       "\n",
       "    .dataframe thead th {\n",
       "        text-align: right;\n",
       "    }\n",
       "</style>\n",
       "<table border=\"1\" class=\"dataframe\">\n",
       "  <thead>\n",
       "    <tr style=\"text-align: right;\">\n",
       "      <th></th>\n",
       "      <th>Name</th>\n",
       "      <th>Tamil_mark</th>\n",
       "      <th>English_mark</th>\n",
       "      <th>Maths_mark</th>\n",
       "      <th>computermark</th>\n",
       "    </tr>\n",
       "  </thead>\n",
       "  <tbody>\n",
       "    <tr>\n",
       "      <th>0</th>\n",
       "      <td>Deepak</td>\n",
       "      <td>90</td>\n",
       "      <td>75.0</td>\n",
       "      <td>75.0</td>\n",
       "      <td>89.0</td>\n",
       "    </tr>\n",
       "    <tr>\n",
       "      <th>2</th>\n",
       "      <td>Trio</td>\n",
       "      <td>97</td>\n",
       "      <td>89.0</td>\n",
       "      <td>98.0</td>\n",
       "      <td>90.0</td>\n",
       "    </tr>\n",
       "    <tr>\n",
       "      <th>3</th>\n",
       "      <td>Livmorgan</td>\n",
       "      <td>87</td>\n",
       "      <td>76.0</td>\n",
       "      <td>78.0</td>\n",
       "      <td>78.0</td>\n",
       "    </tr>\n",
       "  </tbody>\n",
       "</table>\n",
       "</div>"
      ],
      "text/plain": [
       "        Name  Tamil_mark  English_mark  Maths_mark  computermark\n",
       "0     Deepak          90          75.0        75.0          89.0\n",
       "2       Trio          97          89.0        98.0          90.0\n",
       "3  Livmorgan          87          76.0        78.0          78.0"
      ]
     },
     "execution_count": 144,
     "metadata": {},
     "output_type": "execute_result"
    }
   ],
   "source": [
    "ndf.dropna(how='any')"
   ]
  },
  {
   "cell_type": "markdown",
   "id": "e97d0353-476d-4b43-9897-d9f66a65688a",
   "metadata": {},
   "source": [
    "# DataFrame File Operation"
   ]
  },
  {
   "cell_type": "code",
   "execution_count": 147,
   "id": "7b0c6fac-dd7b-4ee5-92aa-4bd9d27f5313",
   "metadata": {},
   "outputs": [],
   "source": [
    "ndf.to_csv('student.csv')"
   ]
  },
  {
   "cell_type": "code",
   "execution_count": 152,
   "id": "858f7a3b-de70-40c2-962d-9db1f3b32544",
   "metadata": {},
   "outputs": [
    {
     "data": {
      "text/html": [
       "<div>\n",
       "<style scoped>\n",
       "    .dataframe tbody tr th:only-of-type {\n",
       "        vertical-align: middle;\n",
       "    }\n",
       "\n",
       "    .dataframe tbody tr th {\n",
       "        vertical-align: top;\n",
       "    }\n",
       "\n",
       "    .dataframe thead th {\n",
       "        text-align: right;\n",
       "    }\n",
       "</style>\n",
       "<table border=\"1\" class=\"dataframe\">\n",
       "  <thead>\n",
       "    <tr style=\"text-align: right;\">\n",
       "      <th></th>\n",
       "      <th>Unnamed: 0</th>\n",
       "      <th>Name</th>\n",
       "      <th>Tamil_mark</th>\n",
       "      <th>English_mark</th>\n",
       "      <th>Maths_mark</th>\n",
       "      <th>computermark</th>\n",
       "    </tr>\n",
       "  </thead>\n",
       "  <tbody>\n",
       "    <tr>\n",
       "      <th>0</th>\n",
       "      <td>0</td>\n",
       "      <td>Deepak</td>\n",
       "      <td>90</td>\n",
       "      <td>75.0</td>\n",
       "      <td>75.0</td>\n",
       "      <td>89.0</td>\n",
       "    </tr>\n",
       "    <tr>\n",
       "      <th>1</th>\n",
       "      <td>1</td>\n",
       "      <td>Demon</td>\n",
       "      <td>76</td>\n",
       "      <td>NaN</td>\n",
       "      <td>67.0</td>\n",
       "      <td>NaN</td>\n",
       "    </tr>\n",
       "    <tr>\n",
       "      <th>2</th>\n",
       "      <td>2</td>\n",
       "      <td>Trio</td>\n",
       "      <td>97</td>\n",
       "      <td>89.0</td>\n",
       "      <td>98.0</td>\n",
       "      <td>90.0</td>\n",
       "    </tr>\n",
       "    <tr>\n",
       "      <th>3</th>\n",
       "      <td>3</td>\n",
       "      <td>Livmorgan</td>\n",
       "      <td>87</td>\n",
       "      <td>76.0</td>\n",
       "      <td>78.0</td>\n",
       "      <td>78.0</td>\n",
       "    </tr>\n",
       "    <tr>\n",
       "      <th>4</th>\n",
       "      <td>4</td>\n",
       "      <td>Roman</td>\n",
       "      <td>80</td>\n",
       "      <td>78.0</td>\n",
       "      <td>NaN</td>\n",
       "      <td>NaN</td>\n",
       "    </tr>\n",
       "  </tbody>\n",
       "</table>\n",
       "</div>"
      ],
      "text/plain": [
       "   Unnamed: 0       Name  Tamil_mark  English_mark  Maths_mark  computermark\n",
       "0           0     Deepak          90          75.0        75.0          89.0\n",
       "1           1      Demon          76           NaN        67.0           NaN\n",
       "2           2       Trio          97          89.0        98.0          90.0\n",
       "3           3  Livmorgan          87          76.0        78.0          78.0\n",
       "4           4      Roman          80          78.0         NaN           NaN"
      ]
     },
     "execution_count": 152,
     "metadata": {},
     "output_type": "execute_result"
    }
   ],
   "source": [
    "df_st=pd.read_csv('student.csv')\n",
    "df_st"
   ]
  },
  {
   "cell_type": "code",
   "execution_count": 154,
   "id": "675dbc2b-bdf3-4adb-89d2-8c74a87e1b8f",
   "metadata": {},
   "outputs": [
    {
     "data": {
      "text/html": [
       "<div>\n",
       "<style scoped>\n",
       "    .dataframe tbody tr th:only-of-type {\n",
       "        vertical-align: middle;\n",
       "    }\n",
       "\n",
       "    .dataframe tbody tr th {\n",
       "        vertical-align: top;\n",
       "    }\n",
       "\n",
       "    .dataframe thead th {\n",
       "        text-align: right;\n",
       "    }\n",
       "</style>\n",
       "<table border=\"1\" class=\"dataframe\">\n",
       "  <thead>\n",
       "    <tr style=\"text-align: right;\">\n",
       "      <th></th>\n",
       "      <th>Unnamed: 0</th>\n",
       "      <th>Name</th>\n",
       "      <th>Tamil_mark</th>\n",
       "      <th>English_mark</th>\n",
       "      <th>Maths_mark</th>\n",
       "      <th>computermark</th>\n",
       "    </tr>\n",
       "  </thead>\n",
       "  <tbody>\n",
       "    <tr>\n",
       "      <th>0</th>\n",
       "      <td>0</td>\n",
       "      <td>Deepak</td>\n",
       "      <td>90</td>\n",
       "      <td>75.0</td>\n",
       "      <td>75.0</td>\n",
       "      <td>89.0</td>\n",
       "    </tr>\n",
       "    <tr>\n",
       "      <th>1</th>\n",
       "      <td>1</td>\n",
       "      <td>Demon</td>\n",
       "      <td>76</td>\n",
       "      <td>NaN</td>\n",
       "      <td>67.0</td>\n",
       "      <td>NaN</td>\n",
       "    </tr>\n",
       "    <tr>\n",
       "      <th>2</th>\n",
       "      <td>2</td>\n",
       "      <td>Trio</td>\n",
       "      <td>97</td>\n",
       "      <td>89.0</td>\n",
       "      <td>98.0</td>\n",
       "      <td>90.0</td>\n",
       "    </tr>\n",
       "    <tr>\n",
       "      <th>3</th>\n",
       "      <td>3</td>\n",
       "      <td>Livmorgan</td>\n",
       "      <td>87</td>\n",
       "      <td>76.0</td>\n",
       "      <td>78.0</td>\n",
       "      <td>78.0</td>\n",
       "    </tr>\n",
       "    <tr>\n",
       "      <th>4</th>\n",
       "      <td>4</td>\n",
       "      <td>Roman</td>\n",
       "      <td>80</td>\n",
       "      <td>78.0</td>\n",
       "      <td>NaN</td>\n",
       "      <td>NaN</td>\n",
       "    </tr>\n",
       "  </tbody>\n",
       "</table>\n",
       "</div>"
      ],
      "text/plain": [
       "   Unnamed: 0       Name  Tamil_mark  English_mark  Maths_mark  computermark\n",
       "0           0     Deepak          90          75.0        75.0          89.0\n",
       "1           1      Demon          76           NaN        67.0           NaN\n",
       "2           2       Trio          97          89.0        98.0          90.0\n",
       "3           3  Livmorgan          87          76.0        78.0          78.0\n",
       "4           4      Roman          80          78.0         NaN           NaN"
      ]
     },
     "execution_count": 154,
     "metadata": {},
     "output_type": "execute_result"
    }
   ],
   "source": [
    "df_st.head()"
   ]
  },
  {
   "cell_type": "code",
   "execution_count": 174,
   "id": "4754e3ee-05bf-45ea-a152-8401f7dce811",
   "metadata": {},
   "outputs": [
    {
     "data": {
      "text/html": [
       "<div>\n",
       "<style scoped>\n",
       "    .dataframe tbody tr th:only-of-type {\n",
       "        vertical-align: middle;\n",
       "    }\n",
       "\n",
       "    .dataframe tbody tr th {\n",
       "        vertical-align: top;\n",
       "    }\n",
       "\n",
       "    .dataframe thead th {\n",
       "        text-align: right;\n",
       "    }\n",
       "</style>\n",
       "<table border=\"1\" class=\"dataframe\">\n",
       "  <thead>\n",
       "    <tr style=\"text-align: right;\">\n",
       "      <th></th>\n",
       "      <th>Unnamed: 0</th>\n",
       "      <th>Tamil_mark</th>\n",
       "      <th>English_mark</th>\n",
       "      <th>Maths_mark</th>\n",
       "      <th>computermark</th>\n",
       "    </tr>\n",
       "  </thead>\n",
       "  <tbody>\n",
       "    <tr>\n",
       "      <th>count</th>\n",
       "      <td>5.000000</td>\n",
       "      <td>5.000000</td>\n",
       "      <td>4.000000</td>\n",
       "      <td>4.000000</td>\n",
       "      <td>3.000000</td>\n",
       "    </tr>\n",
       "    <tr>\n",
       "      <th>mean</th>\n",
       "      <td>2.000000</td>\n",
       "      <td>86.000000</td>\n",
       "      <td>79.500000</td>\n",
       "      <td>79.500000</td>\n",
       "      <td>85.666667</td>\n",
       "    </tr>\n",
       "    <tr>\n",
       "      <th>std</th>\n",
       "      <td>1.581139</td>\n",
       "      <td>8.276473</td>\n",
       "      <td>6.454972</td>\n",
       "      <td>13.178265</td>\n",
       "      <td>6.658328</td>\n",
       "    </tr>\n",
       "    <tr>\n",
       "      <th>min</th>\n",
       "      <td>0.000000</td>\n",
       "      <td>76.000000</td>\n",
       "      <td>75.000000</td>\n",
       "      <td>67.000000</td>\n",
       "      <td>78.000000</td>\n",
       "    </tr>\n",
       "    <tr>\n",
       "      <th>25%</th>\n",
       "      <td>1.000000</td>\n",
       "      <td>80.000000</td>\n",
       "      <td>75.750000</td>\n",
       "      <td>73.000000</td>\n",
       "      <td>83.500000</td>\n",
       "    </tr>\n",
       "    <tr>\n",
       "      <th>50%</th>\n",
       "      <td>2.000000</td>\n",
       "      <td>87.000000</td>\n",
       "      <td>77.000000</td>\n",
       "      <td>76.500000</td>\n",
       "      <td>89.000000</td>\n",
       "    </tr>\n",
       "    <tr>\n",
       "      <th>75%</th>\n",
       "      <td>3.000000</td>\n",
       "      <td>90.000000</td>\n",
       "      <td>80.750000</td>\n",
       "      <td>83.000000</td>\n",
       "      <td>89.500000</td>\n",
       "    </tr>\n",
       "    <tr>\n",
       "      <th>max</th>\n",
       "      <td>4.000000</td>\n",
       "      <td>97.000000</td>\n",
       "      <td>89.000000</td>\n",
       "      <td>98.000000</td>\n",
       "      <td>90.000000</td>\n",
       "    </tr>\n",
       "  </tbody>\n",
       "</table>\n",
       "</div>"
      ],
      "text/plain": [
       "       Unnamed: 0  Tamil_mark  English_mark  Maths_mark  computermark\n",
       "count    5.000000    5.000000      4.000000    4.000000      3.000000\n",
       "mean     2.000000   86.000000     79.500000   79.500000     85.666667\n",
       "std      1.581139    8.276473      6.454972   13.178265      6.658328\n",
       "min      0.000000   76.000000     75.000000   67.000000     78.000000\n",
       "25%      1.000000   80.000000     75.750000   73.000000     83.500000\n",
       "50%      2.000000   87.000000     77.000000   76.500000     89.000000\n",
       "75%      3.000000   90.000000     80.750000   83.000000     89.500000\n",
       "max      4.000000   97.000000     89.000000   98.000000     90.000000"
      ]
     },
     "execution_count": 174,
     "metadata": {},
     "output_type": "execute_result"
    }
   ],
   "source": [
    "df_st.describe()\n"
   ]
  },
  {
   "cell_type": "code",
   "execution_count": 160,
   "id": "4ed9e06a-7f71-414f-abf8-e9b35dbf0e2e",
   "metadata": {},
   "outputs": [
    {
     "data": {
      "text/plain": [
       "(5, 6)"
      ]
     },
     "execution_count": 160,
     "metadata": {},
     "output_type": "execute_result"
    }
   ],
   "source": [
    "df_st.shape"
   ]
  },
  {
   "cell_type": "code",
   "execution_count": 162,
   "id": "2babd303-534e-4dce-ad16-ee177aaba317",
   "metadata": {},
   "outputs": [
    {
     "data": {
      "text/plain": [
       "30"
      ]
     },
     "execution_count": 162,
     "metadata": {},
     "output_type": "execute_result"
    }
   ],
   "source": [
    "df_st.size"
   ]
  },
  {
   "cell_type": "code",
   "execution_count": 164,
   "id": "961eec2c-4146-4843-81c3-6972dca941f8",
   "metadata": {},
   "outputs": [
    {
     "data": {
      "text/plain": [
       "Unnamed: 0      0\n",
       "Name            0\n",
       "Tamil_mark      0\n",
       "English_mark    1\n",
       "Maths_mark      1\n",
       "computermark    2\n",
       "dtype: int64"
      ]
     },
     "execution_count": 164,
     "metadata": {},
     "output_type": "execute_result"
    }
   ],
   "source": [
    "df_st.isna().sum()"
   ]
  },
  {
   "cell_type": "code",
   "execution_count": 176,
   "id": "953fcbcc-b408-4c64-9a6f-d1d239ed3066",
   "metadata": {},
   "outputs": [
    {
     "data": {
      "text/html": [
       "<div>\n",
       "<style scoped>\n",
       "    .dataframe tbody tr th:only-of-type {\n",
       "        vertical-align: middle;\n",
       "    }\n",
       "\n",
       "    .dataframe tbody tr th {\n",
       "        vertical-align: top;\n",
       "    }\n",
       "\n",
       "    .dataframe thead th {\n",
       "        text-align: right;\n",
       "    }\n",
       "</style>\n",
       "<table border=\"1\" class=\"dataframe\">\n",
       "  <thead>\n",
       "    <tr style=\"text-align: right;\">\n",
       "      <th></th>\n",
       "      <th>Unnamed: 0</th>\n",
       "      <th>Name</th>\n",
       "      <th>Tamil_mark</th>\n",
       "      <th>English_mark</th>\n",
       "      <th>Maths_mark</th>\n",
       "      <th>computermark</th>\n",
       "    </tr>\n",
       "  </thead>\n",
       "  <tbody>\n",
       "    <tr>\n",
       "      <th>0</th>\n",
       "      <td>0</td>\n",
       "      <td>Deepak</td>\n",
       "      <td>90</td>\n",
       "      <td>75.0</td>\n",
       "      <td>75.0</td>\n",
       "      <td>89.0</td>\n",
       "    </tr>\n",
       "    <tr>\n",
       "      <th>1</th>\n",
       "      <td>1</td>\n",
       "      <td>Demon</td>\n",
       "      <td>76</td>\n",
       "      <td>NaN</td>\n",
       "      <td>67.0</td>\n",
       "      <td>NaN</td>\n",
       "    </tr>\n",
       "    <tr>\n",
       "      <th>2</th>\n",
       "      <td>2</td>\n",
       "      <td>Trio</td>\n",
       "      <td>97</td>\n",
       "      <td>89.0</td>\n",
       "      <td>98.0</td>\n",
       "      <td>90.0</td>\n",
       "    </tr>\n",
       "    <tr>\n",
       "      <th>3</th>\n",
       "      <td>3</td>\n",
       "      <td>Livmorgan</td>\n",
       "      <td>87</td>\n",
       "      <td>76.0</td>\n",
       "      <td>78.0</td>\n",
       "      <td>78.0</td>\n",
       "    </tr>\n",
       "    <tr>\n",
       "      <th>4</th>\n",
       "      <td>4</td>\n",
       "      <td>Roman</td>\n",
       "      <td>80</td>\n",
       "      <td>78.0</td>\n",
       "      <td>NaN</td>\n",
       "      <td>NaN</td>\n",
       "    </tr>\n",
       "  </tbody>\n",
       "</table>\n",
       "</div>"
      ],
      "text/plain": [
       "   Unnamed: 0       Name  Tamil_mark  English_mark  Maths_mark  computermark\n",
       "0           0     Deepak          90          75.0        75.0          89.0\n",
       "1           1      Demon          76           NaN        67.0           NaN\n",
       "2           2       Trio          97          89.0        98.0          90.0\n",
       "3           3  Livmorgan          87          76.0        78.0          78.0\n",
       "4           4      Roman          80          78.0         NaN           NaN"
      ]
     },
     "execution_count": 176,
     "metadata": {},
     "output_type": "execute_result"
    }
   ],
   "source": [
    "ndf.to_excel('std.xlsx',sheet_name='Student_performance')\n",
    "df_st2=pd.read_excel('std.xlsx','Student_performance',index_col=None,na_values=['NA'])\n",
    "df_st2\n"
   ]
  }
 ],
 "metadata": {
  "kernelspec": {
   "display_name": "Python 3 (ipykernel)",
   "language": "python",
   "name": "python3"
  },
  "language_info": {
   "codemirror_mode": {
    "name": "ipython",
    "version": 3
   },
   "file_extension": ".py",
   "mimetype": "text/x-python",
   "name": "python",
   "nbconvert_exporter": "python",
   "pygments_lexer": "ipython3",
   "version": "3.12.4"
  }
 },
 "nbformat": 4,
 "nbformat_minor": 5
}
