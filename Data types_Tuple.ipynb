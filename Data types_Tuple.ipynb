{
 "cells": [
  {
   "cell_type": "markdown",
   "id": "73c644cf-9fb6-4265-ba27-5c96cbee5604",
   "metadata": {},
   "source": [
    "# Python Tuples"
   ]
  },
  {
   "cell_type": "code",
   "execution_count": 65,
   "id": "9978f541-9365-4cf8-9677-7eaa868a415e",
   "metadata": {},
   "outputs": [],
   "source": [
    "z=(21,\"Demon\",\"Kakashi\",16,\"GOAT\",\"&*\")"
   ]
  },
  {
   "cell_type": "code",
   "execution_count": 66,
   "id": "c8268bde-a48e-4d44-83d1-881c07458d1b",
   "metadata": {},
   "outputs": [
    {
     "data": {
      "text/plain": [
       "(21, 'Demon', 'Kakashi', 16, 'GOAT', '&*')"
      ]
     },
     "execution_count": 66,
     "metadata": {},
     "output_type": "execute_result"
    }
   ],
   "source": [
    "z"
   ]
  },
  {
   "cell_type": "code",
   "execution_count": 67,
   "id": "ef7bc6ca-ecaf-482c-874b-a6af6a273e59",
   "metadata": {},
   "outputs": [
    {
     "ename": "TypeError",
     "evalue": "'tuple' object does not support item assignment",
     "output_type": "error",
     "traceback": [
      "\u001b[1;31m---------------------------------------------------------------------------\u001b[0m",
      "\u001b[1;31mTypeError\u001b[0m                                 Traceback (most recent call last)",
      "Cell \u001b[1;32mIn[67], line 1\u001b[0m\n\u001b[1;32m----> 1\u001b[0m z[\u001b[38;5;241m1\u001b[39m]\u001b[38;5;241m=\u001b[39m(\u001b[38;5;124m\"\u001b[39m\u001b[38;5;124mnaruto\u001b[39m\u001b[38;5;124m\"\u001b[39m)\n",
      "\u001b[1;31mTypeError\u001b[0m: 'tuple' object does not support item assignment"
     ]
    }
   ],
   "source": [
    "z[1]=(\"naruto\")"
   ]
  },
  {
   "cell_type": "code",
   "execution_count": null,
   "id": "8d9b0af9-7879-411e-b9d4-db7b8098e316",
   "metadata": {},
   "outputs": [],
   "source": [
    "z.sort()"
   ]
  },
  {
   "cell_type": "code",
   "execution_count": null,
   "id": "56f08da0-be5d-40ae-85d8-02443ddedda6",
   "metadata": {},
   "outputs": [],
   "source": [
    "z=1,\n",
    "type(z)"
   ]
  },
  {
   "cell_type": "code",
   "execution_count": 90,
   "id": "fe7f45c9-dd66-4b48-becc-c2d0acd68688",
   "metadata": {},
   "outputs": [
    {
     "data": {
      "text/plain": [
       "('Naruto', 'Hinata', 'Sasuke', 'Sakura', 'Sikamaru')"
      ]
     },
     "execution_count": 90,
     "metadata": {},
     "output_type": "execute_result"
    }
   ],
   "source": [
    "Shinobi=\"Naruto\",\"Hinata\",\"Sasuke\",\"Sakura\",\"Sikamaru\"\n",
    "Shinobi"
   ]
  },
  {
   "cell_type": "code",
   "execution_count": 92,
   "id": "d6cfc290-84af-47d5-81c7-5195d4db88b6",
   "metadata": {},
   "outputs": [
    {
     "data": {
      "text/plain": [
       "tuple"
      ]
     },
     "execution_count": 92,
     "metadata": {},
     "output_type": "execute_result"
    }
   ],
   "source": [
    "type(Shinobi)"
   ]
  },
  {
   "cell_type": "code",
   "execution_count": 94,
   "id": "398bb37a-2467-4715-bd0f-fa7bb46f0bd8",
   "metadata": {},
   "outputs": [
    {
     "data": {
      "text/plain": [
       "'Sikamaru'"
      ]
     },
     "execution_count": 94,
     "metadata": {},
     "output_type": "execute_result"
    }
   ],
   "source": [
    "Shinobi[4]"
   ]
  },
  {
   "cell_type": "code",
   "execution_count": 96,
   "id": "ea1b3b80-00ff-4fd5-a3a6-bc40714545a1",
   "metadata": {},
   "outputs": [
    {
     "data": {
      "text/plain": [
       "'Hinata'"
      ]
     },
     "execution_count": 96,
     "metadata": {},
     "output_type": "execute_result"
    }
   ],
   "source": [
    "Shinobi[-4]"
   ]
  },
  {
   "cell_type": "code",
   "execution_count": 98,
   "id": "ce91374a-12dc-4720-a6db-fe4650eec55b",
   "metadata": {},
   "outputs": [
    {
     "data": {
      "text/plain": [
       "('Sikamaru', 'Sakura', 'Sasuke', 'Hinata', 'Naruto')"
      ]
     },
     "execution_count": 98,
     "metadata": {},
     "output_type": "execute_result"
    }
   ],
   "source": [
    "Shinobi[::-1] #reverse order"
   ]
  },
  {
   "cell_type": "markdown",
   "id": "bc4bdcf2-2057-4dea-b6af-98db3ac485e8",
   "metadata": {},
   "source": [
    "# Tuple concatenation"
   ]
  },
  {
   "cell_type": "code",
   "execution_count": 100,
   "id": "11e9f497-3385-4ca2-a0cc-52657b878400",
   "metadata": {},
   "outputs": [],
   "source": [
    "Rank= 1,4,1,3,3"
   ]
  },
  {
   "cell_type": "code",
   "execution_count": 102,
   "id": "fb695d47-a4b5-40f5-b170-0d9a32a02220",
   "metadata": {},
   "outputs": [],
   "source": [
    "both=Shinobi+Rank"
   ]
  },
  {
   "cell_type": "code",
   "execution_count": 104,
   "id": "3f9acf18-b443-4388-a993-f93def5f76cc",
   "metadata": {},
   "outputs": [
    {
     "data": {
      "text/plain": [
       "('Naruto', 'Hinata', 'Sasuke', 'Sakura', 'Sikamaru', 1, 4, 1, 3, 3)"
      ]
     },
     "execution_count": 104,
     "metadata": {},
     "output_type": "execute_result"
    }
   ],
   "source": [
    "both"
   ]
  },
  {
   "cell_type": "markdown",
   "id": "6ad62444-3f99-4bc6-9592-b2ba84775bcb",
   "metadata": {},
   "source": [
    "# Nesting"
   ]
  },
  {
   "cell_type": "code",
   "execution_count": 106,
   "id": "cd69d439-c50c-42c2-bd0e-2375736bb450",
   "metadata": {},
   "outputs": [],
   "source": [
    "Nst=(Shinobi,Rank)"
   ]
  },
  {
   "cell_type": "code",
   "execution_count": 108,
   "id": "9f9eaae9-de58-48f4-9f41-ba2ba93d6f5f",
   "metadata": {},
   "outputs": [
    {
     "name": "stdout",
     "output_type": "stream",
     "text": [
      "(('Naruto', 'Hinata', 'Sasuke', 'Sakura', 'Sikamaru'), (1, 4, 1, 3, 3))\n"
     ]
    }
   ],
   "source": [
    "print(Nst)"
   ]
  },
  {
   "cell_type": "markdown",
   "id": "06e57e16-ed7c-43a9-9d4a-f29e61f7afd4",
   "metadata": {},
   "source": [
    "# Slicing"
   ]
  },
  {
   "cell_type": "code",
   "execution_count": 110,
   "id": "d3c54303-4f32-4691-a9db-62d8aba01297",
   "metadata": {},
   "outputs": [
    {
     "data": {
      "text/plain": [
       "('Hinata', 'Sasuke', 'Sakura', 'Sikamaru')"
      ]
     },
     "execution_count": 110,
     "metadata": {},
     "output_type": "execute_result"
    }
   ],
   "source": [
    "Shinobi[1:]"
   ]
  },
  {
   "cell_type": "code",
   "execution_count": 112,
   "id": "ed7bf248-285f-4eca-807d-2e1f0f877ad4",
   "metadata": {},
   "outputs": [
    {
     "data": {
      "text/plain": [
       "(3, 3, 1, 4, 1, 'Sikamaru', 'Sakura', 'Sasuke', 'Hinata', 'Naruto')"
      ]
     },
     "execution_count": 112,
     "metadata": {},
     "output_type": "execute_result"
    }
   ],
   "source": [
    "both[::-1]"
   ]
  },
  {
   "cell_type": "markdown",
   "id": "c017ef93-9edb-4dcb-a35e-b7d385dc40bd",
   "metadata": {},
   "source": [
    "# Unpacking"
   ]
  },
  {
   "cell_type": "code",
   "execution_count": 114,
   "id": "67fdc0fa-aeba-4526-ba2d-645b20c2469e",
   "metadata": {},
   "outputs": [
    {
     "data": {
      "text/plain": [
       "('K', 'a', 'k', 'a', 's', 'h', 'i', '_', 'H', 'a', 't', 'a', 'k', 'e')"
      ]
     },
     "execution_count": 114,
     "metadata": {},
     "output_type": "execute_result"
    }
   ],
   "source": [
    "tuple(\"Kakashi_Hatake\")"
   ]
  },
  {
   "cell_type": "code",
   "execution_count": 116,
   "id": "3a6dcda6-51da-4df9-bcaf-e2e59a335f99",
   "metadata": {},
   "outputs": [],
   "source": [
    "N,H,Su,S,Si=Rank"
   ]
  },
  {
   "cell_type": "code",
   "execution_count": 118,
   "id": "6f9b148e-d7ac-450d-a6e0-ab2d850bd8fb",
   "metadata": {},
   "outputs": [
    {
     "name": "stdout",
     "output_type": "stream",
     "text": [
      "1 4 1 3 3\n"
     ]
    }
   ],
   "source": [
    "print(N,H,Su,S,Si)"
   ]
  },
  {
   "cell_type": "code",
   "execution_count": 120,
   "id": "6c644eb5-6461-44d2-80dd-fb1026b44ab6",
   "metadata": {},
   "outputs": [],
   "source": [
    "N,*H,Si=Rank"
   ]
  },
  {
   "cell_type": "code",
   "execution_count": 122,
   "id": "6be9edea-becf-4216-bd31-c8a9195db325",
   "metadata": {},
   "outputs": [
    {
     "name": "stdout",
     "output_type": "stream",
     "text": [
      "1 [4, 1, 3] 3\n"
     ]
    }
   ],
   "source": [
    "print(N,H,Si)"
   ]
  },
  {
   "cell_type": "markdown",
   "id": "41a0435d-104d-4efe-9235-91da08435024",
   "metadata": {},
   "source": [
    "# Repetition"
   ]
  },
  {
   "cell_type": "code",
   "execution_count": 124,
   "id": "b34ecb53-c3ca-44fe-81b8-45024dab90bf",
   "metadata": {},
   "outputs": [],
   "source": [
    "name=(\"DEMON\",)*3"
   ]
  },
  {
   "cell_type": "code",
   "execution_count": 126,
   "id": "010347db-a043-4f16-8fb5-6d42de1658c5",
   "metadata": {},
   "outputs": [
    {
     "data": {
      "text/plain": [
       "('DEMON', 'DEMON', 'DEMON')"
      ]
     },
     "execution_count": 126,
     "metadata": {},
     "output_type": "execute_result"
    }
   ],
   "source": [
    "name"
   ]
  },
  {
   "cell_type": "code",
   "execution_count": 128,
   "id": "8a894d69-d2b8-4ffa-a846-ca1eed4d1913",
   "metadata": {},
   "outputs": [
    {
     "name": "stdout",
     "output_type": "stream",
     "text": [
      "('DEMON', 'DEMON', 'DEMON', 'DEMON', 'DEMON', 'DEMON', 'DEMON', 'DEMON')\n"
     ]
    }
   ],
   "source": [
    "name=(\"DEMON\",)\n",
    "print(name*8)"
   ]
  },
  {
   "cell_type": "markdown",
   "id": "f1854710-21bf-4a2d-b39a-dd9ba148fc5b",
   "metadata": {},
   "source": [
    "# Converting list into tuple"
   ]
  },
  {
   "cell_type": "code",
   "execution_count": 168,
   "id": "ed5bcde4-d29c-46c7-9501-d7f15eb33dd9",
   "metadata": {},
   "outputs": [],
   "source": [
    "lst=[1,3,4,5,6,8]"
   ]
  },
  {
   "cell_type": "code",
   "execution_count": 170,
   "id": "497c49bd-6fce-4c42-9565-958f848e3c7c",
   "metadata": {},
   "outputs": [],
   "source": [
    "tup=tuple(lst)"
   ]
  },
  {
   "cell_type": "code",
   "execution_count": 172,
   "id": "a91e221e-1c63-4bb9-801e-73b4a793c6f2",
   "metadata": {},
   "outputs": [
    {
     "name": "stdout",
     "output_type": "stream",
     "text": [
      "(1, 3, 4, 5, 6, 8)\n"
     ]
    }
   ],
   "source": [
    "print(tup)"
   ]
  },
  {
   "cell_type": "code",
   "execution_count": 174,
   "id": "77ce86dc-55dd-4f9d-aa6d-5e74e7eed38f",
   "metadata": {},
   "outputs": [
    {
     "data": {
      "text/plain": [
       "tuple"
      ]
     },
     "execution_count": 174,
     "metadata": {},
     "output_type": "execute_result"
    }
   ],
   "source": [
    "type(tup)"
   ]
  },
  {
   "cell_type": "markdown",
   "id": "9059e32b-678d-455b-8bba-668361cce18e",
   "metadata": {},
   "source": [
    "# Nested Tuple inside a list"
   ]
  },
  {
   "cell_type": "code",
   "execution_count": 147,
   "id": "439e73f9-0e53-4c71-9919-f24a021a2cf1",
   "metadata": {},
   "outputs": [],
   "source": [
    "lst_1=[(1,2,3),(7,9,10)]"
   ]
  },
  {
   "cell_type": "code",
   "execution_count": 151,
   "id": "d27f7696-b7c3-44bb-b351-c6bbb62258d5",
   "metadata": {},
   "outputs": [
    {
     "name": "stdout",
     "output_type": "stream",
     "text": [
      "[(1, 2, 3), (7, 9, 10)]\n"
     ]
    }
   ],
   "source": [
    "print(lst_1)"
   ]
  },
  {
   "cell_type": "code",
   "execution_count": 163,
   "id": "74881fad-f476-435f-a8fe-d6fd3c94641a",
   "metadata": {},
   "outputs": [],
   "source": [
    "lst_1.append((10,12,3))"
   ]
  },
  {
   "cell_type": "code",
   "execution_count": 159,
   "id": "2253df00-7198-4a97-9708-bf7b01ff5e9c",
   "metadata": {},
   "outputs": [],
   "source": [
    "lst_1.remove((1,2,3))"
   ]
  },
  {
   "cell_type": "code",
   "execution_count": 165,
   "id": "1700820f-0342-4e5f-bceb-fd24d4d2c46f",
   "metadata": {},
   "outputs": [
    {
     "name": "stdout",
     "output_type": "stream",
     "text": [
      "[(7, 9, 10), [10, 12, 3], (10, 12, 3)]\n"
     ]
    }
   ],
   "source": [
    "print(lst_1)"
   ]
  },
  {
   "cell_type": "code",
   "execution_count": 176,
   "id": "e95693f3-93dd-4158-9ed2-59b2f6e8a819",
   "metadata": {},
   "outputs": [
    {
     "data": {
      "text/plain": [
       "list"
      ]
     },
     "execution_count": 176,
     "metadata": {},
     "output_type": "execute_result"
    }
   ],
   "source": [
    "type(lst_1)"
   ]
  },
  {
   "cell_type": "code",
   "execution_count": 178,
   "id": "d9ec1bf3-ee99-4d0d-8643-2e9d0dc12477",
   "metadata": {},
   "outputs": [],
   "source": [
    "lst_1[0]=100,1000,10000"
   ]
  },
  {
   "cell_type": "code",
   "execution_count": 180,
   "id": "f596b0ea-1d61-4a83-ae89-abb654fc24ce",
   "metadata": {},
   "outputs": [
    {
     "name": "stdout",
     "output_type": "stream",
     "text": [
      "[(100, 1000, 10000), [10, 12, 3], (10, 12, 3)]\n"
     ]
    }
   ],
   "source": [
    "print(lst_1)"
   ]
  },
  {
   "cell_type": "code",
   "execution_count": 184,
   "id": "9a0ba840-3dc5-4b43-b53a-60bb9c81f012",
   "metadata": {},
   "outputs": [
    {
     "data": {
      "text/plain": [
       "tuple"
      ]
     },
     "execution_count": 184,
     "metadata": {},
     "output_type": "execute_result"
    }
   ],
   "source": [
    "type(lst_1[0])"
   ]
  },
  {
   "cell_type": "markdown",
   "id": "76939b06-e262-4ca7-afe7-b73199d07722",
   "metadata": {},
   "source": [
    "# Nested list in Tuble"
   ]
  },
  {
   "cell_type": "code",
   "execution_count": 187,
   "id": "d516f8b0-d957-4da6-9abf-fb11a85cdb7f",
   "metadata": {},
   "outputs": [],
   "source": [
    "tple=([1,4,3],[2,9,0],[123,156,198])"
   ]
  },
  {
   "cell_type": "code",
   "execution_count": 189,
   "id": "336fb4b7-c3e5-49c0-b2bb-febae963accb",
   "metadata": {},
   "outputs": [
    {
     "name": "stdout",
     "output_type": "stream",
     "text": [
      "([1, 4, 3], [2, 9, 0], [123, 156, 198])\n"
     ]
    }
   ],
   "source": [
    "print(tple)"
   ]
  },
  {
   "cell_type": "code",
   "execution_count": 191,
   "id": "bb92a85d-0aef-4b60-9ca4-9091774e6349",
   "metadata": {},
   "outputs": [
    {
     "data": {
      "text/plain": [
       "[1, 4, 3]"
      ]
     },
     "execution_count": 191,
     "metadata": {},
     "output_type": "execute_result"
    }
   ],
   "source": [
    "tple[0]"
   ]
  },
  {
   "cell_type": "code",
   "execution_count": 203,
   "id": "64f530ad-2a09-4c87-9655-8b0beeceb1dd",
   "metadata": {},
   "outputs": [
    {
     "data": {
      "text/plain": [
       "tuple"
      ]
     },
     "execution_count": 203,
     "metadata": {},
     "output_type": "execute_result"
    }
   ],
   "source": [
    "type(tple)"
   ]
  },
  {
   "cell_type": "code",
   "execution_count": 205,
   "id": "452df9c2-1242-4d14-872c-f1c85918c9cc",
   "metadata": {},
   "outputs": [
    {
     "data": {
      "text/plain": [
       "list"
      ]
     },
     "execution_count": 205,
     "metadata": {},
     "output_type": "execute_result"
    }
   ],
   "source": [
    "type(tple[0])"
   ]
  },
  {
   "cell_type": "code",
   "execution_count": 193,
   "id": "28c2e684-d103-43f2-914d-60fa15723dc7",
   "metadata": {},
   "outputs": [
    {
     "ename": "TypeError",
     "evalue": "'tuple' object does not support item assignment",
     "output_type": "error",
     "traceback": [
      "\u001b[1;31m---------------------------------------------------------------------------\u001b[0m",
      "\u001b[1;31mTypeError\u001b[0m                                 Traceback (most recent call last)",
      "Cell \u001b[1;32mIn[193], line 1\u001b[0m\n\u001b[1;32m----> 1\u001b[0m tple[\u001b[38;5;241m1\u001b[39m]\u001b[38;5;241m=\u001b[39m\u001b[38;5;241m12\u001b[39m,\u001b[38;5;241m16\u001b[39m,\u001b[38;5;241m20\u001b[39m\n",
      "\u001b[1;31mTypeError\u001b[0m: 'tuple' object does not support item assignment"
     ]
    }
   ],
   "source": [
    "tple[1]=12,16,20"
   ]
  },
  {
   "cell_type": "code",
   "execution_count": 201,
   "id": "af6de147-7295-4f19-a25a-8208059496a3",
   "metadata": {},
   "outputs": [
    {
     "ename": "AttributeError",
     "evalue": "'tuple' object has no attribute 'add'",
     "output_type": "error",
     "traceback": [
      "\u001b[1;31m---------------------------------------------------------------------------\u001b[0m",
      "\u001b[1;31mAttributeError\u001b[0m                            Traceback (most recent call last)",
      "Cell \u001b[1;32mIn[201], line 1\u001b[0m\n\u001b[1;32m----> 1\u001b[0m tple\u001b[38;5;241m.\u001b[39madd([\u001b[38;5;241m12\u001b[39m,\u001b[38;5;241m15\u001b[39m,\u001b[38;5;241m18\u001b[39m])\n",
      "\u001b[1;31mAttributeError\u001b[0m: 'tuple' object has no attribute 'add'"
     ]
    }
   ],
   "source": [
    "tple.add([12,15,18])"
   ]
  },
  {
   "cell_type": "code",
   "execution_count": 199,
   "id": "dd2f48e6-a809-4425-9474-476920674a74",
   "metadata": {},
   "outputs": [
    {
     "data": {
      "text/plain": [
       "['__add__',\n",
       " '__class__',\n",
       " '__class_getitem__',\n",
       " '__contains__',\n",
       " '__delattr__',\n",
       " '__dir__',\n",
       " '__doc__',\n",
       " '__eq__',\n",
       " '__format__',\n",
       " '__ge__',\n",
       " '__getattribute__',\n",
       " '__getitem__',\n",
       " '__getnewargs__',\n",
       " '__getstate__',\n",
       " '__gt__',\n",
       " '__hash__',\n",
       " '__init__',\n",
       " '__init_subclass__',\n",
       " '__iter__',\n",
       " '__le__',\n",
       " '__len__',\n",
       " '__lt__',\n",
       " '__mul__',\n",
       " '__ne__',\n",
       " '__new__',\n",
       " '__reduce__',\n",
       " '__reduce_ex__',\n",
       " '__repr__',\n",
       " '__rmul__',\n",
       " '__setattr__',\n",
       " '__sizeof__',\n",
       " '__str__',\n",
       " '__subclasshook__',\n",
       " 'count',\n",
       " 'index']"
      ]
     },
     "execution_count": 199,
     "metadata": {},
     "output_type": "execute_result"
    }
   ],
   "source": [
    "dir(tple) # to check built-in fnc of tuple"
   ]
  }
 ],
 "metadata": {
  "kernelspec": {
   "display_name": "Python 3 (ipykernel)",
   "language": "python",
   "name": "python3"
  },
  "language_info": {
   "codemirror_mode": {
    "name": "ipython",
    "version": 3
   },
   "file_extension": ".py",
   "mimetype": "text/x-python",
   "name": "python",
   "nbconvert_exporter": "python",
   "pygments_lexer": "ipython3",
   "version": "3.12.4"
  }
 },
 "nbformat": 4,
 "nbformat_minor": 5
}
