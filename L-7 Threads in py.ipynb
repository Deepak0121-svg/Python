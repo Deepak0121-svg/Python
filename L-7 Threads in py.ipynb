{
 "cells": [
  {
   "cell_type": "code",
   "execution_count": 9,
   "id": "4f29ee46-c1c0-4e12-99f7-0b5892300bd6",
   "metadata": {},
   "outputs": [
    {
     "name": "stdout",
     "output_type": "stream",
     "text": [
      "This is beginning\n",
      "This is End\n"
     ]
    }
   ],
   "source": [
    "from threading import*\n",
    "def show():\n",
    "    print(\"This is beginning\")\n",
    "T1=Thread(target=show())\n",
    "T1.start()\n",
    "print(\"This is End\")\n"
   ]
  },
  {
   "cell_type": "code",
   "execution_count": null,
   "id": "e5a1c20c-9c70-4897-b8bc-07f6a3d81564",
   "metadata": {},
   "outputs": [],
   "source": []
  },
  {
   "cell_type": "code",
   "execution_count": null,
   "id": "806b161e-6c52-4eaa-8466-1b0df23f907c",
   "metadata": {},
   "outputs": [],
   "source": []
  },
  {
   "cell_type": "code",
   "execution_count": 18,
   "id": "681b83f2-7942-4a44-b2a8-77b3165b55d2",
   "metadata": {},
   "outputs": [
    {
     "name": "stdout",
     "output_type": "stream",
     "text": [
      "\n",
      " The Main code\n",
      "\n",
      " The Main code\n",
      "\n",
      " The Main code\n",
      "\n",
      " The Main code\n",
      "\n",
      " The Main code\n"
     ]
    }
   ],
   "source": [
    "#Ex-2\n",
    "from threading import *\n",
    "class MyThread(Thread):\n",
    "    def execute(self):\n",
    "        for i in range(5):\n",
    "            print(\"\\n Child class\")\n",
    "t = MyThread()\n",
    "t.start()\n",
    "for j in range(5):\n",
    "    print(\"\\n The Main code\")\n",
    "    \n"
   ]
  },
  {
   "cell_type": "code",
   "execution_count": null,
   "id": "d0e90582-0802-47f4-9a97-37d24705ee13",
   "metadata": {},
   "outputs": [],
   "source": []
  },
  {
   "cell_type": "code",
   "execution_count": null,
   "id": "25daa82f-7514-4ad5-92ec-de6ac7d0a79f",
   "metadata": {},
   "outputs": [],
   "source": []
  },
  {
   "cell_type": "code",
   "execution_count": 26,
   "id": "0e40212e-01c2-4dd3-bbdb-c48656e8c76d",
   "metadata": {},
   "outputs": [
    {
     "name": "stdout",
     "output_type": "stream",
     "text": [
      "\n",
      "child Thread 😊\n",
      "\n",
      "child Thread 😊\n",
      "\n",
      "child Thread 😊\n",
      "\n",
      "child Thread 😊\n",
      "\n",
      "child Thread 😊\n",
      "\n",
      "Parent Class❤️\n",
      "\n",
      "Parent Class❤️\n",
      "\n",
      "Parent Class❤️\n",
      "\n",
      "Parent Class❤️\n",
      "\n",
      "Parent Class❤️\n"
     ]
    }
   ],
   "source": [
    "from threading import *\n",
    "class demo():\n",
    "    def show(self):\n",
    "        for i in range(5):\n",
    "            print(\"\\nchild Thread 😊\")\n",
    "obj=demo()\n",
    "t=Thread(target=obj.show())\n",
    "t.start\n",
    "for i in range(5):\n",
    "    print(\"\\nParent Class❤️\")\n",
    "        "
   ]
  },
  {
   "cell_type": "markdown",
   "id": "14042f9f-4bc0-4cb0-bd6b-8819a0566a28",
   "metadata": {},
   "source": [
    "# python scripting"
   ]
  },
  {
   "cell_type": "code",
   "execution_count": 18,
   "id": "523126a0-012e-4af2-b7ac-6f95eabf0003",
   "metadata": {},
   "outputs": [
    {
     "name": "stdout",
     "output_type": "stream",
     "text": [
      "C:\\Users\\VICTUS\\Python Simplilearn\\Lesson-5.ipynb\n",
      "C:\\Users\\VICTUS\\Python Simplilearn\n"
     ]
    }
   ],
   "source": [
    "import os\n",
    "\n",
    "def current_directory():\n",
    "    cwd=os.getcwd()\n",
    "    print(cwd)\n",
    "def file(filename):\n",
    "    path=os.path.abspath((filename))\n",
    "    print(path)\n",
    "filename=\"Lesson-5.ipynb\"\n",
    "file(filename)\n",
    "    \n",
    "\n",
    "current_directory()"
   ]
  },
  {
   "cell_type": "code",
   "execution_count": 20,
   "id": "98148203-f9d2-41d1-b7eb-0438aaa95480",
   "metadata": {},
   "outputs": [
    {
     "name": "stdout",
     "output_type": "stream",
     "text": [
      "1730217002.2735083\n"
     ]
    }
   ],
   "source": [
    "#time module\n",
    "import time\n",
    "\n",
    "sec=time.time()\n",
    "print(sec)"
   ]
  },
  {
   "cell_type": "code",
   "execution_count": 24,
   "id": "25db75fb-8af7-468b-b751-91923ed87e3a",
   "metadata": {},
   "outputs": [
    {
     "name": "stdout",
     "output_type": "stream",
     "text": [
      "time.struct_time(tm_year=2024, tm_mon=10, tm_mday=29, tm_hour=21, tm_min=25, tm_sec=22, tm_wday=1, tm_yday=303, tm_isdst=0)\n",
      "29\n"
     ]
    }
   ],
   "source": [
    "Ntime=time.localtime()\n",
    "print(Ntime)\n",
    "print(Ntime.tm_mday)"
   ]
  },
  {
   "cell_type": "code",
   "execution_count": 32,
   "id": "a64d1c30-5b60-4d63-a7e1-ef27573b6bcc",
   "metadata": {},
   "outputs": [
    {
     "name": "stdout",
     "output_type": "stream",
     "text": [
      "Tue Oct 29 21:20:02 2024\n"
     ]
    }
   ],
   "source": [
    "print(time.ctime(sec))"
   ]
  },
  {
   "cell_type": "markdown",
   "id": "7a96dbd9-9a99-43f1-9790-3e073cbfe3cf",
   "metadata": {},
   "source": [
    "# "
   ]
  },
  {
   "cell_type": "code",
   "execution_count": 58,
   "id": "ffc51f06-3d92-4725-81c7-b686e6954f9f",
   "metadata": {},
   "outputs": [
    {
     "ename": "TimeoutError",
     "evalue": "[WinError 10060] A connection attempt failed because the connected party did not properly respond after a period of time, or established connection failed because connected host has failed to respond",
     "output_type": "error",
     "traceback": [
      "\u001b[1;31m---------------------------------------------------------------------------\u001b[0m",
      "\u001b[1;31mTimeoutError\u001b[0m                              Traceback (most recent call last)",
      "Cell \u001b[1;32mIn[58], line 4\u001b[0m\n\u001b[0;32m      1\u001b[0m \u001b[38;5;66;03m#SMTP Module\u001b[39;00m\n\u001b[0;32m      2\u001b[0m \u001b[38;5;28;01mimport\u001b[39;00m \u001b[38;5;21;01msmtplib\u001b[39;00m\n\u001b[1;32m----> 4\u001b[0m smtobj\u001b[38;5;241m=\u001b[39msmtplib\u001b[38;5;241m.\u001b[39mSMTP(\u001b[38;5;124m'\u001b[39m\u001b[38;5;124msmtp.gmail.com\u001b[39m\u001b[38;5;124m'\u001b[39m,\u001b[38;5;241m535\u001b[39m)\n\u001b[0;32m      5\u001b[0m smtobj\u001b[38;5;241m.\u001b[39mehlo()\n\u001b[0;32m      6\u001b[0m smtobj\u001b[38;5;241m.\u001b[39mstarttls()\n",
      "File \u001b[1;32mC:\\ProgramData\\anaconda3\\Lib\\smtplib.py:255\u001b[0m, in \u001b[0;36mSMTP.__init__\u001b[1;34m(self, host, port, local_hostname, timeout, source_address)\u001b[0m\n\u001b[0;32m    252\u001b[0m \u001b[38;5;28mself\u001b[39m\u001b[38;5;241m.\u001b[39m_auth_challenge_count \u001b[38;5;241m=\u001b[39m \u001b[38;5;241m0\u001b[39m\n\u001b[0;32m    254\u001b[0m \u001b[38;5;28;01mif\u001b[39;00m host:\n\u001b[1;32m--> 255\u001b[0m     (code, msg) \u001b[38;5;241m=\u001b[39m \u001b[38;5;28mself\u001b[39m\u001b[38;5;241m.\u001b[39mconnect(host, port)\n\u001b[0;32m    256\u001b[0m     \u001b[38;5;28;01mif\u001b[39;00m code \u001b[38;5;241m!=\u001b[39m \u001b[38;5;241m220\u001b[39m:\n\u001b[0;32m    257\u001b[0m         \u001b[38;5;28mself\u001b[39m\u001b[38;5;241m.\u001b[39mclose()\n",
      "File \u001b[1;32mC:\\ProgramData\\anaconda3\\Lib\\smtplib.py:341\u001b[0m, in \u001b[0;36mSMTP.connect\u001b[1;34m(self, host, port, source_address)\u001b[0m\n\u001b[0;32m    339\u001b[0m     port \u001b[38;5;241m=\u001b[39m \u001b[38;5;28mself\u001b[39m\u001b[38;5;241m.\u001b[39mdefault_port\n\u001b[0;32m    340\u001b[0m sys\u001b[38;5;241m.\u001b[39maudit(\u001b[38;5;124m\"\u001b[39m\u001b[38;5;124msmtplib.connect\u001b[39m\u001b[38;5;124m\"\u001b[39m, \u001b[38;5;28mself\u001b[39m, host, port)\n\u001b[1;32m--> 341\u001b[0m \u001b[38;5;28mself\u001b[39m\u001b[38;5;241m.\u001b[39msock \u001b[38;5;241m=\u001b[39m \u001b[38;5;28mself\u001b[39m\u001b[38;5;241m.\u001b[39m_get_socket(host, port, \u001b[38;5;28mself\u001b[39m\u001b[38;5;241m.\u001b[39mtimeout)\n\u001b[0;32m    342\u001b[0m \u001b[38;5;28mself\u001b[39m\u001b[38;5;241m.\u001b[39mfile \u001b[38;5;241m=\u001b[39m \u001b[38;5;28;01mNone\u001b[39;00m\n\u001b[0;32m    343\u001b[0m (code, msg) \u001b[38;5;241m=\u001b[39m \u001b[38;5;28mself\u001b[39m\u001b[38;5;241m.\u001b[39mgetreply()\n",
      "File \u001b[1;32mC:\\ProgramData\\anaconda3\\Lib\\smtplib.py:312\u001b[0m, in \u001b[0;36mSMTP._get_socket\u001b[1;34m(self, host, port, timeout)\u001b[0m\n\u001b[0;32m    310\u001b[0m \u001b[38;5;28;01mif\u001b[39;00m \u001b[38;5;28mself\u001b[39m\u001b[38;5;241m.\u001b[39mdebuglevel \u001b[38;5;241m>\u001b[39m \u001b[38;5;241m0\u001b[39m:\n\u001b[0;32m    311\u001b[0m     \u001b[38;5;28mself\u001b[39m\u001b[38;5;241m.\u001b[39m_print_debug(\u001b[38;5;124m'\u001b[39m\u001b[38;5;124mconnect: to\u001b[39m\u001b[38;5;124m'\u001b[39m, (host, port), \u001b[38;5;28mself\u001b[39m\u001b[38;5;241m.\u001b[39msource_address)\n\u001b[1;32m--> 312\u001b[0m \u001b[38;5;28;01mreturn\u001b[39;00m socket\u001b[38;5;241m.\u001b[39mcreate_connection((host, port), timeout,\n\u001b[0;32m    313\u001b[0m                                 \u001b[38;5;28mself\u001b[39m\u001b[38;5;241m.\u001b[39msource_address)\n",
      "File \u001b[1;32mC:\\ProgramData\\anaconda3\\Lib\\socket.py:853\u001b[0m, in \u001b[0;36mcreate_connection\u001b[1;34m(address, timeout, source_address, all_errors)\u001b[0m\n\u001b[0;32m    851\u001b[0m \u001b[38;5;28;01mtry\u001b[39;00m:\n\u001b[0;32m    852\u001b[0m     \u001b[38;5;28;01mif\u001b[39;00m \u001b[38;5;129;01mnot\u001b[39;00m all_errors:\n\u001b[1;32m--> 853\u001b[0m         \u001b[38;5;28;01mraise\u001b[39;00m exceptions[\u001b[38;5;241m0\u001b[39m]\n\u001b[0;32m    854\u001b[0m     \u001b[38;5;28;01mraise\u001b[39;00m ExceptionGroup(\u001b[38;5;124m\"\u001b[39m\u001b[38;5;124mcreate_connection failed\u001b[39m\u001b[38;5;124m\"\u001b[39m, exceptions)\n\u001b[0;32m    855\u001b[0m \u001b[38;5;28;01mfinally\u001b[39;00m:\n\u001b[0;32m    856\u001b[0m     \u001b[38;5;66;03m# Break explicitly a reference cycle\u001b[39;00m\n",
      "File \u001b[1;32mC:\\ProgramData\\anaconda3\\Lib\\socket.py:838\u001b[0m, in \u001b[0;36mcreate_connection\u001b[1;34m(address, timeout, source_address, all_errors)\u001b[0m\n\u001b[0;32m    836\u001b[0m \u001b[38;5;28;01mif\u001b[39;00m source_address:\n\u001b[0;32m    837\u001b[0m     sock\u001b[38;5;241m.\u001b[39mbind(source_address)\n\u001b[1;32m--> 838\u001b[0m sock\u001b[38;5;241m.\u001b[39mconnect(sa)\n\u001b[0;32m    839\u001b[0m \u001b[38;5;66;03m# Break explicitly a reference cycle\u001b[39;00m\n\u001b[0;32m    840\u001b[0m exceptions\u001b[38;5;241m.\u001b[39mclear()\n",
      "\u001b[1;31mTimeoutError\u001b[0m: [WinError 10060] A connection attempt failed because the connected party did not properly respond after a period of time, or established connection failed because connected host has failed to respond"
     ]
    }
   ],
   "source": [
    "#SMTP Module\n",
    "import smtplib\n",
    "\n",
    "smtobj=smtplib.SMTP('smtp.gmail.com',535)\n",
    "smtobj.ehlo()\n",
    "smtobj.starttls()\n",
    "\n",
    "smtobj.login('lozdemon338@gmail.com','DEGREE143')\n",
    "smtobj.sendmail(\"lozdemon338@gmail.com\",\"deepakbalor2493@gmail.com\",'Subject:SMTP check. \\n This is a sample mail')\n",
    "smtobj.quit()"
   ]
  },
  {
   "cell_type": "code",
   "execution_count": 70,
   "id": "2d70d446-2d5a-44cb-a711-cc868dc7aa11",
   "metadata": {},
   "outputs": [
    {
     "ename": "TypeError",
     "evalue": "fun1() takes 1 positional argument but 4 were given",
     "output_type": "error",
     "traceback": [
      "\u001b[1;31m---------------------------------------------------------------------------\u001b[0m",
      "\u001b[1;31mTypeError\u001b[0m                                 Traceback (most recent call last)",
      "Cell \u001b[1;32mIn[70], line 3\u001b[0m\n\u001b[0;32m      1\u001b[0m \u001b[38;5;28;01mdef\u001b[39;00m \u001b[38;5;21mfun1\u001b[39m(i):\n\u001b[0;32m      2\u001b[0m     \u001b[38;5;28mprint\u001b[39m(i)\n\u001b[1;32m----> 3\u001b[0m fun1(\u001b[38;5;241m20\u001b[39m,\u001b[38;5;241m8\u001b[39m,\u001b[38;5;241m18\u001b[39m,\u001b[38;5;241m21\u001b[39m)\n",
      "\u001b[1;31mTypeError\u001b[0m: fun1() takes 1 positional argument but 4 were given"
     ]
    }
   ],
   "source": [
    "def fun1(i):\n",
    "    print(i)\n",
    "fun1(20,8,18,21)"
   ]
  },
  {
   "cell_type": "code",
   "execution_count": 74,
   "id": "3eec2b56-38d2-4ade-9f17-6603cae3cc45",
   "metadata": {},
   "outputs": [
    {
     "name": "stdout",
     "output_type": "stream",
     "text": [
      "20 8 18 21 "
     ]
    }
   ],
   "source": [
    "def fun_1(*args):\n",
    "    for i in args:\n",
    "        print(i, end=\" \")\n",
    "fun_1(20,8,18,21) "
   ]
  },
  {
   "cell_type": "code",
   "execution_count": 76,
   "id": "13a8a948-efd8-4009-921e-5a005e7c6843",
   "metadata": {},
   "outputs": [
    {
     "name": "stdout",
     "output_type": "stream",
     "text": [
      "('val_1', 20)\n",
      "('val_2', 8)\n",
      "('val_3', 18)\n"
     ]
    }
   ],
   "source": [
    "def New_1(*args,**kwargs):\n",
    "    for i in kwargs.items():\n",
    "        print(i)\n",
    "New_1(val_1=20,val_2=8,val_3=18)"
   ]
  },
  {
   "cell_type": "markdown",
   "id": "15238b46-4272-4f19-8fd8-14996f8f8ec0",
   "metadata": {},
   "source": [
    "# Nested Function"
   ]
  },
  {
   "cell_type": "code",
   "execution_count": 14,
   "id": "645c2166-adec-4134-bae4-320e16573fc3",
   "metadata": {},
   "outputs": [
    {
     "name": "stdout",
     "output_type": "stream",
     "text": [
      "Hi How are you?\n"
     ]
    }
   ],
   "source": [
    "#1.\n",
    "def func1():\n",
    "    x=\"Hi\"\n",
    "    def fun2(x):\n",
    "        return x+\" \"+\"How are you?\"\n",
    "    return fun2(x)\n",
    "result=func1()\n",
    "print(result)"
   ]
  },
  {
   "cell_type": "code",
   "execution_count": 18,
   "id": "47298ce5-6e3e-4136-af43-6d7db9be0080",
   "metadata": {},
   "outputs": [
    {
     "name": "stdout",
     "output_type": "stream",
     "text": [
      "First function\n",
      "Nested function\n",
      "outer function\n"
     ]
    }
   ],
   "source": [
    "#2.\n",
    "def func1(called_fun):\n",
    "    print(\"First function\")\n",
    "    def nested_func1(called_fun):\n",
    "        print(\"Nested function\")\n",
    "        called_fun()\n",
    "    return nested_func1(called_fun)\n",
    "def outer_fun():\n",
    "    print(\"outer function\")\n",
    "\n",
    "obj=func1(outer_fun) "
   ]
  },
  {
   "cell_type": "code",
   "execution_count": 42,
   "id": "ea76927e-3ee9-4fa9-b809-69d4d9ac87ba",
   "metadata": {},
   "outputs": [
    {
     "name": "stdout",
     "output_type": "stream",
     "text": [
      "7\n",
      "19\n"
     ]
    }
   ],
   "source": [
    "#3.\n",
    "B=type(\"Baseclass\",(object,),{})\n",
    "c1=type(\"c1\",(B,),{\"val\":7})\n",
    "c2=type(\"c2\",(B,),{\"val\":19})\n",
    "\n",
    "def classcreator(bool):\n",
    "    if bool:\n",
    "        return c1()\n",
    "    else:\n",
    "        return c2()\n",
    "print(classcreator(True).val)\n",
    "print(classcreator(False).val)"
   ]
  }
 ],
 "metadata": {
  "kernelspec": {
   "display_name": "Python 3 (ipykernel)",
   "language": "python",
   "name": "python3"
  },
  "language_info": {
   "codemirror_mode": {
    "name": "ipython",
    "version": 3
   },
   "file_extension": ".py",
   "mimetype": "text/x-python",
   "name": "python",
   "nbconvert_exporter": "python",
   "pygments_lexer": "ipython3",
   "version": "3.12.4"
  }
 },
 "nbformat": 4,
 "nbformat_minor": 5
}
