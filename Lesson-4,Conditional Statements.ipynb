{
 "cells": [
  {
   "cell_type": "markdown",
   "id": "7174fc02-ef34-40cc-b4b3-2c7ad8a2d9e1",
   "metadata": {},
   "source": [
    "# if stataement"
   ]
  },
  {
   "cell_type": "code",
   "execution_count": 8,
   "id": "06e76705-7d97-4fcc-84ce-b0b679e38330",
   "metadata": {},
   "outputs": [
    {
     "name": "stdin",
     "output_type": "stream",
     "text": [
      "Enter a number: 55\n"
     ]
    },
    {
     "name": "stdout",
     "output_type": "stream",
     "text": [
      "a is greater than 50\n",
      "This is outside the body of if statement\n"
     ]
    }
   ],
   "source": [
    "a=int(input(\"Enter a number:\"))\n",
    "if(a>50):\n",
    "    print(\"a is greater than 50\")\n",
    "print(\"This is outside the body of if statement\")"
   ]
  },
  {
   "cell_type": "markdown",
   "id": "d3502aca-6ed0-4fe2-a18a-4ee9fd1899ec",
   "metadata": {},
   "source": [
    "# if Else Statement"
   ]
  },
  {
   "cell_type": "code",
   "execution_count": 21,
   "id": "2a7c3767-7087-446c-a34a-0325473684e4",
   "metadata": {},
   "outputs": [
    {
     "name": "stdin",
     "output_type": "stream",
     "text": [
      "Enter a Number: 49\n"
     ]
    },
    {
     "name": "stdout",
     "output_type": "stream",
     "text": [
      "False\n"
     ]
    }
   ],
   "source": [
    "x=int(input(\"Enter a Number:\"))\n",
    "if(x>=50):\n",
    "    print(True,\",a is greater than or equal to 50\")\n",
    "else:\n",
    "    print(False)"
   ]
  },
  {
   "cell_type": "code",
   "execution_count": 4,
   "id": "e0c08703-29c6-43c7-ba3c-1f7ae29cd885",
   "metadata": {},
   "outputs": [
    {
     "name": "stdin",
     "output_type": "stream",
     "text": [
      "Enter a number 67\n"
     ]
    },
    {
     "name": "stdout",
     "output_type": "stream",
     "text": [
      "y is not Even number\n"
     ]
    }
   ],
   "source": [
    "y=int(input(\"Enter a number\"))\n",
    "if y%2==0:\n",
    "    print(\"y is Even number\")\n",
    "else:\n",
    "    print(\"y is not Even number\")"
   ]
  },
  {
   "cell_type": "markdown",
   "id": "3927edc8-76e6-4d90-b3e5-f7670898798d",
   "metadata": {},
   "source": [
    "# Nested if Statement"
   ]
  },
  {
   "cell_type": "code",
   "execution_count": 15,
   "id": "696cfef9-e88a-40a0-9b5d-23ceb7fc07ea",
   "metadata": {},
   "outputs": [
    {
     "name": "stdin",
     "output_type": "stream",
     "text": [
      "Enter a number: 50\n"
     ]
    },
    {
     "name": "stdout",
     "output_type": "stream",
     "text": [
      "Number is greater than 50\n"
     ]
    }
   ],
   "source": [
    "num=int(input(\"Enter a number:\"))\n",
    "if (num<50): #body of if\n",
    "    if num%2==0:\n",
    "        print(\"Number is less than 50 and even number\")\n",
    "    else:\n",
    "        print(\"Number is less than 50 and Odd number\")\n",
    "else:\n",
    "    print(\"Number is greater than 50\")"
   ]
  },
  {
   "cell_type": "code",
   "execution_count": 95,
   "id": "8f24b166-0349-415b-9932-d2c6f7e8dd43",
   "metadata": {},
   "outputs": [
    {
     "name": "stdin",
     "output_type": "stream",
     "text": [
      "Enter your Mark: 89\n",
      "Enter your age: 18\n"
     ]
    },
    {
     "name": "stdout",
     "output_type": "stream",
     "text": [
      "Your Percentage or age is not eligible to apply for this Scholarship\n"
     ]
    }
   ],
   "source": [
    "Mark=int(input(\"Enter your Mark:\"))\n",
    "age=int(input(\"Enter your age:\"))\n",
    "if(Mark>=80):\n",
    "    if age>18:\n",
    "        print(\"You are eligible to apply Scholarship\")\n",
    "    else:\n",
    "        print(\"Your Percentage or age is not eligible to apply for this Scholarship\")\n",
    "else:\n",
    "    print(\"You are Not eligible for scholarship\")\n"
   ]
  },
  {
   "cell_type": "markdown",
   "id": "8e6f9ae5-1af4-40e0-9ea7-ce6b7cd8cea6",
   "metadata": {},
   "source": [
    "# if-Elif-Else Statement"
   ]
  },
  {
   "cell_type": "code",
   "execution_count": 126,
   "id": "27e8d99f-8e27-4894-8b05-d3e9e2d01a6e",
   "metadata": {},
   "outputs": [
    {
     "name": "stdin",
     "output_type": "stream",
     "text": [
      "Enter your Mark: 45\n"
     ]
    },
    {
     "name": "stdout",
     "output_type": "stream",
     "text": [
      "C Grade in Exam\n"
     ]
    }
   ],
   "source": [
    "Mark=int(input(\"Enter your Mark:\"))\n",
    "if(Mark>=35 and Mark<=45):\n",
    "    print(\"C Grade in Exam\")\n",
    "elif(Mark>45 and Mark<=50):\n",
    "    print(\"C+ Grade in Exam\")\n",
    "elif(Mark>50 and Mark<=70):\n",
    "    print(\"B Grade in Exam\")\n",
    "elif(Mark>70 and Mark<=80):\n",
    "    print(\"B+ Grade in Exam\")\n",
    "elif(Mark>80 and Mark<=90):\n",
    "    print(\"A Grade in Exam\")\n",
    "elif(Mark>90 and Mark<=100):\n",
    "    print(\"S Grade in Exam\")\n",
    "else:\n",
    "    print(\"You had Failed in Exam\")"
   ]
  },
  {
   "cell_type": "markdown",
   "id": "2610789e-10f9-492e-a7b1-67de8c152b80",
   "metadata": {},
   "source": [
    "# Python Loop"
   ]
  },
  {
   "cell_type": "code",
   "execution_count": 142,
   "id": "000aae54-3e94-47c7-9199-c9f2aefb97ab",
   "metadata": {},
   "outputs": [
    {
     "name": "stdout",
     "output_type": "stream",
     "text": [
      "1 x 3 = 3\n",
      "2 x 3 = 6\n",
      "3 x 3 = 9\n",
      "4 x 3 = 12\n",
      "5 x 3 = 15\n",
      "6 x 3 = 18\n",
      "7 x 3 = 21\n",
      "8 x 3 = 24\n",
      "9 x 3 = 27\n",
      "10 x 3 = 30\n"
     ]
    }
   ],
   "source": [
    "\n",
    "for i in range(1,11):\n",
    "    print(i,\"x\",\"3\",\"=\",i*3)"
   ]
  },
  {
   "cell_type": "markdown",
   "id": "b16e5542-3cda-42a8-b284-0d94881315b3",
   "metadata": {},
   "source": [
    "# While Loop"
   ]
  },
  {
   "cell_type": "code",
   "execution_count": 34,
   "id": "4b70449b-b33c-4360-880f-14d0fc037aaf",
   "metadata": {},
   "outputs": [
    {
     "name": "stdin",
     "output_type": "stream",
     "text": [
      "Enter a Multiple of 8: 90\n",
      "Enter a Multiple of 8: 98\n",
      "Enter a Multiple of 8: 16\n"
     ]
    },
    {
     "name": "stdout",
     "output_type": "stream",
     "text": [
      "16 Multiple of 8\n"
     ]
    }
   ],
   "source": [
    "Num=int(input(\"Enter a Multiple of 8:\"))\n",
    "while Num%8!=0:\n",
    "    Num=int(input(\"Enter a Multiple of 8:\"))\n",
    "else:\n",
    "    print(\"%d Multiple of 8\"%Num)\n",
    "    "
   ]
  },
  {
   "cell_type": "code",
   "execution_count": 30,
   "id": "85ffc94d-4457-426f-be9d-34e708c3f207",
   "metadata": {},
   "outputs": [
    {
     "name": "stdin",
     "output_type": "stream",
     "text": [
      "Enter your annual income: 89000\n"
     ]
    },
    {
     "name": "stdout",
     "output_type": "stream",
     "text": [
      "89000 Annual Income is eligible to get Loan\n"
     ]
    }
   ],
   "source": [
    "Ann_in=int(input(\"Enter your annual income:\"))\n",
    "while Ann_in<80000:\n",
    "    Ann_in=int(input(\"Enter your annual income:\"))\n",
    "else:\n",
    "    print(\"%d Annual Income is eligible to get Loan\"%Ann_in)\n",
    "    \n",
    "    \n"
   ]
  },
  {
   "cell_type": "markdown",
   "id": "679d19d8-fbd1-4c81-88d3-80a7eae8f2a0",
   "metadata": {},
   "source": [
    "# For Loop"
   ]
  },
  {
   "cell_type": "code",
   "execution_count": 37,
   "id": "0f71776b-f15b-4b78-98a7-906251bc930c",
   "metadata": {},
   "outputs": [
    {
     "name": "stdout",
     "output_type": "stream",
     "text": [
      "0\n",
      "19\n",
      "20\n",
      "Selenophile\n",
      "Demon\n",
      "1080\n"
     ]
    }
   ],
   "source": [
    "# For loop using list\n",
    "x=[0,19,20,\"Selenophile\",\"Demon\",1080]\n",
    "for i in x:\n",
    "    print(i)"
   ]
  },
  {
   "cell_type": "code",
   "execution_count": 39,
   "id": "a77cd03b-4793-4b7e-ad34-e0bf82ab5161",
   "metadata": {},
   "outputs": [
    {
     "name": "stdout",
     "output_type": "stream",
     "text": [
      "S\n",
      "e\n",
      "l\n",
      "e\n",
      "n\n",
      "o\n",
      "p\n",
      "h\n",
      "i\n",
      "l\n",
      "e\n"
     ]
    }
   ],
   "source": [
    "#For loop using string\n",
    "y=\"Selenophile\"\n",
    "for i in y:\n",
    "    print(i)"
   ]
  },
  {
   "cell_type": "markdown",
   "id": "38be81dc-fc51-42c7-ba69-b2d4885334bb",
   "metadata": {},
   "source": [
    "# Nested Loop"
   ]
  },
  {
   "cell_type": "markdown",
   "id": "04ba315d-aa4d-4a12-a235-6667f4e55022",
   "metadata": {},
   "source": [
    "# for in for"
   ]
  },
  {
   "cell_type": "code",
   "execution_count": 4,
   "id": "7a2840f7-2491-4691-8962-7f59f8a741f2",
   "metadata": {},
   "outputs": [
    {
     "name": "stdout",
     "output_type": "stream",
     "text": [
      "10 20 30 \n",
      "x y z \n"
     ]
    }
   ],
   "source": [
    "y=[[10,20,30],['x','y','z']]\n",
    "for i in y:\n",
    "    for j in i:\n",
    "        print(j, end=\" \")\n",
    "    print()\n",
    "    #print(i)"
   ]
  },
  {
   "cell_type": "code",
   "execution_count": 63,
   "id": "6368cd33-111c-4c9a-a0ef-fcd8c1360c4e",
   "metadata": {},
   "outputs": [
    {
     "name": "stdout",
     "output_type": "stream",
     "text": [
      "10,20,30,\n",
      "x,y,z,\n",
      "Naruto,Minato,Jiraya,\n"
     ]
    }
   ],
   "source": [
    "y=[(10,20,30),('x','y','z'),(\"Naruto\",\"Minato\",\"Jiraya\")]\n",
    "for i in y:\n",
    "    \n",
    "    for j in i:\n",
    "        print(j, end=\",\")\n",
    "    print()"
   ]
  },
  {
   "cell_type": "code",
   "execution_count": 81,
   "id": "13f2cc36-cc23-4b6a-9cbc-972e65945fd7",
   "metadata": {},
   "outputs": [
    {
     "name": "stdout",
     "output_type": "stream",
     "text": [
      "[1, 2, 1, 2] [1, 2, 1, 2] \n",
      "[3, 4, 5, 3, 4, 5] [3, 4, 5, 3, 4, 5] [3, 4, 5, 3, 4, 5] \n",
      "[6, 6] \n"
     ]
    }
   ],
   "source": [
    "x=[[1,2],[3,4,5],[6]]\n",
    "for inner in x:\n",
    "    #print(inner)\n",
    "    \n",
    "    for outer in inner:\n",
    "        print(inner*2,end=\" \")\n",
    "    print()\n"
   ]
  },
  {
   "cell_type": "code",
   "execution_count": 99,
   "id": "5723e9de-eb3f-4e8f-8594-e7d8aa7e1c25",
   "metadata": {},
   "outputs": [
    {
     "name": "stdout",
     "output_type": "stream",
     "text": [
      "2 4 \n",
      "6 8 10 \n",
      "12 \n"
     ]
    }
   ],
   "source": [
    "x = [[1, 2], [3, 4, 5], [6]]\n",
    "for outer in x:\n",
    "    #print(outer)\n",
    "    \n",
    "    for inner in outer:\n",
    "        print(inner * 2, end=\" \")\n",
    "    print()\n",
    "    \n"
   ]
  },
  {
   "cell_type": "code",
   "execution_count": 107,
   "id": "3780403e-ff41-4f20-9093-d8bbd4ed14f1",
   "metadata": {},
   "outputs": [
    {
     "name": "stdout",
     "output_type": "stream",
     "text": [
      "10\n",
      "20\n",
      "30\n",
      "x\n",
      "y\n",
      "z\n",
      "Naruto\n",
      "Minato\n",
      "Jiraya\n"
     ]
    }
   ],
   "source": [
    "y=[(10,20,30),('x','y','z'),(\"Naruto\",\"Minato\",\"Jiraya\")]\n",
    "for i in y:\n",
    "    #print(i)\n",
    "    for j in i:\n",
    "        print(j)\n",
    "    "
   ]
  },
  {
   "cell_type": "markdown",
   "id": "e9fe6766-b861-4f6f-b75a-dfe78623a75e",
   "metadata": {},
   "source": [
    "# Loop Control Statement"
   ]
  },
  {
   "cell_type": "markdown",
   "id": "cb270c52-9ff9-4eeb-b3a4-0891866270ff",
   "metadata": {},
   "source": [
    "# Using Break keywork"
   ]
  },
  {
   "cell_type": "code",
   "execution_count": 24,
   "id": "3136bac2-514e-4eca-8916-2251addcb144",
   "metadata": {},
   "outputs": [
    {
     "name": "stdout",
     "output_type": "stream",
     "text": [
      "12+6=18"
     ]
    }
   ],
   "source": [
    "z=\"12+6=18,12-6=6,19+0=19\"\n",
    "for i in z:\n",
    "    if i==\",\":\n",
    "        break\n",
    "    print(i, end=\"\")"
   ]
  },
  {
   "cell_type": "markdown",
   "id": "d1945e1b-b94e-443f-9993-97591c1a3015",
   "metadata": {},
   "source": [
    "# Using Continue Keyword"
   ]
  },
  {
   "cell_type": "code",
   "execution_count": 14,
   "id": "afd030af-bc0e-42d6-8b00-b9a9cbc68293",
   "metadata": {},
   "outputs": [
    {
     "name": "stdout",
     "output_type": "stream",
     "text": [
      "6\n",
      "10\n",
      "12\n",
      "19\n",
      "20\n"
     ]
    }
   ],
   "source": [
    "for i in(6,10,12,19,20,80,120):\n",
    "    if i>20:\n",
    "        continue\n",
    "    print(i)"
   ]
  },
  {
   "cell_type": "code",
   "execution_count": null,
   "id": "02f9c95c-93ff-4173-a61f-5dd238d2b9a0",
   "metadata": {},
   "outputs": [],
   "source": []
  },
  {
   "cell_type": "code",
   "execution_count": null,
   "id": "15f34bcb-a4de-4fcc-901c-76595b5d4adc",
   "metadata": {},
   "outputs": [],
   "source": []
  }
 ],
 "metadata": {
  "kernelspec": {
   "display_name": "Python 3 (ipykernel)",
   "language": "python",
   "name": "python3"
  },
  "language_info": {
   "codemirror_mode": {
    "name": "ipython",
    "version": 3
   },
   "file_extension": ".py",
   "mimetype": "text/x-python",
   "name": "python",
   "nbconvert_exporter": "python",
   "pygments_lexer": "ipython3",
   "version": "3.12.4"
  }
 },
 "nbformat": 4,
 "nbformat_minor": 5
}
