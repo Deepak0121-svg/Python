{
 "cells": [
  {
   "cell_type": "code",
   "execution_count": 80,
   "id": "04434688-be8e-423f-bdf5-f14b814036d3",
   "metadata": {},
   "outputs": [],
   "source": [
    "#Basic array operation"
   ]
  },
  {
   "cell_type": "code",
   "execution_count": 81,
   "id": "f5c5a440-87a8-4752-917e-00b9eb127635",
   "metadata": {},
   "outputs": [],
   "source": [
    "import numpy as np"
   ]
  },
  {
   "cell_type": "code",
   "execution_count": 82,
   "id": "499bbd8b-3716-4662-b8f7-d1766f6cb2d0",
   "metadata": {},
   "outputs": [],
   "source": [
    "x=np.array([19,405,21])"
   ]
  },
  {
   "cell_type": "code",
   "execution_count": 83,
   "id": "fbe2e4cb-4f6e-4ae9-9b4f-2560b540d954",
   "metadata": {},
   "outputs": [
    {
     "data": {
      "text/plain": [
       "array([ 19, 405,  21])"
      ]
     },
     "execution_count": 83,
     "metadata": {},
     "output_type": "execute_result"
    }
   ],
   "source": [
    "x"
   ]
  },
  {
   "cell_type": "code",
   "execution_count": 84,
   "id": "7f14e3e3-3647-45ea-aec5-b8dc5c206ea2",
   "metadata": {},
   "outputs": [
    {
     "data": {
      "text/plain": [
       "numpy.ndarray"
      ]
     },
     "execution_count": 84,
     "metadata": {},
     "output_type": "execute_result"
    }
   ],
   "source": [
    "type(x)"
   ]
  },
  {
   "cell_type": "code",
   "execution_count": 85,
   "id": "5964fbf0-05b8-48b9-b09d-65825ab5d8d1",
   "metadata": {},
   "outputs": [
    {
     "data": {
      "text/plain": [
       "(3,)"
      ]
     },
     "execution_count": 85,
     "metadata": {},
     "output_type": "execute_result"
    }
   ],
   "source": [
    "x.shape"
   ]
  },
  {
   "cell_type": "code",
   "execution_count": 86,
   "id": "62e235ac-99e9-406e-a370-802aee1c7206",
   "metadata": {},
   "outputs": [],
   "source": [
    "#range fnction\n",
    "y=np.arange(8)"
   ]
  },
  {
   "cell_type": "code",
   "execution_count": 87,
   "id": "aa06c973-4ff1-4701-a17a-43e03bf43328",
   "metadata": {},
   "outputs": [
    {
     "data": {
      "text/plain": [
       "array([0, 1, 2, 3, 4, 5, 6, 7])"
      ]
     },
     "execution_count": 87,
     "metadata": {},
     "output_type": "execute_result"
    }
   ],
   "source": [
    "y"
   ]
  },
  {
   "cell_type": "code",
   "execution_count": 88,
   "id": "602f5baf-c6fb-43a8-801a-422d211bbba3",
   "metadata": {},
   "outputs": [
    {
     "data": {
      "text/plain": [
       "array([[0, 1, 2, 3],\n",
       "       [4, 5, 6, 7]])"
      ]
     },
     "execution_count": 88,
     "metadata": {},
     "output_type": "execute_result"
    }
   ],
   "source": [
    "y.reshape(2,4)"
   ]
  },
  {
   "cell_type": "code",
   "execution_count": 89,
   "id": "47c84efb-3c85-42b9-a1df-7b750db0a869",
   "metadata": {},
   "outputs": [],
   "source": [
    "#scipy\n",
    "from scipy import constants"
   ]
  },
  {
   "cell_type": "code",
   "execution_count": 90,
   "id": "b9af49dc-ce82-45f3-a3d9-4e4a9c6d64de",
   "metadata": {},
   "outputs": [
    {
     "name": "stdout",
     "output_type": "stream",
     "text": [
      "299792458.0\n"
     ]
    }
   ],
   "source": [
    "print(constants.c)"
   ]
  },
  {
   "cell_type": "code",
   "execution_count": 91,
   "id": "9aa2ef93-2c81-45b1-a716-dc474d2eec9a",
   "metadata": {},
   "outputs": [
    {
     "data": {
      "text/plain": [
       "6.62607015e-34"
      ]
     },
     "execution_count": 91,
     "metadata": {},
     "output_type": "execute_result"
    }
   ],
   "source": [
    "constants.h"
   ]
  },
  {
   "cell_type": "code",
   "execution_count": 92,
   "id": "daf62f7f-4e70-436b-b10d-0e4ae1f4a288",
   "metadata": {},
   "outputs": [
    {
     "data": {
      "text/plain": [
       "6.02214076e+23"
      ]
     },
     "execution_count": 92,
     "metadata": {},
     "output_type": "execute_result"
    }
   ],
   "source": [
    "constants.N_A"
   ]
  },
  {
   "cell_type": "code",
   "execution_count": 93,
   "id": "8a850131-0380-4a59-8d0c-505c852a84ee",
   "metadata": {},
   "outputs": [],
   "source": [
    "#pandas\n",
    "import pandas as pd"
   ]
  },
  {
   "cell_type": "code",
   "execution_count": 94,
   "id": "758b7643-5aec-4053-a230-3528e43e83f4",
   "metadata": {},
   "outputs": [
    {
     "data": {
      "text/html": [
       "<div>\n",
       "<style scoped>\n",
       "    .dataframe tbody tr th:only-of-type {\n",
       "        vertical-align: middle;\n",
       "    }\n",
       "\n",
       "    .dataframe tbody tr th {\n",
       "        vertical-align: top;\n",
       "    }\n",
       "\n",
       "    .dataframe thead th {\n",
       "        text-align: right;\n",
       "    }\n",
       "</style>\n",
       "<table border=\"1\" class=\"dataframe\">\n",
       "  <thead>\n",
       "    <tr style=\"text-align: right;\">\n",
       "      <th></th>\n",
       "      <th>C</th>\n",
       "      <th>1</th>\n",
       "      <th>C</th>\n",
       "      <th>2</th>\n",
       "      <th>C</th>\n",
       "      <th>3</th>\n",
       "    </tr>\n",
       "  </thead>\n",
       "  <tbody>\n",
       "    <tr>\n",
       "      <th>0</th>\n",
       "      <td>0.562298</td>\n",
       "      <td>0.478058</td>\n",
       "      <td>0.547077</td>\n",
       "      <td>1.048524</td>\n",
       "      <td>0.140651</td>\n",
       "      <td>0.937261</td>\n",
       "    </tr>\n",
       "    <tr>\n",
       "      <th>1</th>\n",
       "      <td>0.258935</td>\n",
       "      <td>-0.146348</td>\n",
       "      <td>-0.525343</td>\n",
       "      <td>0.030806</td>\n",
       "      <td>0.027561</td>\n",
       "      <td>-0.319832</td>\n",
       "    </tr>\n",
       "    <tr>\n",
       "      <th>2</th>\n",
       "      <td>-0.290307</td>\n",
       "      <td>0.096252</td>\n",
       "      <td>-0.417910</td>\n",
       "      <td>1.389739</td>\n",
       "      <td>1.379236</td>\n",
       "      <td>0.188750</td>\n",
       "    </tr>\n",
       "    <tr>\n",
       "      <th>3</th>\n",
       "      <td>-1.074615</td>\n",
       "      <td>1.444074</td>\n",
       "      <td>-0.286409</td>\n",
       "      <td>-0.211477</td>\n",
       "      <td>-0.239071</td>\n",
       "      <td>-1.071662</td>\n",
       "    </tr>\n",
       "    <tr>\n",
       "      <th>4</th>\n",
       "      <td>-0.734233</td>\n",
       "      <td>0.395827</td>\n",
       "      <td>0.837847</td>\n",
       "      <td>-0.311487</td>\n",
       "      <td>-0.035991</td>\n",
       "      <td>0.476115</td>\n",
       "    </tr>\n",
       "    <tr>\n",
       "      <th>5</th>\n",
       "      <td>-0.810275</td>\n",
       "      <td>1.168759</td>\n",
       "      <td>1.202279</td>\n",
       "      <td>-0.119700</td>\n",
       "      <td>1.444824</td>\n",
       "      <td>-0.731512</td>\n",
       "    </tr>\n",
       "    <tr>\n",
       "      <th>6</th>\n",
       "      <td>1.666047</td>\n",
       "      <td>1.582570</td>\n",
       "      <td>0.551876</td>\n",
       "      <td>0.543455</td>\n",
       "      <td>-0.682158</td>\n",
       "      <td>-0.228255</td>\n",
       "    </tr>\n",
       "  </tbody>\n",
       "</table>\n",
       "</div>"
      ],
      "text/plain": [
       "          C         1         C         2         C         3\n",
       "0  0.562298  0.478058  0.547077  1.048524  0.140651  0.937261\n",
       "1  0.258935 -0.146348 -0.525343  0.030806  0.027561 -0.319832\n",
       "2 -0.290307  0.096252 -0.417910  1.389739  1.379236  0.188750\n",
       "3 -1.074615  1.444074 -0.286409 -0.211477 -0.239071 -1.071662\n",
       "4 -0.734233  0.395827  0.837847 -0.311487 -0.035991  0.476115\n",
       "5 -0.810275  1.168759  1.202279 -0.119700  1.444824 -0.731512\n",
       "6  1.666047  1.582570  0.551876  0.543455 -0.682158 -0.228255"
      ]
     },
     "execution_count": 94,
     "metadata": {},
     "output_type": "execute_result"
    }
   ],
   "source": [
    "df=pd.DataFrame(np.random.randn(7,6),index=list(range(7)),columns=list('C1C2C3'))\n",
    "df"
   ]
  },
  {
   "cell_type": "code",
   "execution_count": 95,
   "id": "622aecfb-c1ab-4cb7-95b2-4e89169af30a",
   "metadata": {},
   "outputs": [
    {
     "data": {
      "text/html": [
       "<div>\n",
       "<style scoped>\n",
       "    .dataframe tbody tr th:only-of-type {\n",
       "        vertical-align: middle;\n",
       "    }\n",
       "\n",
       "    .dataframe tbody tr th {\n",
       "        vertical-align: top;\n",
       "    }\n",
       "\n",
       "    .dataframe thead th {\n",
       "        text-align: right;\n",
       "    }\n",
       "</style>\n",
       "<table border=\"1\" class=\"dataframe\">\n",
       "  <thead>\n",
       "    <tr style=\"text-align: right;\">\n",
       "      <th></th>\n",
       "      <th>C</th>\n",
       "      <th>1</th>\n",
       "      <th>C</th>\n",
       "      <th>2</th>\n",
       "      <th>C</th>\n",
       "      <th>3</th>\n",
       "    </tr>\n",
       "  </thead>\n",
       "  <tbody>\n",
       "    <tr>\n",
       "      <th>count</th>\n",
       "      <td>7.000000</td>\n",
       "      <td>7.000000</td>\n",
       "      <td>7.000000</td>\n",
       "      <td>7.000000</td>\n",
       "      <td>7.000000</td>\n",
       "      <td>7.000000</td>\n",
       "    </tr>\n",
       "    <tr>\n",
       "      <th>mean</th>\n",
       "      <td>-0.060307</td>\n",
       "      <td>0.717027</td>\n",
       "      <td>0.272774</td>\n",
       "      <td>0.338552</td>\n",
       "      <td>0.290722</td>\n",
       "      <td>-0.107019</td>\n",
       "    </tr>\n",
       "    <tr>\n",
       "      <th>std</th>\n",
       "      <td>0.963345</td>\n",
       "      <td>0.679813</td>\n",
       "      <td>0.678620</td>\n",
       "      <td>0.668434</td>\n",
       "      <td>0.810607</td>\n",
       "      <td>0.695049</td>\n",
       "    </tr>\n",
       "    <tr>\n",
       "      <th>min</th>\n",
       "      <td>-1.074615</td>\n",
       "      <td>-0.146348</td>\n",
       "      <td>-0.525343</td>\n",
       "      <td>-0.311487</td>\n",
       "      <td>-0.682158</td>\n",
       "      <td>-1.071662</td>\n",
       "    </tr>\n",
       "    <tr>\n",
       "      <th>25%</th>\n",
       "      <td>-0.772254</td>\n",
       "      <td>0.246040</td>\n",
       "      <td>-0.352160</td>\n",
       "      <td>-0.165588</td>\n",
       "      <td>-0.137531</td>\n",
       "      <td>-0.525672</td>\n",
       "    </tr>\n",
       "    <tr>\n",
       "      <th>50%</th>\n",
       "      <td>-0.290307</td>\n",
       "      <td>0.478058</td>\n",
       "      <td>0.547077</td>\n",
       "      <td>0.030806</td>\n",
       "      <td>0.027561</td>\n",
       "      <td>-0.228255</td>\n",
       "    </tr>\n",
       "    <tr>\n",
       "      <th>75%</th>\n",
       "      <td>0.410617</td>\n",
       "      <td>1.306416</td>\n",
       "      <td>0.694861</td>\n",
       "      <td>0.795989</td>\n",
       "      <td>0.759944</td>\n",
       "      <td>0.332433</td>\n",
       "    </tr>\n",
       "    <tr>\n",
       "      <th>max</th>\n",
       "      <td>1.666047</td>\n",
       "      <td>1.582570</td>\n",
       "      <td>1.202279</td>\n",
       "      <td>1.389739</td>\n",
       "      <td>1.444824</td>\n",
       "      <td>0.937261</td>\n",
       "    </tr>\n",
       "  </tbody>\n",
       "</table>\n",
       "</div>"
      ],
      "text/plain": [
       "              C         1         C         2         C         3\n",
       "count  7.000000  7.000000  7.000000  7.000000  7.000000  7.000000\n",
       "mean  -0.060307  0.717027  0.272774  0.338552  0.290722 -0.107019\n",
       "std    0.963345  0.679813  0.678620  0.668434  0.810607  0.695049\n",
       "min   -1.074615 -0.146348 -0.525343 -0.311487 -0.682158 -1.071662\n",
       "25%   -0.772254  0.246040 -0.352160 -0.165588 -0.137531 -0.525672\n",
       "50%   -0.290307  0.478058  0.547077  0.030806  0.027561 -0.228255\n",
       "75%    0.410617  1.306416  0.694861  0.795989  0.759944  0.332433\n",
       "max    1.666047  1.582570  1.202279  1.389739  1.444824  0.937261"
      ]
     },
     "execution_count": 95,
     "metadata": {},
     "output_type": "execute_result"
    }
   ],
   "source": [
    "df.describe()"
   ]
  },
  {
   "cell_type": "code",
   "execution_count": 96,
   "id": "f49a80f0-2f03-4168-b318-577caede7ecf",
   "metadata": {},
   "outputs": [
    {
     "data": {
      "text/plain": [
       "{'Name': ['Deepak', 'trio405', 'Demon', 'Roman'],\n",
       " 'Age': [20, 19, 21, 38],\n",
       " 'Dept': ['AI', 'CSE', 'IT', 'MECH']}"
      ]
     },
     "execution_count": 96,
     "metadata": {},
     "output_type": "execute_result"
    }
   ],
   "source": [
    "vale={\"Name\":[\"Deepak\",\"trio405\",\"Demon\",\"Roman\"],\n",
    "      \"Age\":[20,19,21,38],\n",
    "      \"Dept\":[\"AI\",\"CSE\",\"IT\",\"MECH\"]}\n",
    "vale"
   ]
  },
  {
   "cell_type": "code",
   "execution_count": 97,
   "id": "d1b76440-84cf-4fc1-adc0-5f00382cb28c",
   "metadata": {},
   "outputs": [
    {
     "data": {
      "text/plain": [
       "dict"
      ]
     },
     "execution_count": 97,
     "metadata": {},
     "output_type": "execute_result"
    }
   ],
   "source": [
    "type(vale)"
   ]
  },
  {
   "cell_type": "code",
   "execution_count": 98,
   "id": "6a9ae5e1-fe7b-49d3-a55b-cde6f194ff03",
   "metadata": {},
   "outputs": [],
   "source": [
    "df=pd.DataFrame(vale)"
   ]
  },
  {
   "cell_type": "code",
   "execution_count": 99,
   "id": "c5e4c78b-1ab0-489e-ade7-46c9d0b09414",
   "metadata": {},
   "outputs": [
    {
     "data": {
      "text/html": [
       "<div>\n",
       "<style scoped>\n",
       "    .dataframe tbody tr th:only-of-type {\n",
       "        vertical-align: middle;\n",
       "    }\n",
       "\n",
       "    .dataframe tbody tr th {\n",
       "        vertical-align: top;\n",
       "    }\n",
       "\n",
       "    .dataframe thead th {\n",
       "        text-align: right;\n",
       "    }\n",
       "</style>\n",
       "<table border=\"1\" class=\"dataframe\">\n",
       "  <thead>\n",
       "    <tr style=\"text-align: right;\">\n",
       "      <th></th>\n",
       "      <th>Name</th>\n",
       "      <th>Age</th>\n",
       "      <th>Dept</th>\n",
       "    </tr>\n",
       "  </thead>\n",
       "  <tbody>\n",
       "    <tr>\n",
       "      <th>0</th>\n",
       "      <td>Deepak</td>\n",
       "      <td>20</td>\n",
       "      <td>AI</td>\n",
       "    </tr>\n",
       "    <tr>\n",
       "      <th>1</th>\n",
       "      <td>trio405</td>\n",
       "      <td>19</td>\n",
       "      <td>CSE</td>\n",
       "    </tr>\n",
       "    <tr>\n",
       "      <th>2</th>\n",
       "      <td>Demon</td>\n",
       "      <td>21</td>\n",
       "      <td>IT</td>\n",
       "    </tr>\n",
       "    <tr>\n",
       "      <th>3</th>\n",
       "      <td>Roman</td>\n",
       "      <td>38</td>\n",
       "      <td>MECH</td>\n",
       "    </tr>\n",
       "  </tbody>\n",
       "</table>\n",
       "</div>"
      ],
      "text/plain": [
       "      Name  Age  Dept\n",
       "0   Deepak   20    AI\n",
       "1  trio405   19   CSE\n",
       "2    Demon   21    IT\n",
       "3    Roman   38  MECH"
      ]
     },
     "execution_count": 99,
     "metadata": {},
     "output_type": "execute_result"
    }
   ],
   "source": [
    "df"
   ]
  },
  {
   "cell_type": "code",
   "execution_count": 100,
   "id": "5bdcf85d-b262-453f-bf49-0779bebdea3f",
   "metadata": {},
   "outputs": [],
   "source": [
    "import matplotlib.pyplot as plt\n",
    "%matplotlib inline"
   ]
  },
  {
   "cell_type": "code",
   "execution_count": 101,
   "id": "d4a95c50-3dd5-4198-a9d9-b28e4ab89ad1",
   "metadata": {},
   "outputs": [],
   "source": [
    "np.random.seed(12)"
   ]
  },
  {
   "cell_type": "code",
   "execution_count": 102,
   "id": "71161a5e-895e-483e-83ce-c4f9869d67bc",
   "metadata": {},
   "outputs": [],
   "source": [
    "Value=21"
   ]
  },
  {
   "cell_type": "code",
   "execution_count": 103,
   "id": "b620b83a-6d57-43d9-bfdf-6243b6c969a1",
   "metadata": {},
   "outputs": [],
   "source": [
    "x=np.random.rand(Value)\n",
    "y=np.random.rand(Value)\n",
    "colors=np.random.rand(Value)"
   ]
  },
  {
   "cell_type": "code",
   "execution_count": 104,
   "id": "d152902e-49c6-4759-813c-a1c33c5f8992",
   "metadata": {},
   "outputs": [],
   "source": [
    "area=(21 * np.random.rand(Value))**3"
   ]
  },
  {
   "cell_type": "code",
   "execution_count": 105,
   "id": "17cba98e-99d4-45d3-acc4-65ecc843235a",
   "metadata": {},
   "outputs": [
    {
     "data": {
      "image/png": "[encoded data removed]",
      "text/plain": [
       "<Figure size 640x480 with 1 Axes>"
      ]
     },
     "metadata": {},
     "output_type": "display_data"
    }
   ],
   "source": [
    "plt.scatter(x,y,s=area,c=colors,alpha=0.4)\n",
    "plt.show()"
   ]
  },
  {
   "cell_type": "code",
   "execution_count": 106,
   "id": "ca9ea2e3-3b1c-4f9f-af05-9a11b37aad4c",
   "metadata": {},
   "outputs": [],
   "source": [
    "from matplotlib import style\n",
    "style.use('ggplot')\n",
    "\n",
    "x=[19,21,6]\n",
    "y=[3,5,7]\n",
    "\n",
    "x2=[2,4,6]\n",
    "y2=[1,2,3]\n",
    "\n"
   ]
  },
  {
   "cell_type": "code",
   "execution_count": 107,
   "id": "948edab1-50c3-4a80-bd36-2e16a446e003",
   "metadata": {},
   "outputs": [
    {
     "data": {
      "image/png": "[encoded data removed]",
      "text/plain": [
       "<Figure size 640x480 with 1 Axes>"
      ]
     },
     "metadata": {},
     "output_type": "display_data"
    }
   ],
   "source": [
    "plt.bar(x,y,color='g',align='center')\n",
    "plt.bar(x,y,color='y',align='center')\n",
    "plt.title('category')\n",
    "plt.ylabel('Y Axis')\n",
    "plt.xlabel('X Axis')\n",
    "plt.show()\n"
   ]
  },
  {
   "cell_type": "code",
   "execution_count": 108,
   "id": "80b1a191-4553-4f84-a36d-3647fbfdb160",
   "metadata": {},
   "outputs": [
    {
     "data": {
      "text/plain": [
       "array([[1, 2, 3],\n",
       "       [2, 3, 7]])"
      ]
     },
     "execution_count": 108,
     "metadata": {},
     "output_type": "execute_result"
    }
   ],
   "source": [
    "x=np.array([[1,2,3],[2,3,7]])\n",
    "x"
   ]
  },
  {
   "cell_type": "code",
   "execution_count": 109,
   "id": "9365ebfa-560e-469f-8b79-60c193e4c8f8",
   "metadata": {},
   "outputs": [
    {
     "data": {
      "text/plain": [
       "(2, 3)"
      ]
     },
     "execution_count": 109,
     "metadata": {},
     "output_type": "execute_result"
    }
   ],
   "source": [
    "np.shape(x)"
   ]
  },
  {
   "cell_type": "code",
   "execution_count": 110,
   "id": "658a61ee-5bd7-434e-9856-a444c8c2b1e6",
   "metadata": {},
   "outputs": [
    {
     "data": {
      "text/plain": [
       "6"
      ]
     },
     "execution_count": 110,
     "metadata": {},
     "output_type": "execute_result"
    }
   ],
   "source": [
    "np.size(x)"
   ]
  },
  {
   "cell_type": "code",
   "execution_count": 111,
   "id": "1a4f6368-3d92-4b5f-8399-7829693dee37",
   "metadata": {},
   "outputs": [
    {
     "name": "stdout",
     "output_type": "stream",
     "text": [
      "28\n"
     ]
    }
   ],
   "source": [
    "import time\n",
    "import sys\n",
    "\n",
    "num=range(405)\n",
    "print(sys.getsizeof(7))"
   ]
  },
  {
   "cell_type": "code",
   "execution_count": 112,
   "id": "fc969cb2-4950-4a56-8375-1d7169b56b31",
   "metadata": {},
   "outputs": [
    {
     "data": {
      "text/plain": [
       "405"
      ]
     },
     "execution_count": 112,
     "metadata": {},
     "output_type": "execute_result"
    }
   ],
   "source": [
    "len(num)"
   ]
  },
  {
   "cell_type": "code",
   "execution_count": 113,
   "id": "687ece52-e5ee-40b8-a4b0-3e151fbad38d",
   "metadata": {},
   "outputs": [
    {
     "data": {
      "text/plain": [
       "array([  0,   1,   2,   3,   4,   5,   6,   7,   8,   9,  10,  11,  12,\n",
       "        13,  14,  15,  16,  17,  18,  19,  20,  21,  22,  23,  24,  25,\n",
       "        26,  27,  28,  29,  30,  31,  32,  33,  34,  35,  36,  37,  38,\n",
       "        39,  40,  41,  42,  43,  44,  45,  46,  47,  48,  49,  50,  51,\n",
       "        52,  53,  54,  55,  56,  57,  58,  59,  60,  61,  62,  63,  64,\n",
       "        65,  66,  67,  68,  69,  70,  71,  72,  73,  74,  75,  76,  77,\n",
       "        78,  79,  80,  81,  82,  83,  84,  85,  86,  87,  88,  89,  90,\n",
       "        91,  92,  93,  94,  95,  96,  97,  98,  99, 100, 101, 102, 103,\n",
       "       104, 105, 106, 107, 108, 109, 110, 111, 112, 113, 114, 115, 116,\n",
       "       117, 118, 119, 120, 121, 122, 123, 124, 125, 126, 127, 128, 129,\n",
       "       130, 131, 132, 133, 134, 135, 136, 137, 138, 139, 140, 141, 142,\n",
       "       143, 144, 145, 146, 147, 148, 149, 150, 151, 152, 153, 154, 155,\n",
       "       156, 157, 158, 159, 160, 161, 162, 163, 164, 165, 166, 167, 168,\n",
       "       169, 170, 171, 172, 173, 174, 175, 176, 177, 178, 179, 180, 181,\n",
       "       182, 183, 184, 185, 186, 187, 188, 189, 190, 191, 192, 193, 194,\n",
       "       195, 196, 197, 198, 199, 200, 201, 202, 203, 204, 205, 206, 207,\n",
       "       208, 209, 210, 211, 212, 213, 214, 215, 216, 217, 218, 219, 220,\n",
       "       221, 222, 223, 224, 225, 226, 227, 228, 229, 230, 231, 232, 233,\n",
       "       234, 235, 236, 237, 238, 239, 240, 241, 242, 243, 244, 245, 246,\n",
       "       247, 248, 249, 250, 251, 252, 253, 254, 255, 256, 257, 258, 259,\n",
       "       260, 261, 262, 263, 264, 265, 266, 267, 268, 269, 270, 271, 272,\n",
       "       273, 274, 275, 276, 277, 278, 279, 280, 281, 282, 283, 284, 285,\n",
       "       286, 287, 288, 289, 290, 291, 292, 293, 294, 295, 296, 297, 298,\n",
       "       299, 300, 301, 302, 303, 304, 305, 306, 307, 308, 309, 310, 311,\n",
       "       312, 313, 314, 315, 316, 317, 318, 319, 320, 321, 322, 323, 324,\n",
       "       325, 326, 327, 328, 329, 330, 331, 332, 333, 334, 335, 336, 337,\n",
       "       338, 339, 340, 341, 342, 343, 344, 345, 346, 347, 348, 349, 350,\n",
       "       351, 352, 353, 354, 355, 356, 357, 358, 359, 360, 361, 362, 363,\n",
       "       364, 365, 366, 367, 368, 369, 370, 371, 372, 373, 374, 375, 376,\n",
       "       377, 378, 379, 380, 381, 382, 383, 384, 385, 386, 387, 388, 389,\n",
       "       390, 391, 392, 393, 394, 395, 396, 397, 398, 399, 400, 401, 402,\n",
       "       403, 404, 405])"
      ]
     },
     "execution_count": 113,
     "metadata": {},
     "output_type": "execute_result"
    }
   ],
   "source": [
    "val=np.arange(406)\n",
    "val"
   ]
  },
  {
   "cell_type": "code",
   "execution_count": 114,
   "id": "b60fbd2d-c0c9-47a3-bc49-6932c6fc4da1",
   "metadata": {},
   "outputs": [
    {
     "data": {
      "text/plain": [
       "array([0, 5])"
      ]
     },
     "execution_count": 114,
     "metadata": {},
     "output_type": "execute_result"
    }
   ],
   "source": [
    "val_1=np.arange(0,10,5)\n",
    "val_1"
   ]
  },
  {
   "cell_type": "code",
   "execution_count": 115,
   "id": "a30c0e5c-7c1d-4369-b0df-3c74a018300b",
   "metadata": {},
   "outputs": [
    {
     "data": {
      "text/plain": [
       "2"
      ]
     },
     "execution_count": 115,
     "metadata": {},
     "output_type": "execute_result"
    }
   ],
   "source": [
    "np.size(val_1)"
   ]
  },
  {
   "cell_type": "code",
   "execution_count": 116,
   "id": "3dc3461d-eac2-4962-8c8c-1fce07f9c682",
   "metadata": {},
   "outputs": [
    {
     "data": {
      "text/plain": [
       "406"
      ]
     },
     "execution_count": 116,
     "metadata": {},
     "output_type": "execute_result"
    }
   ],
   "source": [
    "np.size(val)"
   ]
  },
  {
   "cell_type": "code",
   "execution_count": 117,
   "id": "825603dc-9ef4-4798-8e9c-81cdb958bfa8",
   "metadata": {},
   "outputs": [
    {
     "data": {
      "text/plain": [
       "(406, 406)"
      ]
     },
     "execution_count": 117,
     "metadata": {},
     "output_type": "execute_result"
    }
   ],
   "source": [
    "np.shape(val)*(np.size(val_1))"
   ]
  },
  {
   "cell_type": "code",
   "execution_count": 118,
   "id": "ba02182f-7bb2-4bf0-8718-227131e4ace7",
   "metadata": {},
   "outputs": [
    {
     "name": "stdout",
     "output_type": "stream",
     "text": [
      "4\n"
     ]
    }
   ],
   "source": [
    "print(val.itemsize)"
   ]
  },
  {
   "cell_type": "code",
   "execution_count": 119,
   "id": "c35394ed-c04b-419f-80a7-57e01446f6c1",
   "metadata": {},
   "outputs": [
    {
     "name": "stdout",
     "output_type": "stream",
     "text": [
      "[0, 2, 4, 6, 8, 10, 12, 14, 16, 18, 20, 22, 24, 26, 28, 30, 32, 34, 36, 38, 40, 42, 44, 46, 48, 50, 52, 54, 56, 58, 60, 62, 64, 66, 68, 70, 72, 74, 76, 78, 80, 82, 84, 86, 88, 90, 92, 94, 96, 98, 100, 102, 104, 106, 108, 110, 112, 114, 116, 118, 120, 122, 124, 126, 128, 130, 132, 134, 136, 138, 140, 142, 144, 146, 148, 150, 152, 154, 156, 158, 160, 162, 164, 166, 168, 170, 172, 174, 176, 178, 180, 182, 184, 186, 188, 190, 192, 194, 196, 198, 200, 202, 204, 206, 208, 210, 212, 214, 216, 218, 220, 222, 224, 226, 228, 230, 232, 234, 236, 238, 240, 242, 244, 246, 248, 250, 252, 254, 256, 258, 260, 262, 264, 266, 268, 270, 272, 274, 276, 278, 280, 282, 284, 286, 288, 290, 292, 294, 296, 298, 300, 302, 304, 306, 308, 310, 312, 314, 316, 318, 320, 322, 324, 326, 328, 330, 332, 334, 336, 338, 340, 342, 344, 346, 348, 350, 352, 354, 356, 358, 360, 362, 364, 366, 368, 370, 372, 374, 376, 378, 380, 382, 384, 386, 388, 390, 392, 394, 396, 398, 400, 402, 404, 406, 408, 410, 412, 414, 416, 418, 420, 422, 424, 426, 428, 430, 432, 434, 436, 438, 440, 442, 444, 446, 448, 450, 452, 454, 456, 458, 460, 462, 464, 466, 468, 470, 472, 474, 476, 478, 480, 482, 484, 486, 488, 490, 492, 494, 496, 498, 500, 502, 504, 506, 508, 510, 512, 514, 516, 518, 520, 522, 524, 526, 528, 530, 532, 534, 536, 538, 540, 542, 544, 546, 548, 550, 552, 554, 556, 558, 560, 562, 564, 566, 568, 570, 572, 574, 576, 578, 580, 582, 584, 586, 588, 590, 592, 594, 596, 598, 600, 602, 604, 606, 608, 610, 612, 614, 616, 618, 620, 622, 624, 626, 628, 630, 632, 634, 636, 638, 640, 642, 644, 646, 648, 650, 652, 654, 656, 658, 660, 662, 664, 666, 668, 670, 672, 674, 676, 678, 680, 682, 684, 686, 688, 690, 692, 694, 696, 698, 700, 702, 704, 706, 708, 710, 712, 714, 716, 718, 720, 722, 724, 726, 728, 730, 732, 734, 736, 738, 740, 742, 744, 746, 748, 750, 752, 754, 756, 758, 760, 762, 764, 766, 768, 770, 772, 774, 776, 778, 780, 782, 784, 786, 788, 790, 792, 794, 796, 798, 800, 802, 804, 806, 808, 810, 812, 814, 816, 818, 820, 822, 824, 826, 828, 830, 832, 834, 836, 838, 840, 842, 844, 846, 848, 850, 852, 854, 856, 858, 860, 862, 864, 866, 868, 870, 872, 874, 876, 878, 880, 882, 884, 886, 888, 890, 892, 894, 896, 898, 900, 902, 904, 906, 908, 910, 912, 914, 916, 918, 920, 922, 924, 926, 928, 930, 932, 934, 936, 938, 940, 942, 944, 946, 948, 950, 952, 954, 956, 958, 960, 962, 964, 966, 968, 970, 972, 974, 976, 978, 980, 982, 984, 986, 988, 990, 992, 994, 996, 998, 1000, 1002, 1004, 1006, 1008, 1010, 1012, 1014, 1016, 1018, 1020, 1022, 1024, 1026, 1028, 1030, 1032, 1034, 1036, 1038, 1040, 1042, 1044, 1046, 1048, 1050, 1052, 1054, 1056, 1058, 1060, 1062, 1064, 1066, 1068, 1070, 1072, 1074, 1076, 1078, 1080, 1082, 1084, 1086, 1088, 1090, 1092, 1094, 1096, 1098, 1100, 1102, 1104, 1106, 1108, 1110, 1112, 1114, 1116, 1118, 1120, 1122, 1124, 1126, 1128, 1130, 1132, 1134, 1136, 1138, 1140, 1142, 1144, 1146, 1148, 1150, 1152, 1154, 1156, 1158, 1160, 1162, 1164, 1166, 1168, 1170, 1172, 1174, 1176, 1178, 1180, 1182, 1184, 1186, 1188, 1190, 1192, 1194, 1196, 1198, 1200, 1202, 1204, 1206, 1208, 1210, 1212, 1214, 1216, 1218, 1220, 1222, 1224, 1226, 1228, 1230, 1232, 1234, 1236, 1238, 1240, 1242, 1244, 1246, 1248, 1250, 1252, 1254, 1256, 1258, 1260, 1262, 1264, 1266, 1268, 1270, 1272, 1274, 1276, 1278, 1280, 1282, 1284, 1286, 1288, 1290, 1292, 1294, 1296, 1298, 1300, 1302, 1304, 1306, 1308, 1310, 1312, 1314, 1316, 1318, 1320, 1322, 1324, 1326, 1328, 1330, 1332, 1334, 1336, 1338, 1340, 1342, 1344, 1346, 1348, 1350, 1352, 1354, 1356, 1358, 1360, 1362, 1364, 1366, 1368, 1370, 1372, 1374, 1376, 1378, 1380, 1382, 1384, 1386, 1388, 1390, 1392, 1394, 1396, 1398, 1400]\n"
     ]
    }
   ],
   "source": [
    "size=701\n",
    "L1=range(size)\n",
    "L2=range(size)\n",
    "A1=np.arange(size)\n",
    "A2=np.arange(size)\n",
    "start=time.time()\n",
    "result=[(x+y) for x,y in zip(L1,L2)]\n",
    "print(result)"
   ]
  },
  {
   "cell_type": "code",
   "execution_count": 120,
   "id": "3b7504b1-ea75-4a0c-8ddc-07f35ab98b4e",
   "metadata": {},
   "outputs": [
    {
     "name": "stdout",
     "output_type": "stream",
     "text": [
      "list took: 9.136199951171875\n"
     ]
    }
   ],
   "source": [
    "print(\"list took:\",(time.time()-start)*1000)"
   ]
  },
  {
   "cell_type": "code",
   "execution_count": 121,
   "id": "17dc3297-012d-4e4e-9643-e013107dd739",
   "metadata": {},
   "outputs": [
    {
     "name": "stdout",
     "output_type": "stream",
     "text": [
      "numpy array took: 0.0\n"
     ]
    }
   ],
   "source": [
    "start=time.time()\n",
    "result=A1+A2\n",
    "print(\"numpy array took:\",(time.time()-start)*1000)"
   ]
  },
  {
   "cell_type": "code",
   "execution_count": 122,
   "id": "32b7c209-4915-447d-b899-9044f303a87b",
   "metadata": {},
   "outputs": [
    {
     "data": {
      "text/plain": [
       "array([[  1,   2,   3],\n",
       "       [  7,  19,  21],\n",
       "       [405, 420, 777]])"
      ]
     },
     "execution_count": 122,
     "metadata": {},
     "output_type": "execute_result"
    }
   ],
   "source": [
    "a=np.array([[1,2,3],[7,19,21],[405,420,777]])\n",
    "a"
   ]
  },
  {
   "cell_type": "code",
   "execution_count": 123,
   "id": "04a1703f-f6a4-4b31-bec1-4b6554394d7b",
   "metadata": {},
   "outputs": [
    {
     "data": {
      "text/plain": [
       "(3, 3)"
      ]
     },
     "execution_count": 123,
     "metadata": {},
     "output_type": "execute_result"
    }
   ],
   "source": [
    "np.shape(a)"
   ]
  },
  {
   "cell_type": "code",
   "execution_count": 124,
   "id": "8199cefa-0ae4-4d73-9171-8374c888a4fc",
   "metadata": {},
   "outputs": [
    {
     "data": {
      "text/plain": [
       "2"
      ]
     },
     "execution_count": 124,
     "metadata": {},
     "output_type": "execute_result"
    }
   ],
   "source": [
    "a.ndim"
   ]
  },
  {
   "cell_type": "code",
   "execution_count": 125,
   "id": "4bf19d39-5ece-447f-aa16-dc61c04ca5a2",
   "metadata": {},
   "outputs": [
    {
     "data": {
      "text/plain": [
       "4"
      ]
     },
     "execution_count": 125,
     "metadata": {},
     "output_type": "execute_result"
    }
   ],
   "source": [
    "a.itemsize"
   ]
  },
  {
   "cell_type": "code",
   "execution_count": 126,
   "id": "7951f60c-a7dd-428d-9537-5bf4a4c7aa61",
   "metadata": {},
   "outputs": [
    {
     "data": {
      "text/plain": [
       "(3, 3)"
      ]
     },
     "execution_count": 126,
     "metadata": {},
     "output_type": "execute_result"
    }
   ],
   "source": [
    "a.shape"
   ]
  },
  {
   "cell_type": "code",
   "execution_count": 127,
   "id": "45242554-34c6-4176-955b-6a3f99ab7c77",
   "metadata": {},
   "outputs": [
    {
     "data": {
      "text/plain": [
       "9"
      ]
     },
     "execution_count": 127,
     "metadata": {},
     "output_type": "execute_result"
    }
   ],
   "source": [
    "a.size"
   ]
  },
  {
   "cell_type": "code",
   "execution_count": 128,
   "id": "6e15b818-2fb0-463f-bf6a-c1b1746ec9d7",
   "metadata": {},
   "outputs": [
    {
     "data": {
      "text/plain": [
       "array([[[  1,   2,   3],\n",
       "        [  7,  19,  21],\n",
       "        [405, 420, 777]]])"
      ]
     },
     "execution_count": 128,
     "metadata": {},
     "output_type": "execute_result"
    }
   ],
   "source": [
    "b=np.array([[[1,2,3],[7,19,21],[405,420,777]]])\n",
    "b"
   ]
  },
  {
   "cell_type": "code",
   "execution_count": 129,
   "id": "d5f18f1a-49b7-43c5-b975-81fdc512d09f",
   "metadata": {},
   "outputs": [
    {
     "data": {
      "text/plain": [
       "3"
      ]
     },
     "execution_count": 129,
     "metadata": {},
     "output_type": "execute_result"
    }
   ],
   "source": [
    "b.ndim"
   ]
  },
  {
   "cell_type": "code",
   "execution_count": 130,
   "id": "169f0f3c-d7bc-42b5-8689-e97670ad039d",
   "metadata": {},
   "outputs": [
    {
     "data": {
      "text/plain": [
       "4"
      ]
     },
     "execution_count": 130,
     "metadata": {},
     "output_type": "execute_result"
    }
   ],
   "source": [
    "b.itemsize"
   ]
  },
  {
   "cell_type": "code",
   "execution_count": 131,
   "id": "8e376806-f175-4f17-a2fd-15e8609aaf92",
   "metadata": {},
   "outputs": [
    {
     "data": {
      "text/plain": [
       "(1, 3, 3)"
      ]
     },
     "execution_count": 131,
     "metadata": {},
     "output_type": "execute_result"
    }
   ],
   "source": [
    "b.shape"
   ]
  },
  {
   "cell_type": "code",
   "execution_count": 132,
   "id": "7cd15aac-b4ab-4d43-a8a1-5890a545c561",
   "metadata": {},
   "outputs": [
    {
     "data": {
      "text/plain": [
       "array([[  1,   2,   3],\n",
       "       [  7,  19,  21],\n",
       "       [405, 420, 777]], dtype=int64)"
      ]
     },
     "execution_count": 132,
     "metadata": {},
     "output_type": "execute_result"
    }
   ],
   "source": [
    "a=np.array([[1,2,3],[7,19,21],[405,420,777]],dtype=np.int64)\n",
    "a"
   ]
  },
  {
   "cell_type": "code",
   "execution_count": 133,
   "id": "cc2d64c3-e8ea-4ad9-b6c7-e28bb04a02b7",
   "metadata": {},
   "outputs": [
    {
     "data": {
      "text/plain": [
       "8"
      ]
     },
     "execution_count": 133,
     "metadata": {},
     "output_type": "execute_result"
    }
   ],
   "source": [
    "a.itemsize"
   ]
  },
  {
   "cell_type": "code",
   "execution_count": 141,
   "id": "6f2af580-effc-4230-ab01-e2f86d9423a5",
   "metadata": {},
   "outputs": [
    {
     "data": {
      "text/plain": [
       "array([[ 1.+0.j,  2.+0.j],\n",
       "       [19.+0.j,  7.+0.j]])"
      ]
     },
     "execution_count": 141,
     "metadata": {},
     "output_type": "execute_result"
    }
   ],
   "source": [
    "a=np.array([[1,2],[19,7]],dtype=np.complex_)\n",
    "a"
   ]
  },
  {
   "cell_type": "code",
   "execution_count": 151,
   "id": "97389824-50a8-42f1-8ce0-0efa472fd9b8",
   "metadata": {},
   "outputs": [
    {
     "data": {
      "text/plain": [
       "array([[0., 0., 0.],\n",
       "       [0., 0., 0.]])"
      ]
     },
     "execution_count": 151,
     "metadata": {},
     "output_type": "execute_result"
    }
   ],
   "source": [
    "np.zeros((2,3))"
   ]
  },
  {
   "cell_type": "code",
   "execution_count": 155,
   "id": "ea13daea-8286-4b32-adb5-28c0c6f1a616",
   "metadata": {},
   "outputs": [
    {
     "data": {
      "text/plain": [
       "array([[1., 1., 1.],\n",
       "       [1., 1., 1.],\n",
       "       [1., 1., 1.]])"
      ]
     },
     "execution_count": 155,
     "metadata": {},
     "output_type": "execute_result"
    }
   ],
   "source": [
    "np.ones((3,3))"
   ]
  },
  {
   "cell_type": "code",
   "execution_count": 163,
   "id": "1abac963-e5f1-4a7e-adcf-888f06ee90b5",
   "metadata": {},
   "outputs": [
    {
     "name": "stdout",
     "output_type": "stream",
     "text": [
      "Demon\n"
     ]
    }
   ],
   "source": [
    "print(np.char.capitalize(\"demon\"))"
   ]
  },
  {
   "cell_type": "code",
   "execution_count": 165,
   "id": "0d93e6e4-fef7-4e81-a148-bc4b4cf26602",
   "metadata": {},
   "outputs": [
    {
     "name": "stdout",
     "output_type": "stream",
     "text": [
      "DEMON\n"
     ]
    }
   ],
   "source": [
    "print(np.char.upper(\"demon\"))"
   ]
  },
  {
   "cell_type": "code",
   "execution_count": 175,
   "id": "d13e72cb-4705-4011-9ce9-228b965b9401",
   "metadata": {},
   "outputs": [
    {
     "name": "stdout",
     "output_type": "stream",
     "text": [
      "concatenation example\n",
      "['hello405' 'hi420']\n"
     ]
    }
   ],
   "source": [
    "print(\"concatenation example\")\n",
    "print(np.char.add([\"hello\",\"hi\"],['405','420']))"
   ]
  },
  {
   "cell_type": "code",
   "execution_count": 187,
   "id": "1e281d47-c854-4cc4-99e8-d792cc8b85e3",
   "metadata": {},
   "outputs": [
    {
     "name": "stdout",
     "output_type": "stream",
     "text": [
      "-------Tommy-------\n"
     ]
    }
   ],
   "source": [
    "print(np.char.center(\"Tommy\",19,fillchar='-'))"
   ]
  },
  {
   "cell_type": "code",
   "execution_count": 213,
   "id": "46185801-fb86-44d2-a8d3-e35e0152d5bf",
   "metadata": {},
   "outputs": [
    {
     "name": "stdout",
     "output_type": "stream",
     "text": [
      "Hi How Are You ❤️\n"
     ]
    }
   ],
   "source": [
    "print(np.char.title(\"hi how are you ❤️\"))\n"
   ]
  },
  {
   "cell_type": "code",
   "execution_count": 215,
   "id": "7262f2cd-b192-4c17-a215-00d2d7fc7a69",
   "metadata": {},
   "outputs": [
    {
     "name": "stdout",
     "output_type": "stream",
     "text": [
      "['hi', 'how', 'are', 'you', '❤️']\n"
     ]
    }
   ],
   "source": [
    "print(np.char.split(\"hi how are you ❤️\"))"
   ]
  },
  {
   "cell_type": "code",
   "execution_count": 221,
   "id": "aa497213-3b69-4218-9073-6ad19b476ff3",
   "metadata": {},
   "outputs": [
    {
     "name": "stdout",
     "output_type": "stream",
     "text": [
      "['hi how are / you ❤️']\n"
     ]
    }
   ],
   "source": [
    "print(np.char.splitlines(\"hi how are / you ❤️\"))"
   ]
  },
  {
   "cell_type": "code",
   "execution_count": 235,
   "id": "f60425a9-8e5b-49d3-a689-b6a196fe4750",
   "metadata": {},
   "outputs": [
    {
     "name": "stdout",
     "output_type": "stream",
     "text": [
      "['Naruto' 'Sasuke' 'Sakur']\n"
     ]
    }
   ],
   "source": [
    "print(np.char.strip([\"Naruto\",\"Sasuke\",\"Sakura\"],\"a\"))"
   ]
  },
  {
   "cell_type": "code",
   "execution_count": 239,
   "id": "2c6c7b04-69c5-4cf9-96ea-58f73174969f",
   "metadata": {},
   "outputs": [
    {
     "name": "stdout",
     "output_type": "stream",
     "text": [
      "['M%P%G' 'A,G']\n"
     ]
    }
   ],
   "source": [
    "print(np.char.join([\"%\",\",\"],[\"MPG\",\"AG\"]))"
   ]
  },
  {
   "cell_type": "code",
   "execution_count": 241,
   "id": "8b2b0d05-48dd-4931-8c5d-f2412016bd91",
   "metadata": {},
   "outputs": [
    {
     "name": "stdout",
     "output_type": "stream",
     "text": [
      "python is easy to learn\n"
     ]
    }
   ],
   "source": [
    "print(np.char.replace(\"python was easy to learn\",\"was\",\"is\"))"
   ]
  }
 ],
 "metadata": {
  "kernelspec": {
   "display_name": "Python 3 (ipykernel)",
   "language": "python",
   "name": "python3"
  },
  "language_info": {
   "codemirror_mode": {
    "name": "ipython",
    "version": 3
   },
   "file_extension": ".py",
   "mimetype": "text/x-python",
   "name": "python",
   "nbconvert_exporter": "python",
   "pygments_lexer": "ipython3",
   "version": "3.12.4"
  }
 },
 "nbformat": 4,
 "nbformat_minor": 5
}
