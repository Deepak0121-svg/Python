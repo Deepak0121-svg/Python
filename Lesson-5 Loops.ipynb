{
 "cells": [
  {
   "cell_type": "markdown",
   "id": "fd9cb96d-19ba-47ca-a0e0-af06502b6a2f",
   "metadata": {},
   "source": [
    "# for loop"
   ]
  },
  {
   "cell_type": "code",
   "execution_count": 3,
   "id": "a9736f6b-6eb2-4977-91cc-a11e3fa0a87d",
   "metadata": {},
   "outputs": [
    {
     "name": "stdout",
     "output_type": "stream",
     "text": [
      "0 70 1.28 Demon 90 "
     ]
    }
   ],
   "source": [
    "a=[0,70,1.28,\"Demon\",90]\n",
    "for i in a:\n",
    "    print(i, end=\" \")\n"
   ]
  },
  {
   "cell_type": "code",
   "execution_count": 4,
   "id": "af65a4e6-552c-46e0-afd0-19af1dc05dc0",
   "metadata": {},
   "outputs": [
    {
     "name": "stdout",
     "output_type": "stream",
     "text": [
      "0\n",
      "2\n",
      "4\n",
      "6\n",
      "8\n",
      "10\n",
      "12\n",
      "14\n",
      "16\n",
      "18\n",
      "20\n"
     ]
    }
   ],
   "source": [
    "for i in range(0,21):\n",
    "    if i%2==0:\n",
    "        print(i)\n",
    "    "
   ]
  },
  {
   "cell_type": "code",
   "execution_count": 5,
   "id": "13c5ca5a-b9b5-4edf-9322-0c65fb669152",
   "metadata": {},
   "outputs": [
    {
     "name": "stdout",
     "output_type": "stream",
     "text": [
      "0\n",
      "3\n",
      "6\n",
      "9\n",
      "12\n",
      "15\n",
      "18\n"
     ]
    }
   ],
   "source": [
    "# to find sum\n",
    "#sum=0\n",
    "for i in range(0,21):\n",
    "    if i%3==0:\n",
    "        #sum=sum+i\n",
    "        print(i)\n",
    "        "
   ]
  },
  {
   "cell_type": "code",
   "execution_count": 6,
   "id": "8fc43e99-16c1-465c-b43f-130825e78061",
   "metadata": {},
   "outputs": [
    {
     "name": "stdin",
     "output_type": "stream",
     "text": [
      "Enter a number: 7\n"
     ]
    },
    {
     "name": "stdout",
     "output_type": "stream",
     "text": [
      "1 \n",
      "1 2 \n",
      "1 2 3 \n",
      "1 2 3 4 \n",
      "1 2 3 4 5 \n",
      "1 2 3 4 5 6 \n",
      "1 2 3 4 5 6 7 \n"
     ]
    }
   ],
   "source": [
    "#pattern\n",
    "x=int(input(\"Enter a number:\"))\n",
    "for i in range(1,x+1):\n",
    "    #print(i)\n",
    "    \n",
    "    for j in range(1,i+1):\n",
    "        print(j,end=\" \")\n",
    "    print()\n",
    "    \n",
    "    "
   ]
  },
  {
   "cell_type": "code",
   "execution_count": 7,
   "id": "c95103d8-def3-4e0a-9db6-1514ef691328",
   "metadata": {},
   "outputs": [
    {
     "name": "stdout",
     "output_type": "stream",
     "text": [
      "* \n",
      "* * \n",
      "* * * \n",
      "* * * * \n",
      "* * * * * \n"
     ]
    }
   ],
   "source": [
    "for i in range(1,6):\n",
    "    \n",
    "    for j in range(1,i+1):\n",
    "        print(\"*\",end=\" \")\n",
    "    print()"
   ]
  },
  {
   "cell_type": "code",
   "execution_count": 8,
   "id": "5191647a-e364-4a2c-92a4-3e12c7529efb",
   "metadata": {},
   "outputs": [
    {
     "name": "stdout",
     "output_type": "stream",
     "text": [
      "* * * * * \n",
      "* * * * \n",
      "* * * \n",
      "* * \n",
      "* \n"
     ]
    }
   ],
   "source": [
    "for i in range(1,6):#reverse pattern star\n",
    "    \n",
    "    for j in range(i+1,7):\n",
    "        print(\"*\",end=\" \")\n",
    "    print()"
   ]
  },
  {
   "cell_type": "code",
   "execution_count": 9,
   "id": "b6905dbc-e042-4ca3-ba80-f25ce7e393b7",
   "metadata": {},
   "outputs": [
    {
     "name": "stdin",
     "output_type": "stream",
     "text": [
      "Enter number of rows: 2\n",
      "Enter number of columns: 2\n",
      "Enter the 0 * 0 1\n",
      "Enter the 0 * 1 2\n",
      "Enter the 1 * 0 3\n",
      "Enter the 1 * 1 4\n",
      "Enter the 0 * 0 1\n",
      "Enter the 0 * 1 2\n",
      "Enter the 1 * 0 3\n",
      "Enter the 1 * 1 4\n"
     ]
    },
    {
     "name": "stdout",
     "output_type": "stream",
     "text": [
      "[[2, 4], [6, 8]]\n"
     ]
    }
   ],
   "source": [
    "r=int(input(\"Enter number of rows:\"))\n",
    "c=int(input(\"Enter number of columns:\"))\n",
    "x=[]\n",
    "val=[]\n",
    "for i in range(0,r):\n",
    "    for j in range(0,c):\n",
    "        val.insert(j,int(input(\"Enter the %d * %d\"%(i,j))))\n",
    "    x.insert(i,val)\n",
    "    val=[]\n",
    "\n",
    "y=[]\n",
    "for i in range(0,r):\n",
    "    for j in range(0,c):\n",
    "        val.insert(j,int(input(\"Enter the %d * %d\"%(i,j))))\n",
    "    y.insert(i,val)\n",
    "    val=[]\n",
    "\n",
    "\n",
    "sum=[]\n",
    "for i in range(0,r):\n",
    "    for j in range(0,c):\n",
    "        val.insert(j, x[i][j]+y[i][j])\n",
    "    sum.insert(i,val)\n",
    "    val=[]\n",
    "print(sum)\n"
   ]
  },
  {
   "cell_type": "markdown",
   "id": "18247b6e-f0b6-41e3-9f17-b4c9d2f09510",
   "metadata": {},
   "source": [
    "# While Loop"
   ]
  },
  {
   "cell_type": "code",
   "execution_count": 11,
   "id": "eeb06239-69f1-4a53-91ce-9a91ce6bf580",
   "metadata": {},
   "outputs": [
    {
     "name": "stdout",
     "output_type": "stream",
     "text": [
      "Demon\n",
      "Demon\n",
      "Demon\n",
      "Demon\n"
     ]
    }
   ],
   "source": [
    "i=2\n",
    "while i<=5:\n",
    "    print(\"Demon\")\n",
    "    i+=1"
   ]
  },
  {
   "cell_type": "code",
   "execution_count": 12,
   "id": "4cef7bd3-90fe-4ddd-8392-2eed7a2a4f1b",
   "metadata": {},
   "outputs": [
    {
     "name": "stdout",
     "output_type": "stream",
     "text": [
      "6\n"
     ]
    }
   ],
   "source": [
    "# To find even number\n",
    "x=0\n",
    "sum=0\n",
    "while x<=10:\n",
    "    if x%2==0:\n",
    "        sum=sum+1\n",
    "    x+=1\n",
    "print(sum)"
   ]
  },
  {
   "cell_type": "code",
   "execution_count": 13,
   "id": "4abefb79-8930-4a6a-89db-e02975c0df11",
   "metadata": {},
   "outputs": [
    {
     "name": "stdin",
     "output_type": "stream",
     "text": [
      "Enter a number: 230\n"
     ]
    },
    {
     "name": "stdout",
     "output_type": "stream",
     "text": [
      "0\n"
     ]
    }
   ],
   "source": [
    "n=int(input(\"Enter a number:\"))\n",
    "c=n%10\n",
    "print(c)"
   ]
  },
  {
   "cell_type": "code",
   "execution_count": 14,
   "id": "09e4e3d0-a2e6-4b9a-aad2-959c06337171",
   "metadata": {},
   "outputs": [
    {
     "data": {
      "text/plain": [
       "2"
      ]
     },
     "execution_count": 14,
     "metadata": {},
     "output_type": "execute_result"
    }
   ],
   "source": [
    "x=960121243012\n",
    "x%10"
   ]
  },
  {
   "cell_type": "code",
   "execution_count": 15,
   "id": "7b99b883-7e93-459f-8651-ee4a91daeb19",
   "metadata": {},
   "outputs": [
    {
     "data": {
      "text/plain": [
       "43"
      ]
     },
     "execution_count": 15,
     "metadata": {},
     "output_type": "execute_result"
    }
   ],
   "source": [
    "y=435\n",
    "y//10"
   ]
  },
  {
   "cell_type": "code",
   "execution_count": 1,
   "id": "25481c72-dc78-41ed-8fad-2ec36ab35f58",
   "metadata": {},
   "outputs": [
    {
     "name": "stdin",
     "output_type": "stream",
     "text": [
      "Enter a number: 756\n"
     ]
    },
    {
     "name": "stdout",
     "output_type": "stream",
     "text": [
      "657\n"
     ]
    }
   ],
   "source": [
    "#Reverse the order\n",
    "n=int(input(\"Enter a number:\"))\n",
    "nr=0\n",
    "while n%10!=0:\n",
    "    c=n %10\n",
    "    nr=nr*10+c\n",
    "    n=n//10\n",
    "print(nr)"
   ]
  },
  {
   "cell_type": "code",
   "execution_count": 3,
   "id": "52655d79-f0be-41c3-a554-ef33863cb9ff",
   "metadata": {},
   "outputs": [
    {
     "name": "stdout",
     "output_type": "stream",
     "text": [
      "4\n"
     ]
    }
   ],
   "source": [
    "#Find length of list without using len()\n",
    "z=[1,4.3,\"Moon\",\"Demon\"]\n",
    "length=0\n",
    "i=0\n",
    "try:\n",
    "    while z[i]:\n",
    "        length+=1\n",
    "        i+=1\n",
    "except IndexError:\n",
    "    \n",
    "    print(length)"
   ]
  },
  {
   "cell_type": "code",
   "execution_count": 5,
   "id": "fbdfde58-dfce-46ee-aabd-7853ae441841",
   "metadata": {},
   "outputs": [
    {
     "name": "stdin",
     "output_type": "stream",
     "text": [
      "Enter a number: 8\n"
     ]
    },
    {
     "name": "stdout",
     "output_type": "stream",
     "text": [
      "1 \n",
      "2 2 \n",
      "3 3 3 \n",
      "4 4 4 4 \n",
      "5 5 5 5 5 \n",
      "6 6 6 6 6 6 \n",
      "7 7 7 7 7 7 7 \n",
      "8 8 8 8 8 8 8 8 \n"
     ]
    }
   ],
   "source": [
    "# pattern using nested while\n",
    "n=int(input(\"Enter a number:\"))\n",
    "i=1\n",
    "while i<=n:\n",
    "    j=1\n",
    "    while j<=i:\n",
    "        print(i, end=\" \")\n",
    "        j+=1\n",
    "    i+=1\n",
    "    print()"
   ]
  },
  {
   "cell_type": "markdown",
   "id": "33eb3352-7e4b-42ef-b58f-1c762287395b",
   "metadata": {},
   "source": [
    "# Game"
   ]
  },
  {
   "cell_type": "code",
   "execution_count": 11,
   "id": "5ca925b5-cbed-4bb6-a7d7-b9570a0a1d84",
   "metadata": {},
   "outputs": [
    {
     "name": "stdout",
     "output_type": "stream",
     "text": [
      "7757\n"
     ]
    },
    {
     "name": "stdin",
     "output_type": "stream",
     "text": [
      "Enter a number: 10\n"
     ]
    },
    {
     "name": "stdout",
     "output_type": "stream",
     "text": [
      "Quit the Game\n"
     ]
    }
   ],
   "source": [
    "import random\n",
    "nump=random.randint(1000,9999)\n",
    "print(nump)\n",
    "n=int(input(\"Enter a number:\"))\n",
    "while n!=10:\n",
    "    num=nump\n",
    "    cor=0\n",
    "    while num%10:\n",
    "        numc=num%10\n",
    "        nc=n%10\n",
    "        num=num//10\n",
    "        n=n//10\n",
    "        if numc==nc:\n",
    "            cor=cor+1\n",
    "    if cor==4:\n",
    "        print(\"Congrats You gussed it right\")\n",
    "        break\n",
    "    else:\n",
    "        print(\"%d digits were guessed right\"%cor)\n",
    "        n=int(input(\"Enter a number:\"))\n",
    "else:\n",
    "    print(\"Quit the Game\")\n",
    "        \n"
   ]
  }
 ],
 "metadata": {
  "kernelspec": {
   "display_name": "Python 3 (ipykernel)",
   "language": "python",
   "name": "python3"
  },
  "language_info": {
   "codemirror_mode": {
    "name": "ipython",
    "version": 3
   },
   "file_extension": ".py",
   "mimetype": "text/x-python",
   "name": "python",
   "nbconvert_exporter": "python",
   "pygments_lexer": "ipython3",
   "version": "3.12.4"
  }
 },
 "nbformat": 4,
 "nbformat_minor": 5
}
