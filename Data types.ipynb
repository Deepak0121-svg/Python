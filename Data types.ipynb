{
 "cells": [
  {
   "cell_type": "markdown",
   "id": "51b2e520-5831-40e6-9358-1ed2fccce004",
   "metadata": {},
   "source": [
    "# Python Numbers"
   ]
  },
  {
   "cell_type": "code",
   "execution_count": 6,
   "id": "191964ba-c9da-4a67-ad66-a6e7856863d2",
   "metadata": {},
   "outputs": [
    {
     "data": {
      "text/plain": [
       "int"
      ]
     },
     "execution_count": 6,
     "metadata": {},
     "output_type": "execute_result"
    }
   ],
   "source": [
    "Num=10\n",
    "type(Num)"
   ]
  },
  {
   "cell_type": "code",
   "execution_count": 7,
   "id": "de4364f4-0199-40fa-910e-2a7beb3bac07",
   "metadata": {},
   "outputs": [
    {
     "data": {
      "text/plain": [
       "float"
      ]
     },
     "execution_count": 7,
     "metadata": {},
     "output_type": "execute_result"
    }
   ],
   "source": [
    "Num=2.7\n",
    "type(Num)"
   ]
  },
  {
   "cell_type": "code",
   "execution_count": 8,
   "id": "5468a413-6715-43df-a3db-895d471e2a20",
   "metadata": {},
   "outputs": [
    {
     "data": {
      "text/plain": [
       "complex"
      ]
     },
     "execution_count": 8,
     "metadata": {},
     "output_type": "execute_result"
    }
   ],
   "source": [
    "Num=5+10j\n",
    "type(Num)"
   ]
  },
  {
   "cell_type": "code",
   "execution_count": 9,
   "id": "8004a80e-8eda-40b0-9c6b-2ad9f2fbffd1",
   "metadata": {},
   "outputs": [
    {
     "data": {
      "text/plain": [
       "5.0"
      ]
     },
     "execution_count": 9,
     "metadata": {},
     "output_type": "execute_result"
    }
   ],
   "source": [
    "Num.real #to view real number and it take the number in float format"
   ]
  },
  {
   "cell_type": "code",
   "execution_count": 10,
   "id": "f866e6de-dc0e-4428-9d17-a8b22d6690af",
   "metadata": {},
   "outputs": [
    {
     "data": {
      "text/plain": [
       "10.0"
      ]
     },
     "execution_count": 10,
     "metadata": {},
     "output_type": "execute_result"
    }
   ],
   "source": [
    "Num.imag"
   ]
  },
  {
   "cell_type": "code",
   "execution_count": 11,
   "id": "5b933c1f-6fa4-47ab-9ed8-dcd5b145a74e",
   "metadata": {},
   "outputs": [],
   "source": [
    "n1=10.0\n",
    "n2=11.0"
   ]
  },
  {
   "cell_type": "code",
   "execution_count": 12,
   "id": "5adef196-02a9-4673-bd7f-0fee280c8de7",
   "metadata": {},
   "outputs": [
    {
     "data": {
      "text/plain": [
       "21.0"
      ]
     },
     "execution_count": 12,
     "metadata": {},
     "output_type": "execute_result"
    }
   ],
   "source": [
    "n1+n2\n"
   ]
  },
  {
   "cell_type": "code",
   "execution_count": 13,
   "id": "1d8b9202-6b69-4410-ae95-475c3bdbafc7",
   "metadata": {},
   "outputs": [
    {
     "data": {
      "text/plain": [
       "-1.0"
      ]
     },
     "execution_count": 13,
     "metadata": {},
     "output_type": "execute_result"
    }
   ],
   "source": [
    "n1-n2"
   ]
  },
  {
   "cell_type": "code",
   "execution_count": 14,
   "id": "6961d7a1-a1b1-45fe-b1e3-db6cad95ddce",
   "metadata": {},
   "outputs": [
    {
     "data": {
      "text/plain": [
       "110.0"
      ]
     },
     "execution_count": 14,
     "metadata": {},
     "output_type": "execute_result"
    }
   ],
   "source": [
    "n1*n2"
   ]
  },
  {
   "cell_type": "code",
   "execution_count": 15,
   "id": "773be248-8618-486a-9110-fbe1cbf5dd59",
   "metadata": {},
   "outputs": [
    {
     "data": {
      "text/plain": [
       "0.9090909090909091"
      ]
     },
     "execution_count": 15,
     "metadata": {},
     "output_type": "execute_result"
    }
   ],
   "source": [
    "n1/n2"
   ]
  },
  {
   "cell_type": "code",
   "execution_count": 16,
   "id": "d544ce00-8685-492f-b482-d05a72ded864",
   "metadata": {},
   "outputs": [
    {
     "data": {
      "text/plain": [
       "0.0"
      ]
     },
     "execution_count": 16,
     "metadata": {},
     "output_type": "execute_result"
    }
   ],
   "source": [
    "n1//n2"
   ]
  },
  {
   "cell_type": "code",
   "execution_count": 17,
   "id": "84061263-2f46-4d78-829a-a19d81979311",
   "metadata": {},
   "outputs": [
    {
     "data": {
      "text/plain": [
       "10.0"
      ]
     },
     "execution_count": 17,
     "metadata": {},
     "output_type": "execute_result"
    }
   ],
   "source": [
    "n1%n2"
   ]
  },
  {
   "cell_type": "code",
   "execution_count": 18,
   "id": "9d1589b5-58cf-4cb8-b0f9-02586b69e435",
   "metadata": {},
   "outputs": [
    {
     "data": {
      "text/plain": [
       "100000000000.0"
      ]
     },
     "execution_count": 18,
     "metadata": {},
     "output_type": "execute_result"
    }
   ],
   "source": [
    "n1**n2"
   ]
  },
  {
   "cell_type": "markdown",
   "id": "df78ba1c-3018-4bc1-8111-10a232dce2df",
   "metadata": {},
   "source": [
    "# Conversions"
   ]
  },
  {
   "cell_type": "code",
   "execution_count": 20,
   "id": "4eba54a2-bf1f-47e7-bcae-dccbdd591f56",
   "metadata": {},
   "outputs": [
    {
     "data": {
      "text/plain": [
       "str"
      ]
     },
     "execution_count": 20,
     "metadata": {},
     "output_type": "execute_result"
    }
   ],
   "source": [
    "x=\"143\"\n",
    "type(x)"
   ]
  },
  {
   "cell_type": "code",
   "execution_count": 21,
   "id": "5d8cba78-4ef4-4a72-83d8-1a98e5353c0b",
   "metadata": {},
   "outputs": [
    {
     "data": {
      "text/plain": [
       "143"
      ]
     },
     "execution_count": 21,
     "metadata": {},
     "output_type": "execute_result"
    }
   ],
   "source": [
    "y=int(x)\n",
    "y"
   ]
  },
  {
   "cell_type": "code",
   "execution_count": 22,
   "id": "d13ade77-3428-4e90-ab35-5bd7228f2397",
   "metadata": {},
   "outputs": [
    {
     "data": {
      "text/plain": [
       "int"
      ]
     },
     "execution_count": 22,
     "metadata": {},
     "output_type": "execute_result"
    }
   ],
   "source": [
    "type(y)"
   ]
  },
  {
   "cell_type": "code",
   "execution_count": 23,
   "id": "934e4b23-8a26-4c88-9ed4-04954a65dd31",
   "metadata": {},
   "outputs": [
    {
     "data": {
      "text/plain": [
       "143.0"
      ]
     },
     "execution_count": 23,
     "metadata": {},
     "output_type": "execute_result"
    }
   ],
   "source": [
    "y=float(x)\n",
    "y\n"
   ]
  },
  {
   "cell_type": "code",
   "execution_count": 24,
   "id": "6bf24211-da55-4228-939a-c6855b0d065c",
   "metadata": {},
   "outputs": [
    {
     "name": "stdout",
     "output_type": "stream",
     "text": [
      "<class 'float'>\n"
     ]
    }
   ],
   "source": [
    "print(type(y))"
   ]
  },
  {
   "cell_type": "code",
   "execution_count": 25,
   "id": "13bb4649-c208-44f9-89e5-017e32323d49",
   "metadata": {},
   "outputs": [
    {
     "data": {
      "text/plain": [
       "(143+0j)"
      ]
     },
     "execution_count": 25,
     "metadata": {},
     "output_type": "execute_result"
    }
   ],
   "source": [
    "y=complex(x)\n",
    "y"
   ]
  },
  {
   "cell_type": "code",
   "execution_count": 26,
   "id": "671ae1fa-ccf8-4007-88b0-ce57d0aab8f5",
   "metadata": {},
   "outputs": [
    {
     "data": {
      "text/plain": [
       "complex"
      ]
     },
     "execution_count": 26,
     "metadata": {},
     "output_type": "execute_result"
    }
   ],
   "source": [
    "type(y)"
   ]
  },
  {
   "cell_type": "markdown",
   "id": "7e1f0c88-cc86-4aac-9900-c3426dbeb8d1",
   "metadata": {},
   "source": [
    "# complex\n"
   ]
  },
  {
   "cell_type": "code",
   "execution_count": 28,
   "id": "31e9fcd7-fab3-4cdc-ac2f-ae631a3bfa02",
   "metadata": {},
   "outputs": [
    {
     "name": "stdout",
     "output_type": "stream",
     "text": [
      "(6+7j)\n"
     ]
    }
   ],
   "source": [
    "print(complex(6,7))"
   ]
  },
  {
   "cell_type": "markdown",
   "id": "da30ae63-3ae4-4c9e-ab15-b00188c14ecc",
   "metadata": {},
   "source": [
    "# FUNCTIONS"
   ]
  },
  {
   "cell_type": "code",
   "execution_count": 30,
   "id": "104b5542-5d8d-45a5-8b70-a9a378584d12",
   "metadata": {},
   "outputs": [
    {
     "name": "stdout",
     "output_type": "stream",
     "text": [
      "9.87\n"
     ]
    }
   ],
   "source": [
    "x=-9.87\n",
    "print(abs(x))"
   ]
  },
  {
   "cell_type": "code",
   "execution_count": 31,
   "id": "d208d0f3-14dc-469e-ae87-e464874f0167",
   "metadata": {},
   "outputs": [
    {
     "name": "stdout",
     "output_type": "stream",
     "text": [
      "Defaulting to user installation because normal site-packages is not writeable\n"
     ]
    },
    {
     "name": "stderr",
     "output_type": "stream",
     "text": [
      "ERROR: Could not find a version that satisfies the requirement math (from versions: none)\n",
      "ERROR: No matching distribution found for math\n"
     ]
    }
   ],
   "source": [
    "!pip install math"
   ]
  },
  {
   "cell_type": "code",
   "execution_count": 32,
   "id": "8d179dce-af95-49f0-834e-a5c2a6332b72",
   "metadata": {},
   "outputs": [
    {
     "name": "stdout",
     "output_type": "stream",
     "text": [
      "162754.79141900392\n"
     ]
    }
   ],
   "source": [
    "import math\n",
    "y=12\n",
    "print(math.exp(y))"
   ]
  },
  {
   "cell_type": "code",
   "execution_count": 33,
   "id": "2618fe61-9b19-4866-a0ea-899f1ab6217d",
   "metadata": {},
   "outputs": [
    {
     "data": {
      "text/plain": [
       "3.141592653589793"
      ]
     },
     "execution_count": 33,
     "metadata": {},
     "output_type": "execute_result"
    }
   ],
   "source": [
    "math.pi #math pi function"
   ]
  },
  {
   "cell_type": "code",
   "execution_count": 34,
   "id": "ab38d1fd-c1d5-4313-87ff-0c16149b144e",
   "metadata": {},
   "outputs": [
    {
     "data": {
      "text/plain": [
       "2.718281828459045"
      ]
     },
     "execution_count": 34,
     "metadata": {},
     "output_type": "execute_result"
    }
   ],
   "source": [
    "math.e"
   ]
  },
  {
   "cell_type": "code",
   "execution_count": 35,
   "id": "d84001e7-57f8-455a-a364-44463415ada6",
   "metadata": {},
   "outputs": [
    {
     "data": {
      "text/plain": [
       "1789"
      ]
     },
     "execution_count": 35,
     "metadata": {},
     "output_type": "execute_result"
    }
   ],
   "source": [
    "x=(1,5,69,340,1789)\n",
    "max(x)"
   ]
  },
  {
   "cell_type": "code",
   "execution_count": 36,
   "id": "ebcb8760-df0a-48ca-bae0-0b62dae9b467",
   "metadata": {},
   "outputs": [
    {
     "data": {
      "text/plain": [
       "1"
      ]
     },
     "execution_count": 36,
     "metadata": {},
     "output_type": "execute_result"
    }
   ],
   "source": [
    "min(x)"
   ]
  },
  {
   "cell_type": "code",
   "execution_count": 37,
   "id": "d531dd35-8e9a-40b8-8db6-b3af0ad57953",
   "metadata": {},
   "outputs": [
    {
     "name": "stdout",
     "output_type": "stream",
     "text": [
      "3.0\n"
     ]
    }
   ],
   "source": [
    "print(math.sqrt(9))"
   ]
  },
  {
   "cell_type": "markdown",
   "id": "e4a550d1-88b4-45b8-86f9-e6d2f7342c93",
   "metadata": {},
   "source": [
    "# 1.LIST"
   ]
  },
  {
   "cell_type": "code",
   "execution_count": 39,
   "id": "44289fbf-8e4b-4160-bfc1-5a628eae1eea",
   "metadata": {},
   "outputs": [
    {
     "data": {
      "text/plain": [
       "[7, 0.78, 'Hi', (5+6j)]"
      ]
     },
     "execution_count": 39,
     "metadata": {},
     "output_type": "execute_result"
    }
   ],
   "source": [
    "#creating list\n",
    "x=[7,0.78,\"Hi\",5+6j]\n",
    "x"
   ]
  },
  {
   "cell_type": "code",
   "execution_count": 40,
   "id": "dd37af26-f24c-4efe-bf44-398083aa9f6e",
   "metadata": {},
   "outputs": [
    {
     "data": {
      "text/plain": [
       "list"
      ]
     },
     "execution_count": 40,
     "metadata": {},
     "output_type": "execute_result"
    }
   ],
   "source": [
    "type(x)"
   ]
  },
  {
   "cell_type": "code",
   "execution_count": 41,
   "id": "5b7e71c4-7639-4b3f-b972-e8e29c76bab7",
   "metadata": {},
   "outputs": [],
   "source": [
    "x[3]=9"
   ]
  },
  {
   "cell_type": "code",
   "execution_count": 42,
   "id": "0f96f6eb-1619-4197-b451-cc6fee47994d",
   "metadata": {},
   "outputs": [
    {
     "data": {
      "text/plain": [
       "[7, 0.78, 'Hi', 9]"
      ]
     },
     "execution_count": 42,
     "metadata": {},
     "output_type": "execute_result"
    }
   ],
   "source": [
    "x"
   ]
  },
  {
   "cell_type": "code",
   "execution_count": 43,
   "id": "42f33a79-7fe6-4f5d-9a38-fa5f41f0667a",
   "metadata": {},
   "outputs": [
    {
     "data": {
      "text/plain": [
       "4"
      ]
     },
     "execution_count": 43,
     "metadata": {},
     "output_type": "execute_result"
    }
   ],
   "source": [
    "len(x)"
   ]
  },
  {
   "cell_type": "code",
   "execution_count": 44,
   "id": "bbf54fa5-45c2-4b73-b935-3e308023e4b7",
   "metadata": {},
   "outputs": [
    {
     "name": "stdout",
     "output_type": "stream",
     "text": [
      "[8, 88, 'D', 'DEMON', 10, 'Kakashi']\n"
     ]
    }
   ],
   "source": [
    "Mixing=[8,88,'D',\"DEMON\",10,\"Kakashi\"]\n",
    "print(Mixing)"
   ]
  },
  {
   "cell_type": "code",
   "execution_count": 45,
   "id": "45d5eafc-0b11-4cb1-ad61-f689a683b0b3",
   "metadata": {},
   "outputs": [
    {
     "name": "stdout",
     "output_type": "stream",
     "text": [
      "[[10, 20], ['Demon', 'Kakashi']]\n"
     ]
    },
    {
     "data": {
      "text/plain": [
       "list"
      ]
     },
     "execution_count": 45,
     "metadata": {},
     "output_type": "execute_result"
    }
   ],
   "source": [
    "#Matrix(2D)\n",
    "Matrix=[[10,20],[\"Demon\",\"Kakashi\"]]\n",
    "print(Matrix)\n",
    "type(Matrix)\n"
   ]
  },
  {
   "cell_type": "markdown",
   "id": "fba5abd3-7f09-4431-a99f-78090e0de0c8",
   "metadata": {},
   "source": [
    "# Accessing Elements in List"
   ]
  },
  {
   "cell_type": "code",
   "execution_count": 47,
   "id": "ae9fa915-1945-48fd-82d7-1b4f2f7d15bb",
   "metadata": {},
   "outputs": [
    {
     "data": {
      "text/plain": [
       "88"
      ]
     },
     "execution_count": 47,
     "metadata": {},
     "output_type": "execute_result"
    }
   ],
   "source": [
    "Mixing[1]"
   ]
  },
  {
   "cell_type": "code",
   "execution_count": 48,
   "id": "2aa6dcc6-5ebb-448f-9cae-168addbb5edb",
   "metadata": {},
   "outputs": [
    {
     "data": {
      "text/plain": [
       "'Kakashi'"
      ]
     },
     "execution_count": 48,
     "metadata": {},
     "output_type": "execute_result"
    }
   ],
   "source": [
    "Mixing[-1]"
   ]
  },
  {
   "cell_type": "code",
   "execution_count": 49,
   "id": "16b88ae7-29bc-44e2-ad2e-724a1d9a361c",
   "metadata": {},
   "outputs": [
    {
     "data": {
      "text/plain": [
       "[8, 88, 'D']"
      ]
     },
     "execution_count": 49,
     "metadata": {},
     "output_type": "execute_result"
    }
   ],
   "source": [
    "Mixing[0:3]"
   ]
  },
  {
   "cell_type": "code",
   "execution_count": 50,
   "id": "d2a66231-b9e6-4b02-81c1-8282ee8ece97",
   "metadata": {},
   "outputs": [
    {
     "data": {
      "text/plain": [
       "['D', 'DEMON', 10, 'Kakashi']"
      ]
     },
     "execution_count": 50,
     "metadata": {},
     "output_type": "execute_result"
    }
   ],
   "source": [
    "Mixing[2:]"
   ]
  },
  {
   "cell_type": "code",
   "execution_count": 51,
   "id": "261182b0-d820-4426-af60-00dcde77b483",
   "metadata": {},
   "outputs": [
    {
     "data": {
      "text/plain": [
       "[8, 88]"
      ]
     },
     "execution_count": 51,
     "metadata": {},
     "output_type": "execute_result"
    }
   ],
   "source": [
    "Mixing[:2]"
   ]
  },
  {
   "cell_type": "code",
   "execution_count": 52,
   "id": "5f2370b5-7d7a-4fe6-926e-8e342b230dab",
   "metadata": {},
   "outputs": [
    {
     "name": "stdout",
     "output_type": "stream",
     "text": [
      "[3, 6, 'DEMON', 'Kakashi', 'Naruto', 90, -45]\n"
     ]
    }
   ],
   "source": [
    "All=[3,6,\"DEMON\",\"Kakashi\",\"Naruto\",90,-45]\n",
    "print(All)"
   ]
  },
  {
   "cell_type": "code",
   "execution_count": 53,
   "id": "412afb0c-99f1-4dd4-ad04-8e30f14dfe6d",
   "metadata": {},
   "outputs": [
    {
     "data": {
      "text/plain": [
       "['DEMON', 'Kakashi']"
      ]
     },
     "execution_count": 53,
     "metadata": {},
     "output_type": "execute_result"
    }
   ],
   "source": [
    "All[2:4]"
   ]
  },
  {
   "cell_type": "code",
   "execution_count": 54,
   "id": "ac172d31-198d-44ee-b4e2-8b2a8564d76d",
   "metadata": {},
   "outputs": [
    {
     "data": {
      "text/plain": [
       "['DEMON', 90]"
      ]
     },
     "execution_count": 54,
     "metadata": {},
     "output_type": "execute_result"
    }
   ],
   "source": [
    "All[2::3] #skip every three element of the list"
   ]
  },
  {
   "cell_type": "code",
   "execution_count": 55,
   "id": "d8b0c4e5-1062-41b1-be41-1e3e98edbc0e",
   "metadata": {},
   "outputs": [
    {
     "data": {
      "text/plain": [
       "[-45, 90, 'Naruto', 'Kakashi', 'DEMON', 6, 3]"
      ]
     },
     "execution_count": 55,
     "metadata": {},
     "output_type": "execute_result"
    }
   ],
   "source": [
    "All[::-1] # print in reverse order"
   ]
  },
  {
   "cell_type": "markdown",
   "id": "99cb6a2b-16ce-4c83-bcae-705cb91d4d1e",
   "metadata": {},
   "source": [
    "# Operations on List"
   ]
  },
  {
   "cell_type": "code",
   "execution_count": 57,
   "id": "d77faeba-8df1-4523-8516-e3e558cc3b28",
   "metadata": {},
   "outputs": [
    {
     "name": "stdout",
     "output_type": "stream",
     "text": [
      "[-1, 3, -1, 3, -1, 3, -1, 3, -1, 3, -1, 3, -1, 3, -1, 3, -1, 3, -1, 3, -1, 3, -1, 3, -1, 3, -1, 3, -1, 3]\n"
     ]
    }
   ],
   "source": [
    "c=[-1,3]*15\n",
    "print(c)\n"
   ]
  },
  {
   "cell_type": "code",
   "execution_count": 58,
   "id": "1dcc07d8-4f3c-4da4-a3f9-fc3ad104b230",
   "metadata": {},
   "outputs": [
    {
     "name": "stdout",
     "output_type": "stream",
     "text": [
      "[7, 0.78, 'Hi', 9]\n"
     ]
    }
   ],
   "source": [
    "print(x)"
   ]
  },
  {
   "cell_type": "code",
   "execution_count": 59,
   "id": "46b6d0e9-e3af-4182-a180-a789fb96bd06",
   "metadata": {},
   "outputs": [
    {
     "name": "stdout",
     "output_type": "stream",
     "text": [
      "[3, 6, 'DEMON', 'Kakashi', 'Naruto', 90, -45]\n"
     ]
    }
   ],
   "source": [
    "print(All)"
   ]
  },
  {
   "cell_type": "code",
   "execution_count": 60,
   "id": "8a3ab2fd-f87c-4b9d-a3cf-10e39bdc2d33",
   "metadata": {},
   "outputs": [],
   "source": [
    "Concat=x+All"
   ]
  },
  {
   "cell_type": "code",
   "execution_count": 61,
   "id": "97ac3d95-d7e2-48f8-9a3c-ea2d958ae3f7",
   "metadata": {},
   "outputs": [
    {
     "name": "stdout",
     "output_type": "stream",
     "text": [
      "[7, 0.78, 'Hi', 9, 3, 6, 'DEMON', 'Kakashi', 'Naruto', 90, -45]\n"
     ]
    }
   ],
   "source": [
    "print(Concat)"
   ]
  },
  {
   "cell_type": "code",
   "execution_count": 62,
   "id": "fab68a38-0424-4493-abe3-e8b6b5b749a6",
   "metadata": {},
   "outputs": [],
   "source": [
    "Num=[100,40,60,30,6]\n"
   ]
  },
  {
   "cell_type": "code",
   "execution_count": 63,
   "id": "e8b3ebfa-cead-4d52-a595-22ba158c5f07",
   "metadata": {},
   "outputs": [
    {
     "name": "stdout",
     "output_type": "stream",
     "text": [
      "[100, 40, 60, 30, 6]\n"
     ]
    }
   ],
   "source": [
    "print(Num)"
   ]
  },
  {
   "cell_type": "code",
   "execution_count": 64,
   "id": "a34aab06-e81a-454f-abca-0a4eb4aa82cc",
   "metadata": {},
   "outputs": [
    {
     "name": "stdout",
     "output_type": "stream",
     "text": [
      "100\n",
      "[40, 60, 30, 6]\n"
     ]
    }
   ],
   "source": [
    "F_elmt, *other=Num\n",
    "print(F_elmt)\n",
    "print(other)"
   ]
  },
  {
   "cell_type": "markdown",
   "id": "87a9f06d-2826-487f-9ebd-181b728b724b",
   "metadata": {},
   "source": [
    "# Methods in List"
   ]
  },
  {
   "cell_type": "code",
   "execution_count": 66,
   "id": "5f37d14a-1da5-45d6-8342-2794063ef80b",
   "metadata": {},
   "outputs": [],
   "source": [
    "number=[90,56,7,12,18,00,9]\n",
    "word=[\"Demon\",\"kakashi\",\"Madara uchiha\",\"Minato\",\"Tsunade\"]"
   ]
  },
  {
   "cell_type": "code",
   "execution_count": 67,
   "id": "e7479b00-67b7-490e-8fb0-4ddfa0b4c275",
   "metadata": {},
   "outputs": [
    {
     "name": "stdout",
     "output_type": "stream",
     "text": [
      "[90, 56, 7, 12, 18, 0, 9]\n"
     ]
    }
   ],
   "source": [
    "print(number)"
   ]
  },
  {
   "cell_type": "code",
   "execution_count": 68,
   "id": "42a01c7c-ae49-481a-849d-4bd222c43844",
   "metadata": {},
   "outputs": [],
   "source": [
    "#append method\n",
    "number.append(880)"
   ]
  },
  {
   "cell_type": "code",
   "execution_count": 69,
   "id": "4ee859d5-0959-48c9-b140-1796e9f85895",
   "metadata": {},
   "outputs": [
    {
     "name": "stdout",
     "output_type": "stream",
     "text": [
      "[90, 56, 7, 12, 18, 0, 9, 880]\n"
     ]
    }
   ],
   "source": [
    "print(number)"
   ]
  },
  {
   "cell_type": "code",
   "execution_count": 70,
   "id": "1bc2c3d7-7a2f-46f1-926a-5a8f6a5b5d73",
   "metadata": {},
   "outputs": [],
   "source": [
    "#extend method\n",
    "number.extend(word)"
   ]
  },
  {
   "cell_type": "code",
   "execution_count": 71,
   "id": "297b9907-3205-4277-899f-9943763cb8bf",
   "metadata": {},
   "outputs": [
    {
     "name": "stdout",
     "output_type": "stream",
     "text": [
      "['Demon', 'kakashi', 'Madara uchiha', 'Minato', 'Tsunade']\n"
     ]
    }
   ],
   "source": [
    "print(word)"
   ]
  },
  {
   "cell_type": "code",
   "execution_count": 72,
   "id": "ddeb21cb-d276-4b9e-bab1-d145e483046a",
   "metadata": {},
   "outputs": [
    {
     "name": "stdout",
     "output_type": "stream",
     "text": [
      "[90, 56, 7, 12, 18, 0, 9, 880, 'Demon', 'kakashi', 'Madara uchiha', 'Minato', 'Tsunade']\n"
     ]
    }
   ],
   "source": [
    "print(number)"
   ]
  },
  {
   "cell_type": "code",
   "execution_count": 73,
   "id": "76158826-d198-44aa-8a07-6b6862e75733",
   "metadata": {},
   "outputs": [],
   "source": [
    "number.insert(8,\"Naruto\")"
   ]
  },
  {
   "cell_type": "code",
   "execution_count": 74,
   "id": "0962ebdc-81ef-403d-aeab-9323d3253b55",
   "metadata": {},
   "outputs": [
    {
     "name": "stdout",
     "output_type": "stream",
     "text": [
      "[90, 56, 7, 12, 18, 0, 9, 880, 'Naruto', 'Demon', 'kakashi', 'Madara uchiha', 'Minato', 'Tsunade']\n"
     ]
    }
   ],
   "source": [
    "print(number)"
   ]
  },
  {
   "cell_type": "code",
   "execution_count": 75,
   "id": "2edfcf77-b2b1-446e-b9f2-6b104a95b9e5",
   "metadata": {},
   "outputs": [],
   "source": [
    "ninja=[\"is\",\"copy ninja\",\"and the sharingan\"]"
   ]
  },
  {
   "cell_type": "code",
   "execution_count": 76,
   "id": "78e9123e-2648-4029-88fa-7b69335480cd",
   "metadata": {},
   "outputs": [
    {
     "name": "stdout",
     "output_type": "stream",
     "text": [
      "['is', 'copy ninja', 'and the sharingan']\n"
     ]
    }
   ],
   "source": [
    "print(ninja)"
   ]
  },
  {
   "cell_type": "code",
   "execution_count": 77,
   "id": "b8c067a0-7f90-42cc-ab2e-e5b9cfa56d06",
   "metadata": {},
   "outputs": [],
   "source": [
    "ninja.insert(0,\"Kakashi Hatake\")"
   ]
  },
  {
   "cell_type": "code",
   "execution_count": 78,
   "id": "551c1805-9b0b-484b-b091-c2d1d11d4c7e",
   "metadata": {},
   "outputs": [
    {
     "name": "stdout",
     "output_type": "stream",
     "text": [
      "['Kakashi Hatake', 'is', 'copy ninja', 'and the sharingan']\n"
     ]
    }
   ],
   "source": [
    "print(ninja)"
   ]
  },
  {
   "cell_type": "code",
   "execution_count": 79,
   "id": "4d70ad8a-2840-42a1-96dc-276b3e89bd4f",
   "metadata": {},
   "outputs": [],
   "source": [
    "ninja.insert(2,\"Famous and coolest\")"
   ]
  },
  {
   "cell_type": "code",
   "execution_count": 80,
   "id": "767b505e-e26b-4707-87ac-7ef9261480fc",
   "metadata": {},
   "outputs": [
    {
     "name": "stdout",
     "output_type": "stream",
     "text": [
      "['Kakashi Hatake', 'is', 'Famous and coolest', 'copy ninja', 'and the sharingan']\n"
     ]
    }
   ],
   "source": [
    "print(ninja)"
   ]
  },
  {
   "cell_type": "code",
   "execution_count": 123,
   "id": "d39c2547-446d-47ee-9e92-1ee3fa7a1931",
   "metadata": {},
   "outputs": [],
   "source": [
    "number.remove(90)"
   ]
  },
  {
   "cell_type": "code",
   "execution_count": 125,
   "id": "0ab3f960-f4c4-485c-acf8-15aa2e8d5ae3",
   "metadata": {},
   "outputs": [
    {
     "name": "stdout",
     "output_type": "stream",
     "text": [
      "[56, 7, 12, 18, 0, 9, 880, 'Naruto', 'Demon', 'kakashi', 'Madara uchiha', 'Minato', 'Tsunade']\n"
     ]
    }
   ],
   "source": [
    "print(number)"
   ]
  },
  {
   "cell_type": "code",
   "execution_count": null,
   "id": "c510f9c2-bb39-4a94-a316-89e9064f3cb5",
   "metadata": {},
   "outputs": [],
   "source": [
    "#sort\n",
    "lst_1=['X','D','T','A','M','Z']\n",
    "lst_1.sort()"
   ]
  },
  {
   "cell_type": "code",
   "execution_count": null,
   "id": "46821f5a-62df-450d-832e-733d18f38e15",
   "metadata": {},
   "outputs": [],
   "source": [
    "print(lst_1)"
   ]
  },
  {
   "cell_type": "markdown",
   "id": "ca86f921-3034-4250-9970-e687032c88be",
   "metadata": {},
   "source": [
    "# Built-in functions in list"
   ]
  },
  {
   "cell_type": "code",
   "execution_count": null,
   "id": "285b1110-d7be-4411-9f3b-075700ab2096",
   "metadata": {},
   "outputs": [],
   "source": [
    "lst=[23,65,30,70,88,34,10,7]"
   ]
  },
  {
   "cell_type": "code",
   "execution_count": null,
   "id": "6034295b-5311-4789-a94d-db9b344b5779",
   "metadata": {},
   "outputs": [],
   "source": [
    "print(\"length of this list is\",len(lst))"
   ]
  },
  {
   "cell_type": "code",
   "execution_count": null,
   "id": "87b1332a-5b87-4902-9e86-86fdc5ccafca",
   "metadata": {},
   "outputs": [],
   "source": [
    "print(\"Minimium value in the list is\",min(lst))"
   ]
  },
  {
   "cell_type": "code",
   "execution_count": null,
   "id": "34782e7a-d17e-4043-b7ff-393412e88048",
   "metadata": {},
   "outputs": [],
   "source": [
    "print(\"Maximum value in this list is\",max(lst))"
   ]
  },
  {
   "cell_type": "code",
   "execution_count": null,
   "id": "073b1f15-30ef-4919-ae5e-3558063c6171",
   "metadata": {},
   "outputs": [],
   "source": [
    "sum(lst)"
   ]
  },
  {
   "cell_type": "code",
   "execution_count": null,
   "id": "75848896-0c07-4a24-b690-d9d1aee2c125",
   "metadata": {},
   "outputs": [],
   "source": [
    "Average=sum(lst)/len(lst)\n",
    "print(\"Average\",Average)"
   ]
  },
  {
   "cell_type": "code",
   "execution_count": null,
   "id": "0bbd62df-ac2a-4a45-97af-fc737179c61b",
   "metadata": {},
   "outputs": [],
   "source": []
  }
 ],
 "metadata": {
  "kernelspec": {
   "display_name": "Python 3 (ipykernel)",
   "language": "python",
   "name": "python3"
  },
  "language_info": {
   "codemirror_mode": {
    "name": "ipython",
    "version": 3
   },
   "file_extension": ".py",
   "mimetype": "text/x-python",
   "name": "python",
   "nbconvert_exporter": "python",
   "pygments_lexer": "ipython3",
   "version": "3.12.4"
  }
 },
 "nbformat": 4,
 "nbformat_minor": 5
}
