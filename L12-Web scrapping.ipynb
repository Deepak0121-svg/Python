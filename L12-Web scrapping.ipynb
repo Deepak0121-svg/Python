{
 "cells": [
  {
   "cell_type": "markdown",
   "id": "f9b06224-2a95-4129-8fd8-87d62ed2d758",
   "metadata": {},
   "source": [
    "# Web Scrapping"
   ]
  },
  {
   "cell_type": "code",
   "execution_count": 81,
   "id": "8855d406-5e1a-4b53-8f7e-9cc675bfd33e",
   "metadata": {},
   "outputs": [],
   "source": [
    "#import bs4 the beautifulSoup library\n",
    "from bs4 import BeautifulSoup"
   ]
  },
  {
   "cell_type": "code",
   "execution_count": 82,
   "id": "d53fbf8f-0fdd-44af-a2a8-87d2e4ef2154",
   "metadata": {},
   "outputs": [],
   "source": [
    "#create a html document\n",
    "doc_html=\"\"\"<!DOCTYPE html>\n",
    "<html>\n",
    "<head>\n",
    "    <title>Simple HTML</title>\n",
    "    <p>How was the day</p>\n",
    "   <b><!-- This is a comment --></b>\n",
    "\n",
    "</head>\n",
    "<body>\n",
    "    <h1>Hello, World!</h1>\n",
    "</body>\n",
    "</html>\n",
    "\"\"\""
   ]
  },
  {
   "cell_type": "code",
   "execution_count": 83,
   "id": "c817c436-b868-45ea-aa8d-498b0cea119b",
   "metadata": {},
   "outputs": [],
   "source": [
    "#parse it using HTML parser\n",
    "soup=BeautifulSoup(doc_html,'html.parser')"
   ]
  },
  {
   "cell_type": "code",
   "execution_count": 84,
   "id": "ef50f3bd-dfb1-4061-97f5-40efcfdebe82",
   "metadata": {},
   "outputs": [
    {
     "data": {
      "text/plain": [
       "bs4.BeautifulSoup"
      ]
     },
     "execution_count": 84,
     "metadata": {},
     "output_type": "execute_result"
    }
   ],
   "source": [
    "#view the soup type\n",
    "type(soup)"
   ]
  },
  {
   "cell_type": "code",
   "execution_count": 85,
   "id": "f8e24650-4fb3-44a6-9ccc-5f453411fc8a",
   "metadata": {},
   "outputs": [
    {
     "data": {
      "text/plain": [
       "<!DOCTYPE html>\n",
       "\n",
       "<html>\n",
       "<head>\n",
       "<title>Simple HTML</title>\n",
       "<p>How was the day</p>\n",
       "<b><!-- This is a comment --></b>\n",
       "</head>\n",
       "<body>\n",
       "<h1>Hello, World!</h1>\n",
       "</body>\n",
       "</html>"
      ]
     },
     "execution_count": 85,
     "metadata": {},
     "output_type": "execute_result"
    }
   ],
   "source": [
    "#viwe the soup object\n",
    "soup"
   ]
  },
  {
   "cell_type": "code",
   "execution_count": 86,
   "id": "3679ba4b-f42d-4bcb-91b8-4d66f589f336",
   "metadata": {},
   "outputs": [],
   "source": [
    "#create a tag object\n",
    "tag=soup.p\n"
   ]
  },
  {
   "cell_type": "code",
   "execution_count": 87,
   "id": "c6229164-c7fd-498d-8faa-8520d70f6c65",
   "metadata": {},
   "outputs": [
    {
     "data": {
      "text/plain": [
       "bs4.element.Tag"
      ]
     },
     "execution_count": 87,
     "metadata": {},
     "output_type": "execute_result"
    }
   ],
   "source": [
    "#type of tag\n",
    "type(tag)"
   ]
  },
  {
   "cell_type": "code",
   "execution_count": 88,
   "id": "f232d1a4-d95a-4893-90d2-b05322f89c95",
   "metadata": {},
   "outputs": [
    {
     "data": {
      "text/plain": [
       "<p>How was the day</p>"
      ]
     },
     "execution_count": 88,
     "metadata": {},
     "output_type": "execute_result"
    }
   ],
   "source": [
    "tag"
   ]
  },
  {
   "cell_type": "code",
   "execution_count": 89,
   "id": "b2179656-c57b-4cdb-a554-15dec0199624",
   "metadata": {},
   "outputs": [],
   "source": [
    "comment=soup.b.string"
   ]
  },
  {
   "cell_type": "code",
   "execution_count": 90,
   "id": "6c8e3707-1ed4-4c74-b3e3-873b5f4743ad",
   "metadata": {},
   "outputs": [
    {
     "data": {
      "text/plain": [
       "bs4.element.Comment"
      ]
     },
     "execution_count": 90,
     "metadata": {},
     "output_type": "execute_result"
    }
   ],
   "source": [
    "type(comment)"
   ]
  },
  {
   "cell_type": "code",
   "execution_count": 102,
   "id": "b8dcb311-6b81-46ef-b0d5-17f1caf98e4f",
   "metadata": {},
   "outputs": [
    {
     "data": {
      "text/plain": [
       "' This is a comment '"
      ]
     },
     "execution_count": 102,
     "metadata": {},
     "output_type": "execute_result"
    }
   ],
   "source": [
    "comment"
   ]
  },
  {
   "cell_type": "code",
   "execution_count": 104,
   "id": "df2b4a73-0de0-4883-8a3c-437375104bc5",
   "metadata": {},
   "outputs": [
    {
     "data": {
      "text/plain": [
       "'How was the day'"
      ]
     },
     "execution_count": 104,
     "metadata": {},
     "output_type": "execute_result"
    }
   ],
   "source": [
    "#view the tag value\n",
    "tag.string"
   ]
  },
  {
   "cell_type": "code",
   "execution_count": 106,
   "id": "848ca03a-8996-4299-b948-38d1c2b27d71",
   "metadata": {},
   "outputs": [
    {
     "data": {
      "text/plain": [
       "{}"
      ]
     },
     "execution_count": 106,
     "metadata": {},
     "output_type": "execute_result"
    }
   ],
   "source": [
    "tag.attrs"
   ]
  },
  {
   "cell_type": "code",
   "execution_count": 108,
   "id": "c87a6cb5-6815-40a1-9229-332f9fa682bc",
   "metadata": {},
   "outputs": [
    {
     "data": {
      "text/plain": [
       "bs4.element.NavigableString"
      ]
     },
     "execution_count": 108,
     "metadata": {},
     "output_type": "execute_result"
    }
   ],
   "source": [
    "#view the type of tag as navigable string\n",
    "type(tag.string)"
   ]
  },
  {
   "cell_type": "code",
   "execution_count": null,
   "id": "ea886110-aa7a-486b-9917-f02bab9ec059",
   "metadata": {},
   "outputs": [],
   "source": []
  },
  {
   "cell_type": "code",
   "execution_count": null,
   "id": "1eef53a5-29c4-4b02-8141-ee5eae462c51",
   "metadata": {},
   "outputs": [],
   "source": []
  },
  {
   "cell_type": "code",
   "execution_count": null,
   "id": "608525af-c1da-429a-9758-9a2a667eea53",
   "metadata": {},
   "outputs": [],
   "source": []
  }
 ],
 "metadata": {
  "kernelspec": {
   "display_name": "Python 3 (ipykernel)",
   "language": "python",
   "name": "python3"
  },
  "language_info": {
   "codemirror_mode": {
    "name": "ipython",
    "version": 3
   },
   "file_extension": ".py",
   "mimetype": "text/x-python",
   "name": "python",
   "nbconvert_exporter": "python",
   "pygments_lexer": "ipython3",
   "version": "3.12.4"
  }
 },
 "nbformat": 4,
 "nbformat_minor": 5
}
