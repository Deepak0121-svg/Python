{
 "cells": [
  {
   "cell_type": "markdown",
   "id": "fb2c3625-a880-46c4-a51e-c1ce6289568f",
   "metadata": {},
   "source": [
    "# Array\n"
   ]
  },
  {
   "cell_type": "code",
   "execution_count": 5,
   "id": "7caaff36-c855-4186-b3dc-ee23f53c03c2",
   "metadata": {},
   "outputs": [
    {
     "name": "stdout",
     "output_type": "stream",
     "text": [
      "array('i', [1, 21, 19, 405, 406])\n"
     ]
    }
   ],
   "source": [
    "from array import *\n",
    "arr=array('i',[1,21,19,405,406])\n",
    "print(arr)"
   ]
  },
  {
   "cell_type": "code",
   "execution_count": 6,
   "id": "1c8d5eea-3fc0-4539-86f1-031804b69465",
   "metadata": {},
   "outputs": [
    {
     "name": "stdout",
     "output_type": "stream",
     "text": [
      "(1759694552368, 5)\n"
     ]
    }
   ],
   "source": [
    "print(arr.buffer_info())"
   ]
  },
  {
   "cell_type": "code",
   "execution_count": 7,
   "id": "ed1c7072-9cef-4bb4-8192-6975e7295cb3",
   "metadata": {},
   "outputs": [
    {
     "name": "stdout",
     "output_type": "stream",
     "text": [
      "405\n"
     ]
    }
   ],
   "source": [
    "print(arr[3])"
   ]
  },
  {
   "cell_type": "code",
   "execution_count": 8,
   "id": "c5f8da67-bf99-4d0c-8227-414a080dea41",
   "metadata": {},
   "outputs": [
    {
     "name": "stdout",
     "output_type": "stream",
     "text": [
      "array('i', [1, 21, 19])\n"
     ]
    }
   ],
   "source": [
    "print(arr[0:3])"
   ]
  },
  {
   "cell_type": "code",
   "execution_count": 9,
   "id": "8a822105-cfb1-4341-b4d8-97e2e0f72175",
   "metadata": {},
   "outputs": [
    {
     "name": "stdout",
     "output_type": "stream",
     "text": [
      "1 21 19 405 406 \n"
     ]
    }
   ],
   "source": [
    "for j in arr:\n",
    "    print(j, end=\" \")\n",
    "print()"
   ]
  },
  {
   "cell_type": "code",
   "execution_count": 10,
   "id": "990af3a0-232c-4583-adc5-6ea5c79676b4",
   "metadata": {},
   "outputs": [
    {
     "name": "stdout",
     "output_type": "stream",
     "text": [
      "0 1\n",
      "1 21\n",
      "2 19\n",
      "3 405\n",
      "4 406\n"
     ]
    }
   ],
   "source": [
    "for pn in range(5):\n",
    "    print(pn,arr[pn])"
   ]
  },
  {
   "cell_type": "code",
   "execution_count": 11,
   "id": "cf90510d-27d0-450d-8c63-672553a0a45a",
   "metadata": {},
   "outputs": [
    {
     "name": "stdout",
     "output_type": "stream",
     "text": [
      "array('i', [406, 405, 19, 21, 1])\n"
     ]
    }
   ],
   "source": [
    "arr.reverse()\n",
    "print(arr)"
   ]
  },
  {
   "cell_type": "code",
   "execution_count": 12,
   "id": "b670795a-6e11-455e-a849-722f3e630f86",
   "metadata": {},
   "outputs": [
    {
     "ename": "ValueError",
     "evalue": "array.remove(x): x not in array",
     "output_type": "error",
     "traceback": [
      "\u001b[1;31m---------------------------------------------------------------------------\u001b[0m",
      "\u001b[1;31mValueError\u001b[0m                                Traceback (most recent call last)",
      "Cell \u001b[1;32mIn[12], line 1\u001b[0m\n\u001b[1;32m----> 1\u001b[0m arr\u001b[38;5;241m.\u001b[39mremove(\u001b[38;5;241m7\u001b[39m)\n\u001b[0;32m      2\u001b[0m arr\n",
      "\u001b[1;31mValueError\u001b[0m: array.remove(x): x not in array"
     ]
    }
   ],
   "source": [
    "arr.remove(7)\n",
    "arr"
   ]
  },
  {
   "cell_type": "code",
   "execution_count": null,
   "id": "2e9ec0cd-266c-4bde-9ee0-1c17ed11401a",
   "metadata": {},
   "outputs": [],
   "source": [
    "arr.append(7)\n",
    "arr"
   ]
  },
  {
   "cell_type": "code",
   "execution_count": null,
   "id": "9bf1f71b-a749-4fde-950b-403fbc5c95f6",
   "metadata": {},
   "outputs": [],
   "source": [
    "arr.index(405)\n"
   ]
  },
  {
   "cell_type": "code",
   "execution_count": null,
   "id": "bfc979f3-3956-4743-8354-ec7e8b07ca49",
   "metadata": {},
   "outputs": [],
   "source": [
    "from array import *\n",
    "con=array('i',[])\n",
    "v=int(input(\"Enter size of array\"))\n",
    "print(\"enter %d elements\"%v)\n",
    "for i in range(v):\n",
    "    n=int(input(\"Enter a number\"))\n",
    "    con.append(n)\n",
    "print(con)\n",
    "    "
   ]
  },
  {
   "cell_type": "markdown",
   "id": "117e0577-dfab-4ad7-8352-97dcd11457f3",
   "metadata": {},
   "source": [
    "# Functions"
   ]
  },
  {
   "cell_type": "code",
   "execution_count": null,
   "id": "063c3207-5e6e-4b92-8145-a005781b355a",
   "metadata": {},
   "outputs": [],
   "source": [
    "def call():\n",
    "    print(\"+91 9361136785\")\n",
    "call()"
   ]
  },
  {
   "cell_type": "code",
   "execution_count": 27,
   "id": "3aa7b0b2-89cd-4b30-950a-40ab302a2dd7",
   "metadata": {},
   "outputs": [
    {
     "name": "stdin",
     "output_type": "stream",
     "text": [
      "Enter a number: 10\n",
      "Enter a number: 9\n"
     ]
    },
    {
     "name": "stdout",
     "output_type": "stream",
     "text": [
      "The sum of a+b= 19\n"
     ]
    }
   ],
   "source": [
    "\n",
    "def add():\n",
    "\n",
    "    a=int(input(\"Enter a number:\"))\n",
    "    b=int(input(\"Enter a number:\"))\n",
    "    total=a+b\n",
    "    print(\"The sum of a+b=\",total)\n",
    "add()\n",
    "\n",
    "    "
   ]
  },
  {
   "cell_type": "code",
   "execution_count": 33,
   "id": "079da9b9-bde6-4f55-9f8a-04ccd5cfb015",
   "metadata": {},
   "outputs": [
    {
     "name": "stdout",
     "output_type": "stream",
     "text": [
      "Answer is 57\n"
     ]
    }
   ],
   "source": [
    "#access variable number of values\n",
    "def add(*a):\n",
    "    total=0\n",
    "    for i in a:\n",
    "        total=total+i\n",
    "    print(\"Answer is\",total)\n",
    "add(10,19,21,7)"
   ]
  },
  {
   "cell_type": "code",
   "execution_count": 9,
   "id": "79154238-d2dd-48cf-ba38-25b74b993868",
   "metadata": {},
   "outputs": [
    {
     "name": "stdin",
     "output_type": "stream",
     "text": [
      "Enter a number: 10\n",
      "Enter a number: 9\n"
     ]
    },
    {
     "name": "stdout",
     "output_type": "stream",
     "text": [
      "Total= 19\n",
      "The 1st value is 10\n",
      "The 2nd value is 9\n",
      "21\n"
     ]
    }
   ],
   "source": [
    "def add(a,b):\n",
    "    a=int(input(\"Enter a number:\"))\n",
    "    b=int(input(\"Enter a number:\"))\n",
    "    total=a+b\n",
    "    print(\"Total=\",total)\n",
    "    print(\"The 1st value is\",a)\n",
    "    print(\"The 2nd value is\",b)\n",
    "x=10\n",
    "y=11\n",
    "add(x,y)\n",
    "print(x+y)\n"
   ]
  },
  {
   "cell_type": "code",
   "execution_count": 13,
   "id": "58ab12bc-df2f-4c95-b90c-23247b366eff",
   "metadata": {},
   "outputs": [
    {
     "name": "stdout",
     "output_type": "stream",
     "text": [
      "[0, 1, 21, 405]\n",
      "[0, 19, 21, 405]\n"
     ]
    }
   ],
   "source": [
    "#Function using list\n",
    "def add(lst):\n",
    "    lst[1]=19\n",
    "lst=[0,1,21,405]\n",
    "print(lst)\n",
    "add(lst)\n",
    "print(lst)"
   ]
  },
  {
   "cell_type": "markdown",
   "id": "dc7def66-7c74-48b8-b8cd-e51fb576a025",
   "metadata": {},
   "source": [
    "# object and class"
   ]
  },
  {
   "cell_type": "code",
   "execution_count": 9,
   "id": "e0a1de95-810c-4a69-a692-bc696f0a9edf",
   "metadata": {},
   "outputs": [
    {
     "name": "stdout",
     "output_type": "stream",
     "text": [
      "Moon like cricket\n",
      "you are not eligible for vote\n"
     ]
    }
   ],
   "source": [
    "class person():\n",
    "    def __init__(self):\n",
    "        self.name=\"Moon\"\n",
    "        self.age=17\n",
    "        self.gender=\"Female\"\n",
    "    def cricket(self):\n",
    "        print(self.name,\"like cricket\")\n",
    "    def vote(self):\n",
    "        if self.age<18:\n",
    "            print(\"you are not eligible for vote\")\n",
    "        else:\n",
    "            print(\"You are eligible for vote\")\n",
    "obj=person()\n",
    "obj.cricket()\n",
    "obj.vote()\n"
   ]
  },
  {
   "cell_type": "code",
   "execution_count": 15,
   "id": "7fb8bdda-e645-4225-ab26-ee8d2f134256",
   "metadata": {},
   "outputs": [
    {
     "name": "stdout",
     "output_type": "stream",
     "text": [
      "275mph\n",
      "275mph\n"
     ]
    }
   ],
   "source": [
    "class Bike():\n",
    "    def speed(self):\n",
    "        print(\"275mph\")\n",
    "DUKE=Bike()\n",
    "R15=Bike()\n",
    "DUKE.speed()\n",
    "R15.speed()"
   ]
  },
  {
   "cell_type": "code",
   "execution_count": 23,
   "id": "1908c2a2-294a-4a47-87e9-68907ca0a05c",
   "metadata": {},
   "outputs": [
    {
     "name": "stdout",
     "output_type": "stream",
     "text": [
      "The color of Bike is Grey\n",
      "The price of Bike is 120000\n"
     ]
    }
   ],
   "source": [
    "class Bike():\n",
    "    def __init__(self,color,price):\n",
    "        self.color=color\n",
    "        self.price=price\n",
    "    def getcolor(self):\n",
    "        print(\"The color of Bike is\",self.color)\n",
    "    def getprice(self):\n",
    "        print(\"The price of Bike is\",self.price)\n",
    "DUKE=Bike(\"Grey\",250000)\n",
    "RX100=Bike(\"Black\",120000)\n",
    "\n",
    "DUKE.getcolor()\n",
    "RX100.getprice()\n",
    "    "
   ]
  },
  {
   "cell_type": "code",
   "execution_count": 45,
   "id": "b7f217fe-2630-4f0e-b26b-e6765ab94bef",
   "metadata": {},
   "outputs": [
    {
     "name": "stdout",
     "output_type": "stream",
     "text": [
      "The color of Bike is Orange\n",
      "The color of Bike is Black\n"
     ]
    }
   ],
   "source": [
    "#Encapsulation\n",
    "class Bike():\n",
    "    def __init__(self,color,speed):\n",
    "        self.color=color\n",
    "        self.speed=speed\n",
    "    def getcolor(self):\n",
    "        print(\"The color of Bike is\",self.color)\n",
    "    def setcolor(self,color):\n",
    "        self.color = color\n",
    "DUKE=Bike(\"Orange\",245000)\n",
    "R15=Bike(\"Violet\",180000)\n",
    "\n",
    "\n",
    "\n",
    "DUKE.getcolor()\n",
    "DUKE.setcolor(\"Black\")\n",
    "DUKE.getcolor()\n"
   ]
  },
  {
   "cell_type": "code",
   "execution_count": 67,
   "id": "f50da2ad-ef0a-4a2d-a822-f0c6299b830e",
   "metadata": {},
   "outputs": [
    {
     "name": "stdout",
     "output_type": "stream",
     "text": [
      "The color of Bike is Orange\n",
      "The color of Bike is Electro Black\n",
      "Payment over\n",
      "235\n"
     ]
    }
   ],
   "source": [
    "#Inheritance\n",
    "class Bike():\n",
    "    def __init__(self,color,speed):\n",
    "        self.color=color\n",
    "        self.speed=speed\n",
    "    def getcolor(self):\n",
    "        print(\"The color of Bike is\",self.color)\n",
    "    def setcolor(self,color):\n",
    "        self.color = color\n",
    "DUKE=Bike(\"Orange\",245000)\n",
    "R15=Bike(\"Violet\",180000)\n",
    "\n",
    "class DUKE250(Bike):#child class\n",
    "    def totalspeed(self):\n",
    "        print('235')\n",
    "    def payment(self):\n",
    "        print(\"Payment over\")\n",
    "class R15v3(Bike):\n",
    "    def speed(self):\n",
    "        print('180')\n",
    "DUKE390=DUKE250(\"Electro Black\",285000)\n",
    "\n",
    "DUKE.getcolor()\n",
    "DUKE390.getcolor()\n",
    "DUKE390.payment()\n",
    "DUKE390.totalspeed()\n",
    "\n",
    "        \n",
    "\n",
    "    "
   ]
  },
  {
   "cell_type": "code",
   "execution_count": 69,
   "id": "0123324c-b5ca-4eb6-870d-d4d88c59035d",
   "metadata": {},
   "outputs": [
    {
     "name": "stdout",
     "output_type": "stream",
     "text": [
      "DUKE: 235\n",
      "R15: 180\n"
     ]
    }
   ],
   "source": [
    "#polymorphism\n",
    "class Bike():#parent class\n",
    "    def __init__(self,name):\n",
    "        self.name=name\n",
    "class bike1(Bike):\n",
    "    def Total_speed(self):\n",
    "        print('235')\n",
    "class bike2(Bike):\n",
    "    def Total_speed(self):\n",
    "        print('180')\n",
    "Name=[bike1(\"DUKE\"),bike2(\"R15\")]\n",
    "\n",
    "for Brand in Name:\n",
    "    print(Brand.name+\":\",end=\" \")\n",
    "    Brand.Total_speed()"
   ]
  }
 ],
 "metadata": {
  "kernelspec": {
   "display_name": "Python 3 (ipykernel)",
   "language": "python",
   "name": "python3"
  },
  "language_info": {
   "codemirror_mode": {
    "name": "ipython",
    "version": 3
   },
   "file_extension": ".py",
   "mimetype": "text/x-python",
   "name": "python",
   "nbconvert_exporter": "python",
   "pygments_lexer": "ipython3",
   "version": "3.12.4"
  }
 },
 "nbformat": 4,
 "nbformat_minor": 5
}
